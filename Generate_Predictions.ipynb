{
 "cells": [
  {
   "cell_type": "markdown",
   "id": "34dc953c-20ff-4967-8875-412c98d90b1b",
   "metadata": {},
   "source": [
    "# Generate Results Prediction "
   ]
  },
  {
   "cell_type": "code",
   "execution_count": 19,
   "id": "c53788b9-a8b8-4e05-9f6a-869f1477d2de",
   "metadata": {},
   "outputs": [],
   "source": [
    "from ProcessingFunctions.TrainingDataProcessing import create_processed_training_df\n",
    "from ProcessingFunctions.FeatureEngineering import read_in_model, read_in_features\n",
    "\n",
    "import numpy as np\n",
    "import pandas as pd\n",
    "\n",
    "import pickle\n",
    "import warnings\n",
    "\n",
    "import matplotlib.pyplot as plt\n",
    "import seaborn as sns\n",
    "\n",
    "warnings.filterwarnings('ignore')"
   ]
  },
  {
   "cell_type": "code",
   "execution_count": 20,
   "id": "db9533c2-b79c-4405-8ef2-021932cdcd63",
   "metadata": {},
   "outputs": [],
   "source": [
    "test_data = create_processed_training_df('Test_Data/test_home_team_statistics_df.csv', 'Test_Data/test_away_team_statistics_df.csv', False)"
   ]
  },
  {
   "cell_type": "markdown",
   "id": "5e22eb0b-b0c4-466d-b793-588f7b04ae1b",
   "metadata": {},
   "source": [
    "## Making Predictions"
   ]
  },
  {
   "cell_type": "markdown",
   "id": "345f36d0-f082-483b-a897-03a8edcf15f0",
   "metadata": {},
   "source": [
    "In this section we will make the predictions on the test set:"
   ]
  },
  {
   "cell_type": "code",
   "execution_count": 21,
   "id": "f7074115-692e-4881-a7fb-e4d0ba4ac207",
   "metadata": {},
   "outputs": [
    {
     "name": "stdout",
     "output_type": "stream",
     "text": [
      "Model Features:\n",
      "\n",
      "NORMAL_SAMPLED_PREDICTED_GD\n",
      "DIFF_TEAM_SHOTS_ON_TARGET_season_sum\n",
      "WIN_PRIOR\n",
      "DIFF_FORM_5_last_match_sum\n",
      "DIFF_TEAM_SHOTS_TOTAL_5_last_match_sum\n",
      "DIFF_TEAM_GAME_WON_season_sum\n",
      "DIFF_TEAM_SHOTS_INSIDEBOX_season_sum\n",
      "DIFF_TEAM_CORNERS_season_sum\n",
      "DIFF_TEAM_PASSES_5_last_match_sum\n",
      "DIFF_TEAM_GAME_LOST_season_sum\n",
      "DIFF_TEAM_GAME_WON_5_last_match_sum\n",
      "DIFF_TEAM_GAME_DRAW_5_last_match_sum\n",
      "DIFF_TEAM_GAME_LOST_5_last_match_sum\n",
      "DIFF_TEAM_ATTACKS_season_sum\n",
      "DIFF_TEAM_PASSES_season_sum\n",
      "DIFF_TEAM_BALL_POSSESSION_season_average\n",
      "DIFF_TEAM_SUCCESSFUL_PASSES_5_last_match_sum\n",
      "DIFF_TEAM_CORNERS_5_last_match_sum\n",
      "DIFF_TEAM_GOALS_5_last_match_sum\n",
      "DIFF_TEAM_SAVES_season_sum\n",
      "DIFF_TEAM_SUCCESSFUL_PASSES_PERCENTAGE_season_average\n",
      "HOME_TEAM_GAME_WON_season_sum\n",
      "AWAY_TEAM_GAME_WON_season_sum\n",
      "DIFF_TEAM_SHOTS_TOTAL_season_sum\n",
      "DIFF_TEAM_SHOTS_INSIDEBOX_5_last_match_sum\n"
     ]
    }
   ],
   "source": [
    "prediction_model = read_in_model(\"WL_Model/WL_prediction.pkl\")\n",
    "prediction_features = read_in_features(\"WL_Model/WL_model_features.csv\")\n",
    "print('Model Features:\\n',*prediction_features, sep = '\\n')"
   ]
  },
  {
   "cell_type": "code",
   "execution_count": 22,
   "id": "9c81f061-b6fd-4041-80c8-75e083ff8be1",
   "metadata": {},
   "outputs": [],
   "source": [
    "test_data = test_data[prediction_features]\n",
    "test_predictions = prediction_model.predict(test_data)"
   ]
  },
  {
   "cell_type": "markdown",
   "id": "ee70ea93-9245-4410-86ad-476b1696ff30",
   "metadata": {},
   "source": [
    "## Formatting Predictions"
   ]
  },
  {
   "cell_type": "code",
   "execution_count": 23,
   "id": "ba31306d-7ee7-47bd-b632-dae1e2321616",
   "metadata": {},
   "outputs": [],
   "source": [
    "encoded_predictions = np.zeros((len(test_predictions), 3))\n",
    "for i, v in enumerate(test_predictions):\n",
    "    col = 0 if v==1 else 2\n",
    "    encoded_predictions[i, col] = 1"
   ]
  },
  {
   "cell_type": "code",
   "execution_count": 24,
   "id": "33953333-de91-4b09-af4b-1d86ced23e60",
   "metadata": {},
   "outputs": [],
   "source": [
    "pred_df = pd.DataFrame(encoded_predictions, columns = ['HOME_WINS','DRAW','AWAY_WINS']).astype('int')\n",
    "pred_df.index += 12303"
   ]
  },
  {
   "cell_type": "code",
   "execution_count": 25,
   "id": "4c743987-8641-4ed1-b480-44effe29e391",
   "metadata": {},
   "outputs": [
    {
     "data": {
      "text/html": [
       "<div>\n",
       "<style scoped>\n",
       "    .dataframe tbody tr th:only-of-type {\n",
       "        vertical-align: middle;\n",
       "    }\n",
       "\n",
       "    .dataframe tbody tr th {\n",
       "        vertical-align: top;\n",
       "    }\n",
       "\n",
       "    .dataframe thead th {\n",
       "        text-align: right;\n",
       "    }\n",
       "</style>\n",
       "<table border=\"1\" class=\"dataframe\">\n",
       "  <thead>\n",
       "    <tr style=\"text-align: right;\">\n",
       "      <th></th>\n",
       "      <th>HOME_WINS</th>\n",
       "      <th>DRAW</th>\n",
       "      <th>AWAY_WINS</th>\n",
       "    </tr>\n",
       "  </thead>\n",
       "  <tbody>\n",
       "    <tr>\n",
       "      <th>12303</th>\n",
       "      <td>1</td>\n",
       "      <td>0</td>\n",
       "      <td>0</td>\n",
       "    </tr>\n",
       "    <tr>\n",
       "      <th>12304</th>\n",
       "      <td>0</td>\n",
       "      <td>0</td>\n",
       "      <td>1</td>\n",
       "    </tr>\n",
       "    <tr>\n",
       "      <th>12305</th>\n",
       "      <td>1</td>\n",
       "      <td>0</td>\n",
       "      <td>0</td>\n",
       "    </tr>\n",
       "    <tr>\n",
       "      <th>12306</th>\n",
       "      <td>1</td>\n",
       "      <td>0</td>\n",
       "      <td>0</td>\n",
       "    </tr>\n",
       "    <tr>\n",
       "      <th>12307</th>\n",
       "      <td>0</td>\n",
       "      <td>0</td>\n",
       "      <td>1</td>\n",
       "    </tr>\n",
       "  </tbody>\n",
       "</table>\n",
       "</div>"
      ],
      "text/plain": [
       "       HOME_WINS  DRAW  AWAY_WINS\n",
       "12303          1     0          0\n",
       "12304          0     0          1\n",
       "12305          1     0          0\n",
       "12306          1     0          0\n",
       "12307          0     0          1"
      ]
     },
     "execution_count": 25,
     "metadata": {},
     "output_type": "execute_result"
    }
   ],
   "source": [
    "pred_df.head()"
   ]
  },
  {
   "cell_type": "code",
   "execution_count": 26,
   "id": "9acca220-dfd6-4b66-8898-e6d9e721173f",
   "metadata": {},
   "outputs": [],
   "source": [
    "pred_df.to_csv('Test_Data/Test_submission.csv')"
   ]
  },
  {
   "cell_type": "code",
   "execution_count": 27,
   "id": "66725616-1e3a-42b0-94e6-b89c78a633f3",
   "metadata": {},
   "outputs": [
    {
     "data": {
      "text/plain": [
       "HOME_WINS    18650\n",
       "DRAW             0\n",
       "AWAY_WINS     6718\n",
       "dtype: int64"
      ]
     },
     "execution_count": 27,
     "metadata": {},
     "output_type": "execute_result"
    }
   ],
   "source": [
    "pred_df.sum()"
   ]
  },
  {
   "cell_type": "code",
   "execution_count": null,
   "id": "550e431e-bfd7-4416-b242-474405e13e57",
   "metadata": {},
   "outputs": [],
   "source": []
  }
 ],
 "metadata": {
  "kernelspec": {
   "display_name": "Python 3 (ipykernel)",
   "language": "python",
   "name": "python3"
  },
  "language_info": {
   "codemirror_mode": {
    "name": "ipython",
    "version": 3
   },
   "file_extension": ".py",
   "mimetype": "text/x-python",
   "name": "python",
   "nbconvert_exporter": "python",
   "pygments_lexer": "ipython3",
   "version": "3.11.7"
  }
 },
 "nbformat": 4,
 "nbformat_minor": 5
}
