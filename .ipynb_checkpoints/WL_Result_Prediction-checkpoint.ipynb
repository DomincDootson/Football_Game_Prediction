{
 "cells": [
  {
   "cell_type": "markdown",
   "id": "139d8075-1871-4fa1-89f9-ae921645ae6a",
   "metadata": {},
   "source": [
    "# Result Prediction"
   ]
  },
  {
   "cell_type": "code",
   "execution_count": 1,
   "id": "b7dcaae8-68fc-47fd-b853-c68b7292f7de",
   "metadata": {},
   "outputs": [],
   "source": [
    "import pandas as pd\n",
    "import numpy as np\n",
    "\n",
    "from sklearn.preprocessing import MinMaxScaler\n",
    "from sklearn.model_selection import train_test_split, GridSearchCV\n",
    "from sklearn.linear_model import RidgeClassifier, LogisticRegression\n",
    "from sklearn.discriminant_analysis import LinearDiscriminantAnalysis, QuadraticDiscriminantAnalysis \n",
    "from sklearn.ensemble import RandomForestClassifier, AdaBoostClassifier, BaggingClassifier, GradientBoostingClassifier, VotingClassifier\n",
    "from sklearn.neural_network import MLPClassifier\n",
    "from sklearn.neighbors import KNeighborsClassifier\n",
    "from sklearn.feature_selection import RFE\n",
    "from sklearn.metrics import mean_squared_error, f1_score, accuracy_score, confusion_matrix \n",
    "\n",
    "import pickle\n",
    "import warnings\n",
    "\n",
    "import matplotlib.pyplot as plt\n",
    "import seaborn as sns\n",
    "\n",
    "warnings.filterwarnings('ignore')"
   ]
  },
  {
   "cell_type": "code",
   "execution_count": 2,
   "id": "d3d08734-2f41-408c-981b-29a3fc1b649c",
   "metadata": {},
   "outputs": [],
   "source": [
    "X, y = pd.read_csv('WL_Model/WL_train.csv'), pd.read_csv('Train_Data/Y_train.csv', index_col=0)\n",
    "y = y.loc[X.index] # This is our target"
   ]
  },
  {
   "cell_type": "markdown",
   "id": "7f8e4abf-c732-4dc4-873a-3b5be36de985",
   "metadata": {},
   "source": [
    "We will encode the y set, so that \n",
    "\n",
    "- -1: Loss\n",
    "- 0: Draw\n",
    "- 1: Win"
   ]
  },
  {
   "cell_type": "code",
   "execution_count": 3,
   "id": "5f6ca77d-18d8-4f09-a660-71854f1b3b18",
   "metadata": {},
   "outputs": [
    {
     "data": {
      "text/html": [
       "<div>\n",
       "<style scoped>\n",
       "    .dataframe tbody tr th:only-of-type {\n",
       "        vertical-align: middle;\n",
       "    }\n",
       "\n",
       "    .dataframe tbody tr th {\n",
       "        vertical-align: top;\n",
       "    }\n",
       "\n",
       "    .dataframe thead th {\n",
       "        text-align: right;\n",
       "    }\n",
       "</style>\n",
       "<table border=\"1\" class=\"dataframe\">\n",
       "  <thead>\n",
       "    <tr style=\"text-align: right;\">\n",
       "      <th></th>\n",
       "      <th>RESULT</th>\n",
       "    </tr>\n",
       "  </thead>\n",
       "  <tbody>\n",
       "    <tr>\n",
       "      <th>0</th>\n",
       "      <td>-1</td>\n",
       "    </tr>\n",
       "    <tr>\n",
       "      <th>1</th>\n",
       "      <td>0</td>\n",
       "    </tr>\n",
       "    <tr>\n",
       "      <th>2</th>\n",
       "      <td>-1</td>\n",
       "    </tr>\n",
       "    <tr>\n",
       "      <th>3</th>\n",
       "      <td>1</td>\n",
       "    </tr>\n",
       "    <tr>\n",
       "      <th>4</th>\n",
       "      <td>0</td>\n",
       "    </tr>\n",
       "  </tbody>\n",
       "</table>\n",
       "</div>"
      ],
      "text/plain": [
       "   RESULT\n",
       "0      -1\n",
       "1       0\n",
       "2      -1\n",
       "3       1\n",
       "4       0"
      ]
     },
     "execution_count": 3,
     "metadata": {},
     "output_type": "execute_result"
    }
   ],
   "source": [
    "mappings = {'AWAY_WINS' : -1, 'DRAW' : 0, 'HOME_WINS' : 1}\n",
    "y = pd.from_dummies(y)[''].apply(lambda x : mappings[x])\n",
    "y.head()\n",
    "\n",
    "y = pd.DataFrame(y)\n",
    "y.columns = ['RESULT']\n",
    "y['RESULT']=y['RESULT'].astype('int')\n",
    "y.head()"
   ]
  },
  {
   "cell_type": "code",
   "execution_count": 4,
   "id": "b9d8f545-c87b-41a6-a8ee-3aab1f2a7a94",
   "metadata": {},
   "outputs": [],
   "source": [
    "X_train, X_test, y_train, y_test = train_test_split(X, y, test_size=0.2, random_state = 48) # This random state means that we use the same test/train/valid set as GD prediction\n",
    "X_train, X_valid, y_train, y_valid = train_test_split(X_train, y_train, test_size=0.2, random_state = 48)"
   ]
  },
  {
   "cell_type": "markdown",
   "id": "4cfcd605-6cef-4889-8fad-d42b3c33b860",
   "metadata": {},
   "source": [
    "## Feature Selection"
   ]
  },
  {
   "cell_type": "markdown",
   "id": "fd79be6a-224a-49fb-b640-7aca22753f07",
   "metadata": {},
   "source": [
    "So, we now need to select the feature upon which we will train our model. At the moment, I am unsure what the best approach will be: do we predict WDL or just WL? I will therefore apply stepwise selection of both sets of data to figure out which are the best features to use (hopefully there will be some overlap). \n",
    "\n",
    "Before we do that, however, we will play the same trick as before: we create an upsampled data set."
   ]
  },
  {
   "cell_type": "code",
   "execution_count": 5,
   "id": "82a99b39-a3be-410a-8089-2de816826839",
   "metadata": {},
   "outputs": [
    {
     "data": {
      "text/plain": [
       "RESULT\n",
       " 1    3409\n",
       "-1    2387\n",
       " 0    2077\n",
       "Name: count, dtype: int64"
      ]
     },
     "execution_count": 5,
     "metadata": {},
     "output_type": "execute_result"
    }
   ],
   "source": [
    "y_train['RESULT'].value_counts()"
   ]
  },
  {
   "cell_type": "markdown",
   "id": "52ba72c2-4308-4a7f-9749-95f357ba4666",
   "metadata": {},
   "source": [
    "As we will want to predict WL and WLD, we will create seperate training sets. "
   ]
  },
  {
   "cell_type": "code",
   "execution_count": 6,
   "id": "39b53cf7-d6c5-4c70-849b-293a9d28f161",
   "metadata": {},
   "outputs": [
    {
     "data": {
      "text/html": [
       "<div>\n",
       "<style scoped>\n",
       "    .dataframe tbody tr th:only-of-type {\n",
       "        vertical-align: middle;\n",
       "    }\n",
       "\n",
       "    .dataframe tbody tr th {\n",
       "        vertical-align: top;\n",
       "    }\n",
       "\n",
       "    .dataframe thead th {\n",
       "        text-align: right;\n",
       "    }\n",
       "</style>\n",
       "<table border=\"1\" class=\"dataframe\">\n",
       "  <thead>\n",
       "    <tr style=\"text-align: right;\">\n",
       "      <th></th>\n",
       "      <th>HOME_TEAM_INJURIES_season_sum</th>\n",
       "      <th>HOME_TEAM_GAME_WON_season_sum</th>\n",
       "      <th>HOME_TEAM_GAME_DRAW_season_sum</th>\n",
       "      <th>HOME_TEAM_GAME_LOST_season_sum</th>\n",
       "      <th>HOME_TEAM_SHOTS_TOTAL_season_std</th>\n",
       "      <th>HOME_TEAM_SHOTS_INSIDEBOX_season_std</th>\n",
       "      <th>HOME_TEAM_SHOTS_OFF_TARGET_season_std</th>\n",
       "      <th>HOME_TEAM_SHOTS_ON_TARGET_season_std</th>\n",
       "      <th>HOME_TEAM_SHOTS_OUTSIDEBOX_season_std</th>\n",
       "      <th>HOME_TEAM_PASSES_season_std</th>\n",
       "      <th>...</th>\n",
       "      <th>DIFF_TEAM_GAME_LOST_5_last_match_sum</th>\n",
       "      <th>DIFF_TEAM_SUCCESSFUL_PASSES_PERCENTAGE_5_last_match_average</th>\n",
       "      <th>DIFF_TEAM_BALL_POSSESSION_5_last_match_average</th>\n",
       "      <th>WIN_PRIOR</th>\n",
       "      <th>DRAW_PRIOR</th>\n",
       "      <th>LOST_PRIOR</th>\n",
       "      <th>DIFF_GOOD_SHOT_season_sum</th>\n",
       "      <th>DIFF_GOOD_SHOT_5_last_match_sum</th>\n",
       "      <th>DIFF_FORM_5_last_match_sum</th>\n",
       "      <th>NORMAL_SAMPLED_PREDICTED_GD</th>\n",
       "    </tr>\n",
       "  </thead>\n",
       "  <tbody>\n",
       "    <tr>\n",
       "      <th>count</th>\n",
       "      <td>5796.000000</td>\n",
       "      <td>5796.000000</td>\n",
       "      <td>5796.000000</td>\n",
       "      <td>5796.000000</td>\n",
       "      <td>5796.000000</td>\n",
       "      <td>5796.000000</td>\n",
       "      <td>5796.000000</td>\n",
       "      <td>5796.000000</td>\n",
       "      <td>5796.000000</td>\n",
       "      <td>5796.000000</td>\n",
       "      <td>...</td>\n",
       "      <td>5796.000000</td>\n",
       "      <td>5796.000000</td>\n",
       "      <td>5796.000000</td>\n",
       "      <td>5796.000000</td>\n",
       "      <td>5796.000000</td>\n",
       "      <td>5796.000000</td>\n",
       "      <td>5796.000000</td>\n",
       "      <td>5796.000000</td>\n",
       "      <td>5796.000000</td>\n",
       "      <td>5796.000000</td>\n",
       "    </tr>\n",
       "    <tr>\n",
       "      <th>mean</th>\n",
       "      <td>4.131203</td>\n",
       "      <td>4.228283</td>\n",
       "      <td>4.544569</td>\n",
       "      <td>4.646764</td>\n",
       "      <td>4.231871</td>\n",
       "      <td>4.161379</td>\n",
       "      <td>4.047964</td>\n",
       "      <td>3.902519</td>\n",
       "      <td>3.925650</td>\n",
       "      <td>4.167007</td>\n",
       "      <td>...</td>\n",
       "      <td>5.040966</td>\n",
       "      <td>4.988469</td>\n",
       "      <td>4.960202</td>\n",
       "      <td>1.142156</td>\n",
       "      <td>1.036506</td>\n",
       "      <td>1.128329</td>\n",
       "      <td>5.013516</td>\n",
       "      <td>4.977776</td>\n",
       "      <td>5.121805</td>\n",
       "      <td>4.458030</td>\n",
       "    </tr>\n",
       "    <tr>\n",
       "      <th>std</th>\n",
       "      <td>2.687886</td>\n",
       "      <td>2.904821</td>\n",
       "      <td>2.900582</td>\n",
       "      <td>2.932404</td>\n",
       "      <td>2.787886</td>\n",
       "      <td>2.617733</td>\n",
       "      <td>2.803999</td>\n",
       "      <td>2.764558</td>\n",
       "      <td>2.617348</td>\n",
       "      <td>2.649725</td>\n",
       "      <td>...</td>\n",
       "      <td>2.079329</td>\n",
       "      <td>1.869084</td>\n",
       "      <td>1.943016</td>\n",
       "      <td>1.250944</td>\n",
       "      <td>0.915414</td>\n",
       "      <td>1.211432</td>\n",
       "      <td>1.302311</td>\n",
       "      <td>1.277886</td>\n",
       "      <td>1.359175</td>\n",
       "      <td>1.514807</td>\n",
       "    </tr>\n",
       "    <tr>\n",
       "      <th>min</th>\n",
       "      <td>0.000000</td>\n",
       "      <td>0.000000</td>\n",
       "      <td>0.000000</td>\n",
       "      <td>0.000000</td>\n",
       "      <td>0.000000</td>\n",
       "      <td>0.000000</td>\n",
       "      <td>0.000000</td>\n",
       "      <td>0.000000</td>\n",
       "      <td>0.000000</td>\n",
       "      <td>0.000000</td>\n",
       "      <td>...</td>\n",
       "      <td>0.000000</td>\n",
       "      <td>0.000000</td>\n",
       "      <td>0.000000</td>\n",
       "      <td>0.000000</td>\n",
       "      <td>0.000000</td>\n",
       "      <td>0.000000</td>\n",
       "      <td>0.486883</td>\n",
       "      <td>0.491021</td>\n",
       "      <td>0.000000</td>\n",
       "      <td>0.000000</td>\n",
       "    </tr>\n",
       "    <tr>\n",
       "      <th>25%</th>\n",
       "      <td>2.000000</td>\n",
       "      <td>2.000000</td>\n",
       "      <td>2.000000</td>\n",
       "      <td>2.000000</td>\n",
       "      <td>2.000000</td>\n",
       "      <td>2.000000</td>\n",
       "      <td>2.000000</td>\n",
       "      <td>2.000000</td>\n",
       "      <td>2.000000</td>\n",
       "      <td>2.000000</td>\n",
       "      <td>...</td>\n",
       "      <td>3.500000</td>\n",
       "      <td>4.000000</td>\n",
       "      <td>3.500000</td>\n",
       "      <td>0.227273</td>\n",
       "      <td>0.303030</td>\n",
       "      <td>0.226244</td>\n",
       "      <td>4.177035</td>\n",
       "      <td>4.124212</td>\n",
       "      <td>4.248436</td>\n",
       "      <td>3.506430</td>\n",
       "    </tr>\n",
       "    <tr>\n",
       "      <th>50%</th>\n",
       "      <td>4.153921</td>\n",
       "      <td>4.000000</td>\n",
       "      <td>5.000000</td>\n",
       "      <td>5.000000</td>\n",
       "      <td>4.000000</td>\n",
       "      <td>4.000000</td>\n",
       "      <td>4.000000</td>\n",
       "      <td>4.000000</td>\n",
       "      <td>3.899202</td>\n",
       "      <td>4.000000</td>\n",
       "      <td>...</td>\n",
       "      <td>5.000000</td>\n",
       "      <td>4.962532</td>\n",
       "      <td>5.000000</td>\n",
       "      <td>0.769231</td>\n",
       "      <td>0.857143</td>\n",
       "      <td>0.769231</td>\n",
       "      <td>5.013790</td>\n",
       "      <td>4.961663</td>\n",
       "      <td>5.131535</td>\n",
       "      <td>4.461420</td>\n",
       "    </tr>\n",
       "    <tr>\n",
       "      <th>75%</th>\n",
       "      <td>6.000000</td>\n",
       "      <td>6.000000</td>\n",
       "      <td>6.000000</td>\n",
       "      <td>7.000000</td>\n",
       "      <td>6.000000</td>\n",
       "      <td>6.000000</td>\n",
       "      <td>6.000000</td>\n",
       "      <td>6.000000</td>\n",
       "      <td>5.000000</td>\n",
       "      <td>6.000000</td>\n",
       "      <td>...</td>\n",
       "      <td>6.500000</td>\n",
       "      <td>6.000000</td>\n",
       "      <td>6.500000</td>\n",
       "      <td>1.666667</td>\n",
       "      <td>1.587302</td>\n",
       "      <td>1.666667</td>\n",
       "      <td>5.859366</td>\n",
       "      <td>5.775320</td>\n",
       "      <td>6.006427</td>\n",
       "      <td>5.418821</td>\n",
       "    </tr>\n",
       "    <tr>\n",
       "      <th>max</th>\n",
       "      <td>10.000000</td>\n",
       "      <td>10.000000</td>\n",
       "      <td>10.000000</td>\n",
       "      <td>10.000000</td>\n",
       "      <td>10.000000</td>\n",
       "      <td>10.000000</td>\n",
       "      <td>10.000000</td>\n",
       "      <td>10.000000</td>\n",
       "      <td>10.000000</td>\n",
       "      <td>10.000000</td>\n",
       "      <td>...</td>\n",
       "      <td>10.000000</td>\n",
       "      <td>10.000000</td>\n",
       "      <td>10.000000</td>\n",
       "      <td>10.000000</td>\n",
       "      <td>6.944444</td>\n",
       "      <td>9.000000</td>\n",
       "      <td>9.032123</td>\n",
       "      <td>9.033172</td>\n",
       "      <td>9.264531</td>\n",
       "      <td>10.000000</td>\n",
       "    </tr>\n",
       "  </tbody>\n",
       "</table>\n",
       "<p>8 rows × 153 columns</p>\n",
       "</div>"
      ],
      "text/plain": [
       "       HOME_TEAM_INJURIES_season_sum  HOME_TEAM_GAME_WON_season_sum  \\\n",
       "count                    5796.000000                    5796.000000   \n",
       "mean                        4.131203                       4.228283   \n",
       "std                         2.687886                       2.904821   \n",
       "min                         0.000000                       0.000000   \n",
       "25%                         2.000000                       2.000000   \n",
       "50%                         4.153921                       4.000000   \n",
       "75%                         6.000000                       6.000000   \n",
       "max                        10.000000                      10.000000   \n",
       "\n",
       "       HOME_TEAM_GAME_DRAW_season_sum  HOME_TEAM_GAME_LOST_season_sum  \\\n",
       "count                     5796.000000                     5796.000000   \n",
       "mean                         4.544569                        4.646764   \n",
       "std                          2.900582                        2.932404   \n",
       "min                          0.000000                        0.000000   \n",
       "25%                          2.000000                        2.000000   \n",
       "50%                          5.000000                        5.000000   \n",
       "75%                          6.000000                        7.000000   \n",
       "max                         10.000000                       10.000000   \n",
       "\n",
       "       HOME_TEAM_SHOTS_TOTAL_season_std  HOME_TEAM_SHOTS_INSIDEBOX_season_std  \\\n",
       "count                       5796.000000                           5796.000000   \n",
       "mean                           4.231871                              4.161379   \n",
       "std                            2.787886                              2.617733   \n",
       "min                            0.000000                              0.000000   \n",
       "25%                            2.000000                              2.000000   \n",
       "50%                            4.000000                              4.000000   \n",
       "75%                            6.000000                              6.000000   \n",
       "max                           10.000000                             10.000000   \n",
       "\n",
       "       HOME_TEAM_SHOTS_OFF_TARGET_season_std  \\\n",
       "count                            5796.000000   \n",
       "mean                                4.047964   \n",
       "std                                 2.803999   \n",
       "min                                 0.000000   \n",
       "25%                                 2.000000   \n",
       "50%                                 4.000000   \n",
       "75%                                 6.000000   \n",
       "max                                10.000000   \n",
       "\n",
       "       HOME_TEAM_SHOTS_ON_TARGET_season_std  \\\n",
       "count                           5796.000000   \n",
       "mean                               3.902519   \n",
       "std                                2.764558   \n",
       "min                                0.000000   \n",
       "25%                                2.000000   \n",
       "50%                                4.000000   \n",
       "75%                                6.000000   \n",
       "max                               10.000000   \n",
       "\n",
       "       HOME_TEAM_SHOTS_OUTSIDEBOX_season_std  HOME_TEAM_PASSES_season_std  \\\n",
       "count                            5796.000000                  5796.000000   \n",
       "mean                                3.925650                     4.167007   \n",
       "std                                 2.617348                     2.649725   \n",
       "min                                 0.000000                     0.000000   \n",
       "25%                                 2.000000                     2.000000   \n",
       "50%                                 3.899202                     4.000000   \n",
       "75%                                 5.000000                     6.000000   \n",
       "max                                10.000000                    10.000000   \n",
       "\n",
       "       ...  DIFF_TEAM_GAME_LOST_5_last_match_sum  \\\n",
       "count  ...                           5796.000000   \n",
       "mean   ...                              5.040966   \n",
       "std    ...                              2.079329   \n",
       "min    ...                              0.000000   \n",
       "25%    ...                              3.500000   \n",
       "50%    ...                              5.000000   \n",
       "75%    ...                              6.500000   \n",
       "max    ...                             10.000000   \n",
       "\n",
       "       DIFF_TEAM_SUCCESSFUL_PASSES_PERCENTAGE_5_last_match_average  \\\n",
       "count                                        5796.000000             \n",
       "mean                                            4.988469             \n",
       "std                                             1.869084             \n",
       "min                                             0.000000             \n",
       "25%                                             4.000000             \n",
       "50%                                             4.962532             \n",
       "75%                                             6.000000             \n",
       "max                                            10.000000             \n",
       "\n",
       "       DIFF_TEAM_BALL_POSSESSION_5_last_match_average    WIN_PRIOR  \\\n",
       "count                                     5796.000000  5796.000000   \n",
       "mean                                         4.960202     1.142156   \n",
       "std                                          1.943016     1.250944   \n",
       "min                                          0.000000     0.000000   \n",
       "25%                                          3.500000     0.227273   \n",
       "50%                                          5.000000     0.769231   \n",
       "75%                                          6.500000     1.666667   \n",
       "max                                         10.000000    10.000000   \n",
       "\n",
       "        DRAW_PRIOR   LOST_PRIOR  DIFF_GOOD_SHOT_season_sum  \\\n",
       "count  5796.000000  5796.000000                5796.000000   \n",
       "mean      1.036506     1.128329                   5.013516   \n",
       "std       0.915414     1.211432                   1.302311   \n",
       "min       0.000000     0.000000                   0.486883   \n",
       "25%       0.303030     0.226244                   4.177035   \n",
       "50%       0.857143     0.769231                   5.013790   \n",
       "75%       1.587302     1.666667                   5.859366   \n",
       "max       6.944444     9.000000                   9.032123   \n",
       "\n",
       "       DIFF_GOOD_SHOT_5_last_match_sum  DIFF_FORM_5_last_match_sum  \\\n",
       "count                      5796.000000                 5796.000000   \n",
       "mean                          4.977776                    5.121805   \n",
       "std                           1.277886                    1.359175   \n",
       "min                           0.491021                    0.000000   \n",
       "25%                           4.124212                    4.248436   \n",
       "50%                           4.961663                    5.131535   \n",
       "75%                           5.775320                    6.006427   \n",
       "max                           9.033172                    9.264531   \n",
       "\n",
       "       NORMAL_SAMPLED_PREDICTED_GD  \n",
       "count                  5796.000000  \n",
       "mean                      4.458030  \n",
       "std                       1.514807  \n",
       "min                       0.000000  \n",
       "25%                       3.506430  \n",
       "50%                       4.461420  \n",
       "75%                       5.418821  \n",
       "max                      10.000000  \n",
       "\n",
       "[8 rows x 153 columns]"
      ]
     },
     "metadata": {},
     "output_type": "display_data"
    },
    {
     "data": {
      "text/html": [
       "<div>\n",
       "<style scoped>\n",
       "    .dataframe tbody tr th:only-of-type {\n",
       "        vertical-align: middle;\n",
       "    }\n",
       "\n",
       "    .dataframe tbody tr th {\n",
       "        vertical-align: top;\n",
       "    }\n",
       "\n",
       "    .dataframe thead th {\n",
       "        text-align: right;\n",
       "    }\n",
       "</style>\n",
       "<table border=\"1\" class=\"dataframe\">\n",
       "  <thead>\n",
       "    <tr style=\"text-align: right;\">\n",
       "      <th></th>\n",
       "      <th>RESULT</th>\n",
       "    </tr>\n",
       "  </thead>\n",
       "  <tbody>\n",
       "    <tr>\n",
       "      <th>count</th>\n",
       "      <td>5796.000000</td>\n",
       "    </tr>\n",
       "    <tr>\n",
       "      <th>mean</th>\n",
       "      <td>0.176329</td>\n",
       "    </tr>\n",
       "    <tr>\n",
       "      <th>std</th>\n",
       "      <td>0.984416</td>\n",
       "    </tr>\n",
       "    <tr>\n",
       "      <th>min</th>\n",
       "      <td>-1.000000</td>\n",
       "    </tr>\n",
       "    <tr>\n",
       "      <th>25%</th>\n",
       "      <td>-1.000000</td>\n",
       "    </tr>\n",
       "    <tr>\n",
       "      <th>50%</th>\n",
       "      <td>1.000000</td>\n",
       "    </tr>\n",
       "    <tr>\n",
       "      <th>75%</th>\n",
       "      <td>1.000000</td>\n",
       "    </tr>\n",
       "    <tr>\n",
       "      <th>max</th>\n",
       "      <td>1.000000</td>\n",
       "    </tr>\n",
       "  </tbody>\n",
       "</table>\n",
       "</div>"
      ],
      "text/plain": [
       "            RESULT\n",
       "count  5796.000000\n",
       "mean      0.176329\n",
       "std       0.984416\n",
       "min      -1.000000\n",
       "25%      -1.000000\n",
       "50%       1.000000\n",
       "75%       1.000000\n",
       "max       1.000000"
      ]
     },
     "metadata": {},
     "output_type": "display_data"
    }
   ],
   "source": [
    "X_train_WL = X_train.loc[y_train['RESULT'] != 0]\n",
    "y_train_WL = y_train.loc[y_train['RESULT'] != 0]\n",
    "display(X_train_WL.describe())\n",
    "display(y_train_WL.describe())"
   ]
  },
  {
   "cell_type": "markdown",
   "id": "50d86bdf-6099-47b9-be3e-c5a0af7e6700",
   "metadata": {},
   "source": [
    "### Feature Selection with Wins & Losses"
   ]
  },
  {
   "cell_type": "code",
   "execution_count": 7,
   "id": "72de8c8b-1c80-4d1b-bea8-d78b668672bb",
   "metadata": {},
   "outputs": [],
   "source": [
    "def stepwise_selection(p, model, X_train, y_train):\n",
    "    '''Uses backwards selection to select the p best features'''\n",
    "    selector = RFE(model, n_features_to_select=1)\n",
    "    selector = selector.fit(X_train, y_train)\n",
    "    \n",
    "    lst = [(r, c) for r, c in zip(selector.ranking_, X_train.columns)]\n",
    "    lst.sort(key = lambda x : x[0])\n",
    "    \n",
    "    return [x[1] for x in lst[:p]], selector.estimator_"
   ]
  },
  {
   "cell_type": "code",
   "execution_count": 8,
   "id": "da81eb76-03ce-4732-a34c-b78e4b55c9e2",
   "metadata": {},
   "outputs": [],
   "source": [
    "def stepwise_selection_plotting(features, X_train, y_train, X_valid, y_valid, measure = accuracy_score, train_score_weight = 0.74):\n",
    "    train_score, valid_score = [], []\n",
    "    for p in range(len(features)):\n",
    "        model = RidgeClassifier()\n",
    "        model.fit(X_train[features[:p+1]], y_train)\n",
    "\n",
    "        train_score.append(train_score_weight*measure(y_train, model.predict(X_train[features[:p+1]])))\n",
    "        valid_score.append(measure(y_valid, model.predict(X_valid[features[:p+1]])))\n",
    "\n",
    "    x = [f'{f}, {i}' for i, f in enumerate(features)]\n",
    "    plt.plot(x, train_score, label = 'Training Score')\n",
    "    plt.plot(x, valid_score, label = 'Validation Score')\n",
    "    plt.ylabel('Score')    \n",
    "    plt.xticks(rotation = 90)\n",
    "    plt.legend()\n",
    "    plt.show()"
   ]
  },
  {
   "cell_type": "markdown",
   "id": "51692f6a-f7fb-49ce-9137-7ddb71aa47fa",
   "metadata": {},
   "source": [
    "Using these two functions we will obtain the most relevant features using a simiple linear classifier"
   ]
  },
  {
   "cell_type": "code",
   "execution_count": 12,
   "id": "dd3d8b44-70b3-4776-afb9-bbeab5b10f81",
   "metadata": {},
   "outputs": [
    {
     "data": {
      "image/png": "[encoded data removed]",
      "text/plain": [
       "<Figure size 640x480 with 1 Axes>"
      ]
     },
     "metadata": {},
     "output_type": "display_data"
    }
   ],
   "source": [
    "best_features_WL, _ = stepwise_selection(30, RidgeClassifier(), X_train_WL, y_train_WL)\n",
    "stepwise_selection_plotting(best_features_WL, X_train_WL, y_train_WL, X_valid, y_valid)\n",
    "# best_features_WL = pd.read_csv('goal_diff_prediction/Features.csv')['Feature'].to_list() + ['NORMAL_SAMPLED_PREDICTED_GD'] "
   ]
  },
  {
   "cell_type": "code",
   "execution_count": 13,
   "id": "a1c577a9-a20a-42c9-ae4a-09fdf60d307e",
   "metadata": {},
   "outputs": [
    {
     "name": "stdout",
     "output_type": "stream",
     "text": [
      "Selected Features\n",
      "-----------------\n",
      "\n",
      "NORMAL_SAMPLED_PREDICTED_GD\n",
      "DIFF_TEAM_GAME_WON_5_last_match_sum\n",
      "DIFF_TEAM_GAME_LOST_5_last_match_sum\n",
      "DIFF_TEAM_GAME_DRAW_5_last_match_sum\n",
      "DIFF_TEAM_SHOTS_ON_TARGET_season_sum\n",
      "DIFF_TEAM_PASSES_5_last_match_sum\n",
      "DIFF_TEAM_GAME_LOST_season_sum\n",
      "DIFF_TEAM_CORNERS_season_sum\n",
      "WIN_PRIOR\n",
      "DIFF_TEAM_SUCCESSFUL_PASSES_PERCENTAGE_season_average\n",
      "DIFF_TEAM_SUCCESSFUL_PASSES_PERCENTAGE_5_last_match_average\n",
      "DIFF_TEAM_SHOTS_TOTAL_5_last_match_sum\n",
      "DIFF_TEAM_BALL_POSSESSION_season_average\n",
      "DIFF_TEAM_ATTACKS_season_sum\n",
      "DIFF_TEAM_CORNERS_5_last_match_sum\n",
      "DIFF_TEAM_SHOTS_OFF_TARGET_season_sum\n",
      "DIFF_TEAM_SAVES_season_sum\n",
      "HOME_TEAM_GAME_LOST_season_sum\n",
      "AWAY_TEAM_GAME_LOST_season_sum\n",
      "DIFF_TEAM_SHOTS_INSIDEBOX_season_sum\n"
     ]
    }
   ],
   "source": [
    "print(\"Selected Features\\n-----------------\\n\")\n",
    "print(*best_features_WL[:20], sep = '\\n') \n",
    "selected_features = list(best_features_WL[:20])"
   ]
  },
  {
   "cell_type": "markdown",
   "id": "60184505-8fbc-48bb-bc68-16d19ba9aed6",
   "metadata": {},
   "source": [
    "So here we have our 20 selected features. This model seems to be doing rather well. In particular\n",
    "- The predicted GD is doing very well at helping to make the correct estimation\n",
    "- The season sum of goals doesn't appear, however I imagine this is because of the GD doing a lot of the work for this statistic.\n",
    "- Oh, and the diff statistics seem to capture the information well enough. "
   ]
  },
  {
   "cell_type": "markdown",
   "id": "89dce2e0-4030-42f2-883e-7e3aa30972de",
   "metadata": {},
   "source": [
    "## Model Fitting "
   ]
  },
  {
   "cell_type": "markdown",
   "id": "4b838823-81bb-4373-9557-877d635d93b5",
   "metadata": {},
   "source": [
    "We will start by just predicting a Win (W) loss (L) model, before doing a WLD model. We will find that both models perform similarly, so we will stay with WL. "
   ]
  },
  {
   "cell_type": "markdown",
   "id": "ba1ec7e6-5314-429f-adc7-515834ab1d5c",
   "metadata": {},
   "source": [
    "### WL Fitting"
   ]
  },
  {
   "cell_type": "code",
   "execution_count": 14,
   "id": "0d61f3f5-e128-4c89-905a-e8d01ce2bfc3",
   "metadata": {},
   "outputs": [],
   "source": [
    "# Some function that does the fitting \n",
    "def fit_WL_classifier(model_type, model_params = None, analytics = False, up_sampled = False):\n",
    "    ''' Fits a model to the data give with the model_params. Then prints analytics so we get an idea of the model'''\n",
    "    X, y =  (X_train_upsampled_WL[selected_features], y_train_upsampled_WL) if up_sampled else (X_train_WL[selected_features], y_train_WL)\n",
    "    \n",
    "    model_params = {} if model_params is None else model_params\n",
    "    \n",
    "    model = model_type(**model_params)\n",
    "    model.fit(X, y)\n",
    "\n",
    "    if analytics:\n",
    "        print(\"Test Result\\n----------\")\n",
    "        show_classification_metrics(y['RESULT'], model.predict(X[selected_features]),0.75)\n",
    "        print(\"Validation Result\\n-------------\")\n",
    "        show_classification_metrics(y_valid['RESULT'], model.predict(X_valid[selected_features]))\n",
    "        \n",
    "    return model"
   ]
  },
  {
   "cell_type": "code",
   "execution_count": 15,
   "id": "40d103a3-8042-4fec-95d5-3278f64c6e40",
   "metadata": {},
   "outputs": [],
   "source": [
    "# Some function that prints the classification metrics\n",
    "def show_classification_metrics(y_true, y_pred, multi = 1):\n",
    "    print(\"Accuracy: \" , np.round(multi*accuracy_score(y_true, y_pred),4))\n",
    "    print(\"Weighted F1: \", np.round(f1_score(y_true, y_pred, average = 'weighted'),4))\n",
    "    print(confusion_matrix(y_true, y_pred))"
   ]
  },
  {
   "cell_type": "code",
   "execution_count": 16,
   "id": "0cbb8948-c050-4eae-898a-a0446c067b1e",
   "metadata": {},
   "outputs": [],
   "source": [
    "def find_WL_hyperparams(estimator, param_grid, up_sampled):\n",
    "    '''Grid Searches for the best hyper params using CV, then return the best model fitting on the data'''\n",
    "    X, y =  (X_train_upsampled_WL[selected_features], y_train_upsampled_WL) if up_sampled else (X_train_WL[selected_features], y_train_WL)\n",
    "    \n",
    "    clf = GridSearchCV(estimator = estimator(), param_grid=param_grid, verbose = 1)\n",
    "    clf.fit(X, y)\n",
    "    return clf.best_params_"
   ]
  },
  {
   "cell_type": "markdown",
   "id": "fc1dfe2d-322f-4886-8516-fca41d9746a9",
   "metadata": {},
   "source": [
    "#### Linear Ridge Classifier"
   ]
  },
  {
   "cell_type": "code",
   "execution_count": 29,
   "id": "e9d74b12-f1e3-46f7-a517-82d43715674e",
   "metadata": {},
   "outputs": [
    {
     "name": "stdout",
     "output_type": "stream",
     "text": [
      "Fitting 5 folds for each of 3 candidates, totalling 15 fits\n",
      "{'alpha': 26.2}\n"
     ]
    }
   ],
   "source": [
    "RC_norm_WL_best_param = find_WL_hyperparams(RidgeClassifier, {'alpha' : [26.1, 26.2, 26.3]}, False)\n",
    "print(RC_norm_WL_best_param)"
   ]
  },
  {
   "cell_type": "code",
   "execution_count": 30,
   "id": "9a717a6a-b992-4a6f-bed4-af8f22315f02",
   "metadata": {},
   "outputs": [
    {
     "name": "stdout",
     "output_type": "stream",
     "text": [
      "\n",
      "Normal Sampled\n",
      "-------------\n",
      "Test Result\n",
      "----------\n",
      "Accuracy:  0.5148\n",
      "Weighted F1:  0.6743\n",
      "[[1134 1253]\n",
      " [ 565 2844]]\n",
      "Validation Result\n",
      "-------------\n",
      "Accuracy:  0.5063\n",
      "Weighted F1:  0.4248\n",
      "[[266   0 332]\n",
      " [134   0 358]\n",
      " [148   0 731]]\n"
     ]
    }
   ],
   "source": [
    "print(\"\\nNormal Sampled\\n-------------\")\n",
    "RC_norm_WL = fit_WL_classifier(RidgeClassifier, RC_norm_WL_best_param, analytics = True, up_sampled = False); "
   ]
  },
  {
   "cell_type": "markdown",
   "id": "a29560d2-4dc6-4ec9-b35c-05fca0e8beda",
   "metadata": {},
   "source": [
    "#### LDA"
   ]
  },
  {
   "cell_type": "code",
   "execution_count": 32,
   "id": "52d47c26-f8ef-42d3-87a0-dab1a6f48210",
   "metadata": {},
   "outputs": [
    {
     "name": "stdout",
     "output_type": "stream",
     "text": [
      "\n",
      "Normal Sampled\n",
      "-------------\n",
      "Test Result\n",
      "----------\n",
      "Accuracy:  0.5142\n",
      "Weighted F1:  0.6742\n",
      "[[1144 1243]\n",
      " [ 579 2830]]\n",
      "Validation Result\n",
      "-------------\n",
      "Accuracy:  0.5094\n",
      "Weighted F1:  0.4275\n",
      "[[269   0 329]\n",
      " [138   0 354]\n",
      " [145   0 734]]\n"
     ]
    }
   ],
   "source": [
    "print(\"\\nNormal Sampled\\n-------------\")\n",
    "LDA_norm_WL = fit_WL_classifier(LinearDiscriminantAnalysis, {}, analytics = True, up_sampled = False); "
   ]
  },
  {
   "cell_type": "markdown",
   "id": "dcce300d-1a92-4f4c-a384-be9ffc967b51",
   "metadata": {},
   "source": [
    "#### Logistic Regression"
   ]
  },
  {
   "cell_type": "code",
   "execution_count": 45,
   "id": "bf7b4c7a-0c7e-42f8-b7b4-3dce5c5a5fdf",
   "metadata": {},
   "outputs": [
    {
     "name": "stdout",
     "output_type": "stream",
     "text": [
      "Fitting 5 folds for each of 3 candidates, totalling 15 fits\n",
      "{'C': 11.3, 'penalty': 'l2'}\n"
     ]
    }
   ],
   "source": [
    "LRC_norm_WL_best_param = find_WL_hyperparams(LogisticRegression, {'penalty' : ['l2'], 'C' : [11.2, 11.3, 11.4]}, False)\n",
    "print(LRC_norm_WL_best_param)"
   ]
  },
  {
   "cell_type": "code",
   "execution_count": 47,
   "id": "7bcb6a79-7fb7-444d-8d64-187967dbcfed",
   "metadata": {},
   "outputs": [
    {
     "name": "stdout",
     "output_type": "stream",
     "text": [
      "\n",
      "Normal Sampled\n",
      "-------------\n",
      "Test Result\n",
      "----------\n",
      "Accuracy:  0.5164\n",
      "Weighted F1:  0.6783\n",
      "[[1174 1213]\n",
      " [ 592 2817]]\n",
      "Validation Result\n",
      "-------------\n",
      "Accuracy:  0.514\n",
      "Weighted F1:  0.4322\n",
      "[[278   0 320]\n",
      " [137   0 355]\n",
      " [145   0 734]]\n"
     ]
    }
   ],
   "source": [
    "print(\"\\nNormal Sampled\\n-------------\")\n",
    "LRC_norm_WL = fit_WL_classifier(LogisticRegression, LRC_norm_WL_best_param, analytics = True, up_sampled = False); "
   ]
  },
  {
   "cell_type": "markdown",
   "id": "99637b8d-974e-4387-a940-adf56ab8243a",
   "metadata": {},
   "source": [
    "#### QDA"
   ]
  },
  {
   "cell_type": "markdown",
   "id": "d14995af-06df-46d7-82e4-08228c7a13ec",
   "metadata": {},
   "source": [
    "QDA is rubbish so I removed it"
   ]
  },
  {
   "cell_type": "markdown",
   "id": "32890040-3462-4071-b494-adb00b5cb7b3",
   "metadata": {},
   "source": [
    "#### KNN"
   ]
  },
  {
   "cell_type": "code",
   "execution_count": 48,
   "id": "1f6fdf0b-fd44-46c1-9b02-46464cb94271",
   "metadata": {},
   "outputs": [
    {
     "name": "stdout",
     "output_type": "stream",
     "text": [
      "Fitting 5 folds for each of 10 candidates, totalling 50 fits\n",
      "{'n_neighbors': 150, 'weights': 'uniform'}\n"
     ]
    }
   ],
   "source": [
    "KNN_norm_WL_best_param = find_WL_hyperparams(KNeighborsClassifier, {'n_neighbors' : range(145,155,1),\n",
    "                                                                   'weights' : ['uniform']}, False)\n",
    "print(KNN_norm_WL_best_param)"
   ]
  },
  {
   "cell_type": "code",
   "execution_count": 50,
   "id": "8a379798-b697-4ccc-9023-761d583951ae",
   "metadata": {},
   "outputs": [
    {
     "name": "stdout",
     "output_type": "stream",
     "text": [
      "\n",
      "Normal Sampled\n",
      "-------------\n",
      "Test Result\n",
      "----------\n",
      "Accuracy:  0.499\n",
      "Weighted F1:  0.6534\n",
      "[[1090 1297]\n",
      " [ 643 2766]]\n",
      "Validation Result\n",
      "-------------\n",
      "Accuracy:  0.4982\n",
      "Weighted F1:  0.4173\n",
      "[[257   0 341]\n",
      " [118   0 374]\n",
      " [155   0 724]]\n"
     ]
    }
   ],
   "source": [
    "print(\"\\nNormal Sampled\\n-------------\")\n",
    "KNN_norm_WL = fit_WL_classifier(KNeighborsClassifier, KNN_norm_WL_best_param, analytics = True, up_sampled = False); "
   ]
  },
  {
   "cell_type": "markdown",
   "id": "39d80fe8-2d20-47c4-9c97-d21e848a8415",
   "metadata": {},
   "source": [
    "#### Random Forest"
   ]
  },
  {
   "cell_type": "markdown",
   "id": "4c328110-9a30-48b1-a6c1-3537d2afb745",
   "metadata": {},
   "source": [
    "I can't stop this from overfitting --> DONT USE"
   ]
  },
  {
   "cell_type": "code",
   "execution_count": 51,
   "id": "4e48231f-cf21-46cd-9331-b3711675dc54",
   "metadata": {},
   "outputs": [
    {
     "name": "stdout",
     "output_type": "stream",
     "text": [
      "Fitting 5 folds for each of 1 candidates, totalling 5 fits\n"
     ]
    },
    {
     "data": {
      "text/plain": [
       "{'min_samples_split': 10000}"
      ]
     },
     "execution_count": 51,
     "metadata": {},
     "output_type": "execute_result"
    }
   ],
   "source": [
    "RFC_norm_WL_best_param = find_WL_hyperparams(RandomForestClassifier, {'min_samples_split' : [10000]}, False)\n",
    "RFC_norm_WL_best_param"
   ]
  },
  {
   "cell_type": "code",
   "execution_count": 137,
   "id": "5316a7ad-f51b-4755-ad0e-25cba3bc2f38",
   "metadata": {},
   "outputs": [],
   "source": [
    "# print(\"\\nNormal Sampled\\n-------------\")\n",
    "# RFC_norm_WL = fit_WL_classifier(RandomForestClassifier, {}, analytics = True, up_sampled = False);"
   ]
  },
  {
   "cell_type": "markdown",
   "id": "903a10b1-0f7e-4aeb-9622-c465c2961dac",
   "metadata": {},
   "source": [
    "#### AdaBoost "
   ]
  },
  {
   "cell_type": "code",
   "execution_count": 179,
   "id": "c50372f1-ba04-4785-83d9-c1b3012004bd",
   "metadata": {},
   "outputs": [
    {
     "name": "stdout",
     "output_type": "stream",
     "text": [
      "Fitting 5 folds for each of 6 candidates, totalling 30 fits\n"
     ]
    },
    {
     "data": {
      "text/plain": [
       "{'n_estimators': 1}"
      ]
     },
     "execution_count": 179,
     "metadata": {},
     "output_type": "execute_result"
    }
   ],
   "source": [
    "ABC_norm_WL_best_param = find_WL_hyperparams(AdaBoostClassifier, {'n_estimators' : [1,2,3,4,5,6]}, False)\n",
    "ABC_norm_WL_best_param"
   ]
  },
  {
   "cell_type": "code",
   "execution_count": 180,
   "id": "8edc930e-b64a-49a4-b4b6-9ca5faf0b156",
   "metadata": {},
   "outputs": [
    {
     "name": "stdout",
     "output_type": "stream",
     "text": [
      "\n",
      "Normal Sampled\n",
      "-------------\n",
      "Test Result\n",
      "----------\n",
      "Accuracy:  0.5027\n",
      "Weighted F1:  0.6703\n",
      "[[1449  957]\n",
      " [ 954 2436]]\n",
      "Validation Result\n",
      "-------------\n",
      "Accuracy:  0.481\n",
      "Weighted F1:  0.4053\n",
      "[[348   0 238]\n",
      " [252   0 289]\n",
      " [243   0 599]]\n"
     ]
    }
   ],
   "source": [
    "# print(\"Upsampled\\n---------\")\n",
    "# ABC_up_WL = fit_WL_classifier(AdaBoostClassifier, {}, analytics = True, up_sampled = True); \n",
    "\n",
    "print(\"\\nNormal Sampled\\n-------------\")\n",
    "ABC_norm_WL = fit_WL_classifier(AdaBoostClassifier, {'n_estimators': 1}, analytics = True, up_sampled = False);"
   ]
  },
  {
   "cell_type": "markdown",
   "id": "0a576f5a-a358-458b-a7f6-80a4548bb687",
   "metadata": {},
   "source": [
    "#### Bagging"
   ]
  },
  {
   "cell_type": "markdown",
   "id": "81e6c88c-8b4c-470d-a5ff-bcfbece47db9",
   "metadata": {},
   "source": [
    "Can't get it to stop overfitting -> don't use"
   ]
  },
  {
   "cell_type": "markdown",
   "id": "d1743115-60f8-49d8-a5ae-f0f2ec5ed63b",
   "metadata": {},
   "source": [
    "#### Gradient Boosting"
   ]
  },
  {
   "cell_type": "code",
   "execution_count": 181,
   "id": "2a8ed2d6-2220-49ab-ae56-a7bf9efa9b4b",
   "metadata": {},
   "outputs": [
    {
     "name": "stdout",
     "output_type": "stream",
     "text": [
      "Fitting 5 folds for each of 1 candidates, totalling 5 fits\n"
     ]
    },
    {
     "data": {
      "text/plain": [
       "{'n_estimators': 66}"
      ]
     },
     "execution_count": 181,
     "metadata": {},
     "output_type": "execute_result"
    }
   ],
   "source": [
    "GBC_norm_WL_best_param = find_WL_hyperparams(GradientBoostingClassifier, {'n_estimators' : [66]}, False)\n",
    "GBC_norm_WL_best_param"
   ]
  },
  {
   "cell_type": "code",
   "execution_count": 182,
   "id": "a76050c0-6920-46e5-8274-2fd87f018493",
   "metadata": {},
   "outputs": [
    {
     "name": "stdout",
     "output_type": "stream",
     "text": [
      "\n",
      "Normal Sampled\n",
      "-------------\n",
      "Test Result\n",
      "----------\n",
      "Accuracy:  0.53\n",
      "Weighted F1:  0.6986\n",
      "[[1277 1129]\n",
      " [ 571 2819]]\n",
      "Validation Result\n",
      "-------------\n",
      "Accuracy:  0.5124\n",
      "Weighted F1:  0.4257\n",
      "[[308   0 278]\n",
      " [182   0 359]\n",
      " [141   0 701]]\n"
     ]
    }
   ],
   "source": [
    "# print(\"Upsampled\\n---------\")\n",
    "# GBC_up_WL = fit_WL_classifier(GradientBoostingClassifier, {}, analytics = True, up_sampled = True); \n",
    "\n",
    "print(\"\\nNormal Sampled\\n-------------\")\n",
    "GBC_norm_WL = fit_WL_classifier(GradientBoostingClassifier, GBC_norm_WL_best_param, analytics = True, up_sampled = False);"
   ]
  },
  {
   "cell_type": "markdown",
   "id": "b8e43182-0eb3-41bb-a7de-2ed98e866166",
   "metadata": {},
   "source": [
    "#### NN Classifier"
   ]
  },
  {
   "cell_type": "code",
   "execution_count": 183,
   "id": "cca4fce2-bc33-4d29-9da7-811ed83a6d16",
   "metadata": {},
   "outputs": [
    {
     "name": "stdout",
     "output_type": "stream",
     "text": [
      "Fitting 5 folds for each of 1 candidates, totalling 5 fits\n"
     ]
    },
    {
     "data": {
      "text/plain": [
       "{'activation': 'logistic', 'early_stopping': True, 'hidden_layer_sizes': 100}"
      ]
     },
     "execution_count": 183,
     "metadata": {},
     "output_type": "execute_result"
    }
   ],
   "source": [
    "NNC_norm_WL_best_param = find_WL_hyperparams(MLPClassifier, {'hidden_layer_sizes' : [(100)],\n",
    "                                                             'activation' : ['logistic'], 'early_stopping' :[True]}, False)\n",
    "NNC_norm_WL_best_param"
   ]
  },
  {
   "cell_type": "code",
   "execution_count": 184,
   "id": "6c1a2a00-e6e0-401c-800c-8398bbbb0ecb",
   "metadata": {},
   "outputs": [
    {
     "name": "stdout",
     "output_type": "stream",
     "text": [
      "\n",
      "Normal Sampled\n",
      "-------------\n",
      "Test Result\n",
      "----------\n",
      "Accuracy:  0.4904\n",
      "Weighted F1:  0.6101\n",
      "[[ 681 1725]\n",
      " [ 281 3109]]\n",
      "Validation Result\n",
      "-------------\n",
      "Accuracy:  0.4779\n",
      "Weighted F1:  0.3735\n",
      "[[160   0 426]\n",
      " [ 77   0 464]\n",
      " [ 61   0 781]]\n"
     ]
    }
   ],
   "source": [
    "# print(\"Upsampled\\n---------\")\n",
    "# NNC_up_WL = fit_WL_classifier(MLPClassifier, {}, analytics = True, up_sampled = True); \n",
    "\n",
    "print(\"\\nNormal Sampled\\n-------------\")\n",
    "NNC_norm_WL = fit_WL_classifier(MLPClassifier, NNC_norm_WL_best_param, analytics = True, up_sampled = False);"
   ]
  },
  {
   "cell_type": "markdown",
   "id": "4142d3b5-af89-4e52-8ebb-48d8af9868a0",
   "metadata": {},
   "source": [
    "#### Best WL Classifiers"
   ]
  },
  {
   "cell_type": "markdown",
   "id": "c7fa3224-3b62-4fbf-bc68-4c375333e785",
   "metadata": {},
   "source": [
    "Interestingly, the linear classifiers are doing really well.  Having said that all, apart from the NN are beating the top score in their own right, so lets put them all togther. "
   ]
  },
  {
   "cell_type": "code",
   "execution_count": 185,
   "id": "5d661111-4b3c-498a-b04f-70c6c3ee3dc7",
   "metadata": {},
   "outputs": [
    {
     "name": "stdout",
     "output_type": "stream",
     "text": [
      "Accuracy:  0.5154\n",
      "Weighted F1:  0.6774\n",
      "[[1194 1212]\n",
      " [ 601 2789]]\n",
      "Accuracy:  0.5069\n",
      "Weighted F1:  0.4209\n",
      "[[303   0 283]\n",
      " [182   0 359]\n",
      " [147   0 695]]\n"
     ]
    }
   ],
   "source": [
    "WL_voting_clf = VotingClassifier(estimators = [\n",
    "                                 ('NNC', NNC_norm_WL), \n",
    "                                 ('GBC', GBC_norm_WL),\n",
    "                                 ('ABC', ABC_norm_WL),\n",
    "                                 ('KNN', KNN_norm_WL),\n",
    "                                 ('LRC', LRC_norm_WL), \n",
    "                                 ('LDA', LDA_norm_WL),\n",
    "                                 ('RC', RC_norm_WL) # We have to ignore this as we are using voting = 'soft'\n",
    "                                ],\n",
    "                                voting = 'hard')\n",
    "WL_voting_clf.fit(X_train_WL[selected_features], y_train_WL)  \n",
    "show_classification_metrics(y_train_WL['RESULT'], WL_voting_clf.predict(X_train_WL[selected_features]),0.75)\n",
    "show_classification_metrics(y_valid['RESULT'], WL_voting_clf.predict(X_valid[selected_features]))\n",
    "                                 \n",
    "                                 "
   ]
  },
  {
   "cell_type": "markdown",
   "id": "0cf305bb-29b5-4067-b70c-326035ebcc8b",
   "metadata": {},
   "source": [
    "So this classifier seems to be working rather well! Now lets try and predict WDL"
   ]
  },
  {
   "cell_type": "markdown",
   "id": "819da38d-8e30-49ee-bc28-f81386ad427e",
   "metadata": {
    "jp-MarkdownHeadingCollapsed": true
   },
   "source": [
    "### WDL Classification "
   ]
  },
  {
   "cell_type": "code",
   "execution_count": 79,
   "id": "2f54d06e-87b5-41e1-be33-f40aca40e937",
   "metadata": {},
   "outputs": [],
   "source": [
    "def fit_WLD_classifier(model_type, model_params = None, OvR = True):\n",
    "    ''' Fits a model to the data give with the model_params. Then prints analytics so we get an idea of the model'''\n",
    "    X, y =  (X_train[selected_features], y_train)\n",
    "    \n",
    "    model_params = {} if model_params is None else model_params\n",
    "    \n",
    "    model = OneVsRestClassifier(model_type(**model_params)) if OvR else OneVsOneClassifier(model_type(**model_params))\n",
    "    model.fit(X, y)\n",
    "\n",
    "   \n",
    "    show_classification_metrics(y['RESULT'], model.predict(X[selected_features]))\n",
    "    show_classification_metrics(y_valid['RESULT'], model.predict(X_valid[selected_features]))\n",
    "        \n",
    "    return model"
   ]
  },
  {
   "cell_type": "code",
   "execution_count": 80,
   "id": "d20aae5a-4175-4591-a6b2-ead8a3b08d29",
   "metadata": {},
   "outputs": [],
   "source": [
    "def get_classifier_dict(grid_search_dict): # This will remove the estimator__ predix\n",
    "    return {k[11:] : v for k, v in grid_search_dict.items()}"
   ]
  },
  {
   "cell_type": "code",
   "execution_count": 81,
   "id": "12fe4440-da24-4397-a226-dcbc50d9bdc6",
   "metadata": {},
   "outputs": [],
   "source": [
    "def find_WLD_hyperparams(estimator, param_grid):\n",
    "    '''Grid Searches for the best hyper params using CV, then return the best model fitting on the data'''\n",
    "    X, y =  (X_train[selected_features], y_train)\n",
    "    \n",
    "    clf = GridSearchCV(estimator = OneVsRestClassifier(estimator()), param_grid=param_grid, verbose = 1)\n",
    "    clf.fit(X, y)\n",
    "    return get_classifier_dict(clf.best_params_)"
   ]
  },
  {
   "cell_type": "markdown",
   "id": "e0421163-bd90-476e-8523-18ceddae5fe2",
   "metadata": {},
   "source": [
    "#### Ridge Classifier"
   ]
  },
  {
   "cell_type": "code",
   "execution_count": 82,
   "id": "d5dbb8a2-a9e9-49b9-8501-bb9803b83e5c",
   "metadata": {},
   "outputs": [
    {
     "name": "stdout",
     "output_type": "stream",
     "text": [
      "Fitting 5 folds for each of 20 candidates, totalling 100 fits\n",
      "{'alpha': 1.0}\n"
     ]
    }
   ],
   "source": [
    "RC_norm_WLD_best_param = find_WLD_hyperparams(RidgeClassifier, {'estimator__alpha' : np.linspace(1,1.7,20)})\n",
    "print(RC_norm_WLD_best_param)"
   ]
  },
  {
   "cell_type": "code",
   "execution_count": 83,
   "id": "afc4f1d2-8e09-4f64-b0ab-fc9729d7dbe9",
   "metadata": {},
   "outputs": [
    {
     "name": "stdout",
     "output_type": "stream",
     "text": [
      "\n",
      "Normal Sampled\n",
      "-------------\n",
      "Accuracy:  0.5025\n",
      "Weighted F1:  0.4209\n",
      "[[1426    7 1568]\n",
      " [ 793    7 1776]\n",
      " [ 744    8 3512]]\n",
      "Accuracy:  0.4955\n",
      "Weighted F1:  0.4178\n",
      "[[181   0 209]\n",
      " [ 97   1 213]\n",
      " [101   1 428]]\n"
     ]
    }
   ],
   "source": [
    "print(\"\\nNormal Sampled\\n-------------\")\n",
    "RC_norm_WLD = fit_WLD_classifier(RidgeClassifier, RC_norm_WLD_best_param); "
   ]
  },
  {
   "cell_type": "markdown",
   "id": "8e078603-c784-42bb-8af9-93dcf23e14bb",
   "metadata": {},
   "source": [
    "#### LDA"
   ]
  },
  {
   "cell_type": "code",
   "execution_count": 84,
   "id": "db739e75-4ef8-4a93-9463-79f15cd01cd6",
   "metadata": {},
   "outputs": [
    {
     "name": "stdout",
     "output_type": "stream",
     "text": [
      "\n",
      "Normal Sampled\n",
      "-------------\n",
      "Accuracy:  0.502\n",
      "Weighted F1:  0.4235\n",
      "[[1419   24 1558]\n",
      " [ 785   24 1767]\n",
      " [ 746   21 3497]]\n",
      "Accuracy:  0.4955\n",
      "Weighted F1:  0.4186\n",
      "[[183   0 207]\n",
      " [ 97   1 213]\n",
      " [101   3 426]]\n"
     ]
    }
   ],
   "source": [
    "print(\"\\nNormal Sampled\\n-------------\")\n",
    "LDA_norm_WLD = fit_WLD_classifier(LinearDiscriminantAnalysis, {});"
   ]
  },
  {
   "cell_type": "markdown",
   "id": "6a3af006-2515-42b1-b9ca-9d79f48ebbf3",
   "metadata": {},
   "source": [
    "#### KNN"
   ]
  },
  {
   "cell_type": "code",
   "execution_count": 85,
   "id": "70f161e0-6ba2-45fe-9a25-3c1bb8509e0a",
   "metadata": {},
   "outputs": [
    {
     "name": "stdout",
     "output_type": "stream",
     "text": [
      "Fitting 5 folds for each of 10 candidates, totalling 50 fits\n",
      "{'n_neighbors': 68}\n"
     ]
    }
   ],
   "source": [
    "KNN_norm_WLD_best_param = find_WLD_hyperparams(KNeighborsClassifier, {'estimator__n_neighbors' : range(60,70, 1)})\n",
    "print(KNN_norm_WLD_best_param)"
   ]
  },
  {
   "cell_type": "code",
   "execution_count": 86,
   "id": "7228f407-45e3-4a32-a88d-6f7129f51d42",
   "metadata": {},
   "outputs": [
    {
     "name": "stdout",
     "output_type": "stream",
     "text": [
      "\n",
      "Normal Sampled\n",
      "-------------\n",
      "Accuracy:  0.4995\n",
      "Weighted F1:  0.445\n",
      "[[1273  175 1553]\n",
      " [ 634  206 1736]\n",
      " [ 661  166 3437]]\n",
      "Accuracy:  0.4728\n",
      "Weighted F1:  0.4181\n",
      "[[156  32 202]\n",
      " [ 81  15 215]\n",
      " [ 90  29 411]]\n"
     ]
    }
   ],
   "source": [
    "print(\"\\nNormal Sampled\\n-------------\")\n",
    "KNN_norm_WLD = fit_WLD_classifier(KNeighborsClassifier, KNN_norm_WLD_best_param); "
   ]
  },
  {
   "cell_type": "markdown",
   "id": "20f225ff-337d-44de-af3b-1c7569a8c142",
   "metadata": {},
   "source": [
    "#### Adaboost "
   ]
  },
  {
   "cell_type": "code",
   "execution_count": 87,
   "id": "62c62272-f4b4-4d70-b961-fb643a95606c",
   "metadata": {},
   "outputs": [
    {
     "name": "stdout",
     "output_type": "stream",
     "text": [
      "Fitting 5 folds for each of 6 candidates, totalling 30 fits\n",
      "{'n_estimators': 4}\n"
     ]
    }
   ],
   "source": [
    "ABC_norm_WLD_best_param = find_WLD_hyperparams(AdaBoostClassifier, {'estimator__n_estimators' : range(0,6)})\n",
    "print(ABC_norm_WLD_best_param)"
   ]
  },
  {
   "cell_type": "code",
   "execution_count": 88,
   "id": "ddca9a8e-da76-4e0b-8911-b437e97a65b6",
   "metadata": {},
   "outputs": [
    {
     "name": "stdout",
     "output_type": "stream",
     "text": [
      "\n",
      "Normal Sampled\n",
      "-------------\n",
      "Accuracy:  0.4974\n",
      "Weighted F1:  0.4082\n",
      "[[1171    0 1830]\n",
      " [ 565    0 2011]\n",
      " [ 540    0 3724]]\n",
      "Accuracy:  0.4866\n",
      "Weighted F1:  0.4024\n",
      "[[150   0 240]\n",
      " [ 66   0 245]\n",
      " [ 81   0 449]]\n"
     ]
    }
   ],
   "source": [
    "print(\"\\nNormal Sampled\\n-------------\")\n",
    "ABC_norm_WLD = fit_WLD_classifier(AdaBoostClassifier, ABC_norm_WLD_best_param); "
   ]
  },
  {
   "cell_type": "markdown",
   "id": "40181c76-6eaa-4657-8594-2ba7def6644c",
   "metadata": {},
   "source": [
    "#### Gradient Boosting"
   ]
  },
  {
   "cell_type": "code",
   "execution_count": 89,
   "id": "a8750781-384f-4728-a417-89a62fc6f250",
   "metadata": {},
   "outputs": [
    {
     "name": "stdout",
     "output_type": "stream",
     "text": [
      "Fitting 5 folds for each of 5 candidates, totalling 25 fits\n",
      "{'n_estimators': 35}\n"
     ]
    }
   ],
   "source": [
    "GBC_norm_WLD_best_param = find_WLD_hyperparams(GradientBoostingClassifier, {'estimator__n_estimators' : range(35,40, 1)})\n",
    "print(GBC_norm_WLD_best_param)"
   ]
  },
  {
   "cell_type": "code",
   "execution_count": 90,
   "id": "602d99a9-c75c-4400-bec6-a60cd6a202d7",
   "metadata": {},
   "outputs": [
    {
     "name": "stdout",
     "output_type": "stream",
     "text": [
      "\n",
      "Normal Sampled\n",
      "-------------\n",
      "Accuracy:  0.5155\n",
      "Weighted F1:  0.4375\n",
      "[[1487   11 1503]\n",
      " [ 781   42 1753]\n",
      " [ 713    7 3544]]\n",
      "Accuracy:  0.4915\n",
      "Weighted F1:  0.4164\n",
      "[[186   3 201]\n",
      " [ 96   1 214]\n",
      " [110   2 418]]\n"
     ]
    }
   ],
   "source": [
    "print(\"\\nNormal Sampled\\n-------------\")\n",
    "GBC_norm_WLD = fit_WLD_classifier(GradientBoostingClassifier, GBC_norm_WLD_best_param);"
   ]
  },
  {
   "cell_type": "markdown",
   "id": "8da6f7e5-79f5-4866-8757-e4be694e8ee9",
   "metadata": {},
   "source": [
    "#### NN "
   ]
  },
  {
   "cell_type": "code",
   "execution_count": 91,
   "id": "fbb1da8a-058b-49d9-9c7e-86f35901c03d",
   "metadata": {},
   "outputs": [
    {
     "name": "stdout",
     "output_type": "stream",
     "text": [
      "Fitting 5 folds for each of 1 candidates, totalling 5 fits\n"
     ]
    },
    {
     "data": {
      "text/plain": [
       "{'activation': 'logistic', 'early_stopping': True, 'hidden_layer_sizes': 100}"
      ]
     },
     "execution_count": 91,
     "metadata": {},
     "output_type": "execute_result"
    }
   ],
   "source": [
    "NNC_norm_WLD_best_param = find_WLD_hyperparams(MLPClassifier, {'estimator__hidden_layer_sizes' : [(100)],\n",
    "                                                             'estimator__activation' : ['logistic'], 'estimator__early_stopping' :[True]})\n",
    "NNC_norm_WLD_best_param"
   ]
  },
  {
   "cell_type": "code",
   "execution_count": 92,
   "id": "6e2981cf-9bb2-4d49-b762-2406e05d89b0",
   "metadata": {},
   "outputs": [
    {
     "name": "stdout",
     "output_type": "stream",
     "text": [
      "Accuracy:  0.4912\n",
      "Weighted F1:  0.4131\n",
      "[[1517    0 1484]\n",
      " [ 945    0 1631]\n",
      " [ 947    0 3317]]\n",
      "Accuracy:  0.4858\n",
      "Weighted F1:  0.4127\n",
      "[[205   0 185]\n",
      " [106   0 205]\n",
      " [137   0 393]]\n"
     ]
    }
   ],
   "source": [
    "NNC_norm_WLD = fit_WLD_classifier(MLPClassifier, NNC_norm_WLD_best_param);"
   ]
  },
  {
   "cell_type": "markdown",
   "id": "333ef540-7c16-4836-b628-465e4af860c9",
   "metadata": {},
   "source": [
    "#### WLD Conclusions"
   ]
  },
  {
   "cell_type": "markdown",
   "id": "9d85052f-978d-474e-8cc0-4b4db328393a",
   "metadata": {},
   "source": [
    "There seems to be no real improvement over using the WL classifier, therefore we will only use that. "
   ]
  },
  {
   "cell_type": "markdown",
   "id": "85bc5951-9624-412a-814c-ff3d3f0f6fd9",
   "metadata": {},
   "source": [
    "## Testing and Saving WL Classifier"
   ]
  },
  {
   "cell_type": "markdown",
   "id": "3d67f03a-a38c-4bb0-9ff6-92eba003f47c",
   "metadata": {},
   "source": [
    "To check that we haven't done any silly overfitting, we can print the scores on each of the training, validation and test data set."
   ]
  },
  {
   "cell_type": "code",
   "execution_count": 186,
   "id": "5b1bae19-9d7c-4fe5-902f-4069e138184d",
   "metadata": {},
   "outputs": [
    {
     "name": "stdout",
     "output_type": "stream",
     "text": [
      "Training Scores\n",
      "---------------\n",
      "Accuracy:  0.5154\n",
      "Weighted F1:  0.6774\n",
      "[[1194 1212]\n",
      " [ 601 2789]]\n",
      "\n",
      "Validation Scores\n",
      "-----------------\n",
      "Accuracy:  0.5069\n",
      "Weighted F1:  0.4209\n",
      "[[303   0 283]\n",
      " [182   0 359]\n",
      " [147   0 695]]\n",
      "\n",
      "Testing Scores\n",
      "--------------\n",
      "Accuracy:  0.5136\n",
      "Weighted F1:  0.4345\n",
      "[[394   0 400]\n",
      " [182   0 428]\n",
      " [187   0 870]]\n"
     ]
    }
   ],
   "source": [
    "print(\"Training Scores\\n---------------\")\n",
    "show_classification_metrics(y_train_WL['RESULT'], WL_voting_clf.predict(X_train_WL[selected_features]),0.75)\n",
    "\n",
    "print(\"\\nValidation Scores\\n-----------------\")\n",
    "show_classification_metrics(y_valid['RESULT'], WL_voting_clf.predict(X_valid[selected_features]))\n",
    "\n",
    "print(\"\\nTesting Scores\\n--------------\")\n",
    "show_classification_metrics(y_test['RESULT'], WL_voting_clf.predict(X_test[selected_features]))"
   ]
  },
  {
   "cell_type": "markdown",
   "id": "cdee9c64-1d9a-4810-891b-4f33411d0cfd",
   "metadata": {},
   "source": [
    "i.e. we seem to be doing pretty well! I guess we should now go ahead and train this model"
   ]
  },
  {
   "cell_type": "code",
   "execution_count": 187,
   "id": "3500954c-8c70-489e-bfee-1aac5e2c65ce",
   "metadata": {},
   "outputs": [],
   "source": [
    "with open('WL_Model/WL_prediction.pkl', 'wb') as f:\n",
    "    pickle.dump(WL_voting_clf, f)"
   ]
  },
  {
   "cell_type": "code",
   "execution_count": 188,
   "id": "0367db36-b0a6-4f00-b0cf-729d78e4a114",
   "metadata": {},
   "outputs": [],
   "source": [
    "features = pd.DataFrame({'Features' : selected_features})\n",
    "features.to_csv(\"WL_Model/WL_model_features.csv\")"
   ]
  },
  {
   "cell_type": "code",
   "execution_count": null,
   "id": "7fd7c32a-4e17-4c48-b100-c53aed6eb6ef",
   "metadata": {},
   "outputs": [],
   "source": []
  }
 ],
 "metadata": {
  "kernelspec": {
   "display_name": "Python 3 (ipykernel)",
   "language": "python",
   "name": "python3"
  },
  "language_info": {
   "codemirror_mode": {
    "name": "ipython",
    "version": 3
   },
   "file_extension": ".py",
   "mimetype": "text/x-python",
   "name": "python",
   "nbconvert_exporter": "python",
   "pygments_lexer": "ipython3",
   "version": "3.11.7"
  }
 },
 "nbformat": 4,
 "nbformat_minor": 5
}
