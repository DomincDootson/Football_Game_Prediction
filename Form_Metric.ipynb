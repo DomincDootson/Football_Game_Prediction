{
 "cells": [
  {
   "cell_type": "code",
   "execution_count": 29,
   "id": "85161998-eff5-460f-99b7-12aba886ca5f",
   "metadata": {},
   "outputs": [],
   "source": [
    "import pandas as pd\n",
    "import numpy as np\n",
    "\n",
    "import pickle\n",
    "\n",
    "from sklearn.linear_model import LassoCV, LinearRegression\n",
    "from sklearn.feature_selection import RFE\n",
    "from sklearn.model_selection import train_test_split\n",
    "from sklearn.metrics import mean_squared_error\n",
    "from sklearn.preprocessing import MinMaxScaler\n",
    "\n",
    "import warnings\n",
    "import matplotlib.pyplot as plt\n",
    "import seaborn as sns\n",
    "\n",
    "warnings.filterwarnings('ignore')"
   ]
  },
  {
   "cell_type": "code",
   "execution_count": 2,
   "id": "bb3abd83-1d62-4c67-9691-a0b0d518e36b",
   "metadata": {},
   "outputs": [],
   "source": [
    "train_home = pd.read_csv('train_home_imputed.csv', index_col=0)\n",
    "train_away = pd.read_csv('train_away_imputed.csv', index_col=0)"
   ]
  },
  {
   "cell_type": "code",
   "execution_count": 3,
   "id": "a5e297a8-f053-4843-9e7d-2e219c38e077",
   "metadata": {},
   "outputs": [],
   "source": [
    "def get_last_5_cols(df):\n",
    "    last_5_cols = [c for c in df.columns if (\"5_last_match\" in c and 'average' not in c)]\n",
    "    return [c for c in last_5_cols if \"GAME\" not in c], [c for c in last_5_cols if \"GAME\" in c]"
   ]
  },
  {
   "cell_type": "code",
   "execution_count": 4,
   "id": "defd1998-c02d-45ef-92d9-154c14c1228c",
   "metadata": {},
   "outputs": [],
   "source": [
    "def get_train_test_form(df):\n",
    "    train_cols, test_cols = get_last_5_cols(df)\n",
    "    return df[train_cols].copy(), df[test_cols].copy()"
   ]
  },
  {
   "cell_type": "code",
   "execution_count": 5,
   "id": "6d8351b0-991e-4db9-bff1-a7417d8dab14",
   "metadata": {},
   "outputs": [],
   "source": [
    "X_away, y_away = get_train_test_form(train_away)\n",
    "X_home, y_home = get_train_test_form(train_home)\n",
    "\n",
    "X_away.columns, y_away.columns = [c[5:] for c in X_away.columns], [c[5:] for c in y_away.columns]\n",
    "X_home.columns, y_home.columns = [c[5:] for c in X_home.columns], [c[5:] for c in y_home.columns]\n",
    "\n",
    "X, y = pd.concat([X_away,X_home],join='inner',axis=0), pd.concat([y_away,y_home],join='inner',axis=0)"
   ]
  },
  {
   "cell_type": "code",
   "execution_count": 6,
   "id": "71d1fff0-32ab-433e-b2f0-c95a180dec69",
   "metadata": {},
   "outputs": [
    {
     "name": "stdout",
     "output_type": "stream",
     "text": [
      "<class 'pandas.core.frame.DataFrame'>\n",
      "Index: 24606 entries, 0 to 12302\n",
      "Data columns (total 42 columns):\n",
      " #   Column                                              Non-Null Count  Dtype  \n",
      "---  ------                                              --------------  -----  \n",
      " 0   TEAM_SHOTS_TOTAL_5_last_match_sum                   24606 non-null  float64\n",
      " 1   TEAM_SHOTS_INSIDEBOX_5_last_match_sum               24606 non-null  float64\n",
      " 2   TEAM_SHOTS_OFF_TARGET_5_last_match_sum              24606 non-null  float64\n",
      " 3   TEAM_SHOTS_ON_TARGET_5_last_match_sum               24606 non-null  float64\n",
      " 4   TEAM_SHOTS_OUTSIDEBOX_5_last_match_sum              24606 non-null  float64\n",
      " 5   TEAM_PASSES_5_last_match_sum                        24606 non-null  float64\n",
      " 6   TEAM_SUCCESSFUL_PASSES_5_last_match_sum             24606 non-null  float64\n",
      " 7   TEAM_SAVES_5_last_match_sum                         24606 non-null  float64\n",
      " 8   TEAM_CORNERS_5_last_match_sum                       24606 non-null  float64\n",
      " 9   TEAM_FOULS_5_last_match_sum                         24606 non-null  float64\n",
      " 10  TEAM_YELLOWCARDS_5_last_match_sum                   24606 non-null  float64\n",
      " 11  TEAM_REDCARDS_5_last_match_sum                      24606 non-null  float64\n",
      " 12  TEAM_OFFSIDES_5_last_match_sum                      24606 non-null  float64\n",
      " 13  TEAM_ATTACKS_5_last_match_sum                       24606 non-null  float64\n",
      " 14  TEAM_PENALTIES_5_last_match_sum                     24606 non-null  float64\n",
      " 15  TEAM_SUBSTITUTIONS_5_last_match_sum                 24606 non-null  float64\n",
      " 16  TEAM_BALL_SAFE_5_last_match_sum                     24606 non-null  float64\n",
      " 17  TEAM_DANGEROUS_ATTACKS_5_last_match_sum             24606 non-null  float64\n",
      " 18  TEAM_INJURIES_5_last_match_sum                      24606 non-null  float64\n",
      " 19  TEAM_GOALS_5_last_match_sum                         24606 non-null  float64\n",
      " 20  TEAM_SHOTS_TOTAL_5_last_match_std                   24606 non-null  float64\n",
      " 21  TEAM_SHOTS_INSIDEBOX_5_last_match_std               24606 non-null  float64\n",
      " 22  TEAM_SHOTS_OFF_TARGET_5_last_match_std              24606 non-null  float64\n",
      " 23  TEAM_SHOTS_ON_TARGET_5_last_match_std               24606 non-null  float64\n",
      " 24  TEAM_SHOTS_OUTSIDEBOX_5_last_match_std              24606 non-null  float64\n",
      " 25  TEAM_PASSES_5_last_match_std                        24606 non-null  float64\n",
      " 26  TEAM_SUCCESSFUL_PASSES_5_last_match_std             24606 non-null  float64\n",
      " 27  TEAM_SUCCESSFUL_PASSES_PERCENTAGE_5_last_match_std  24606 non-null  float64\n",
      " 28  TEAM_SAVES_5_last_match_std                         24606 non-null  float64\n",
      " 29  TEAM_CORNERS_5_last_match_std                       24606 non-null  float64\n",
      " 30  TEAM_BALL_POSSESSION_5_last_match_std               24606 non-null  float64\n",
      " 31  TEAM_FOULS_5_last_match_std                         24606 non-null  float64\n",
      " 32  TEAM_YELLOWCARDS_5_last_match_std                   24606 non-null  float64\n",
      " 33  TEAM_REDCARDS_5_last_match_std                      24606 non-null  float64\n",
      " 34  TEAM_OFFSIDES_5_last_match_std                      24606 non-null  float64\n",
      " 35  TEAM_ATTACKS_5_last_match_std                       24606 non-null  float64\n",
      " 36  TEAM_PENALTIES_5_last_match_std                     24606 non-null  float64\n",
      " 37  TEAM_SUBSTITUTIONS_5_last_match_std                 24606 non-null  float64\n",
      " 38  TEAM_BALL_SAFE_5_last_match_std                     24606 non-null  float64\n",
      " 39  TEAM_DANGEROUS_ATTACKS_5_last_match_std             24606 non-null  float64\n",
      " 40  TEAM_INJURIES_5_last_match_std                      24606 non-null  float64\n",
      " 41  TEAM_GOALS_5_last_match_std                         24606 non-null  float64\n",
      "dtypes: float64(42)\n",
      "memory usage: 8.1 MB\n"
     ]
    },
    {
     "data": {
      "text/plain": [
       "None"
      ]
     },
     "metadata": {},
     "output_type": "display_data"
    },
    {
     "name": "stdout",
     "output_type": "stream",
     "text": [
      "<class 'pandas.core.frame.DataFrame'>\n",
      "Index: 24606 entries, 0 to 12302\n",
      "Data columns (total 3 columns):\n",
      " #   Column                           Non-Null Count  Dtype  \n",
      "---  ------                           --------------  -----  \n",
      " 0   TEAM_GAME_WON_5_last_match_sum   24606 non-null  float64\n",
      " 1   TEAM_GAME_DRAW_5_last_match_sum  24606 non-null  float64\n",
      " 2   TEAM_GAME_LOST_5_last_match_sum  24606 non-null  float64\n",
      "dtypes: float64(3)\n",
      "memory usage: 768.9 KB\n"
     ]
    },
    {
     "data": {
      "text/plain": [
       "None"
      ]
     },
     "metadata": {},
     "output_type": "display_data"
    }
   ],
   "source": [
    "display(X.info())\n",
    "display(y.info())"
   ]
  },
  {
   "cell_type": "markdown",
   "id": "7a9d64b5-03ca-4daf-af39-f56fff83c1da",
   "metadata": {},
   "source": [
    "As a measure of the form the team is currently in we will take a weighted sum of the number of matches won, drawn and lost"
   ]
  },
  {
   "cell_type": "code",
   "execution_count": 7,
   "id": "6f3d4df6-4b77-4ad2-b000-171610fb6882",
   "metadata": {},
   "outputs": [],
   "source": [
    "weights = [2,1,0]\n",
    "y_aggregate = (y * weights).sum(axis=1)"
   ]
  },
  {
   "cell_type": "markdown",
   "id": "55dcc2d8-9767-4662-9d50-d3e53f4d4306",
   "metadata": {},
   "source": [
    "## Linear Regression Fitting "
   ]
  },
  {
   "cell_type": "markdown",
   "id": "3449fda9-17be-423e-b913-d918aee9ecdf",
   "metadata": {},
   "source": [
    "We are going to fit a linear model to these data sets and use lasso regression to limit overfitting"
   ]
  },
  {
   "cell_type": "markdown",
   "id": "998fd0cd-950f-480c-b9ce-6bb47e6668b2",
   "metadata": {},
   "source": [
    "#### Feature Selection With Lasso"
   ]
  },
  {
   "cell_type": "code",
   "execution_count": 8,
   "id": "bdabd87e-37c9-49b3-95a9-08b59b374915",
   "metadata": {},
   "outputs": [
    {
     "name": "stdout",
     "output_type": "stream",
     "text": [
      "R^2: 0.4065; alpha: 0.0276\n",
      "1: TEAM_GOALS_5_last_match_sum, 1.126587907765938\n",
      "2: TEAM_SAVES_5_last_match_sum, -0.14987335471621013\n",
      "3: TEAM_SHOTS_ON_TARGET_5_last_match_sum, 0.1447418918740061\n",
      "4: TEAM_GOALS_5_last_match_std, -0.1320994039205501\n",
      "5: TEAM_INJURIES_5_last_match_sum, 0.09030592806642176\n",
      "6: TEAM_SUCCESSFUL_PASSES_5_last_match_std, 0.08234040401587865\n",
      "7: TEAM_REDCARDS_5_last_match_sum, -0.06808540315945216\n",
      "8: TEAM_SUBSTITUTIONS_5_last_match_sum, -0.06242532838082585\n",
      "9: TEAM_YELLOWCARDS_5_last_match_sum, -0.05975428509965533\n",
      "10: TEAM_BALL_SAFE_5_last_match_sum, 0.054149661896815714\n"
     ]
    }
   ],
   "source": [
    "reg = LassoCV(random_state = 48)\n",
    "\n",
    "reg =reg.fit(X, y_aggregate)\n",
    "print(f\"R^2: {np.round(reg.score(X, y_aggregate),4)}; alpha: {np.round(reg.alpha_, 4)}\")\n",
    "lst = [(n, c) for n, c in zip(reg.feature_names_in_, reg.coef_)]\n",
    "lst.sort(key = lambda x : abs(x[1]), reverse = True)\n",
    "for i, r in enumerate(lst):\n",
    "    if i < 10:\n",
    "        print(f\"{i+1}: {r[0]}, {r[1]}\")"
   ]
  },
  {
   "cell_type": "markdown",
   "id": "ee15ab0b-b184-4a37-89cf-49ff40db226f",
   "metadata": {},
   "source": [
    "From this we see that there is a slight linear correlation, but that we are not in danger of overfitting (alpha would be higher). It turns out that only the top few values really help.\n",
    "\n",
    "**Note**: As all the features are scaled so that they have the same range, the size of the coefficent esitmates its importance in predicting the 'form' metric. "
   ]
  },
  {
   "cell_type": "markdown",
   "id": "c3ea20f9-3347-42d3-8cb7-e8c2e7dd4daa",
   "metadata": {},
   "source": [
    "#### Forward Stepwise Selection"
   ]
  },
  {
   "cell_type": "markdown",
   "id": "acb0f3ff-672d-4418-b631-91417e7567e3",
   "metadata": {},
   "source": [
    "We can now forward stepwise selection to help pick the best features:"
   ]
  },
  {
   "cell_type": "code",
   "execution_count": 9,
   "id": "c30864f9-5eaf-4e00-8d50-ea829584620d",
   "metadata": {},
   "outputs": [],
   "source": [
    "def MSE_function_p(p, X, y, give_features = False):\n",
    "    X_train, X_test, y_train, y_test = train_test_split(X,y, random_state = 48,test_size=0.2)\n",
    "    estimator = LinearRegression()\n",
    "    selector = RFE(estimator, n_features_to_select=p, step=1)\n",
    "    selector = selector.fit(X_train, y_train)\n",
    "\n",
    "    if give_features:\n",
    "        lst = [list([c]) for n,c in zip(selector.support_, selector.feature_names_in_) if n]\n",
    "        lst = [[n, s] for n, s in zip(lst, selector.estimator_.coef_)]  \n",
    "        lst.sort(key = lambda x : abs(x[-1]), reverse = True)\n",
    "        return lst\n",
    "        \n",
    "    X_pred = X_test[[f for f, s in zip(selector.feature_names_in_, selector.support_) if s]]\n",
    "    return mean_squared_error(selector.estimator_.predict(X_pred), y_test)"
   ]
  },
  {
   "cell_type": "code",
   "execution_count": 10,
   "id": "34dc35eb-935a-43eb-8df5-776c413d93bf",
   "metadata": {},
   "outputs": [
    {
     "data": {
      "image/png": "[encoded data removed]",
      "text/plain": [
       "<Figure size 640x480 with 1 Axes>"
      ]
     },
     "metadata": {},
     "output_type": "display_data"
    }
   ],
   "source": [
    "plt.plot(range(1,10), [MSE_function_p(i, X, y_aggregate) for i in range(1,10)])\n",
    "plt.xlabel(\"Number of Features\")\n",
    "plt.ylabel(\"MSE\")\n",
    "plt.title(\"MSE as a function of N features\")\n",
    "plt.show()"
   ]
  },
  {
   "cell_type": "markdown",
   "id": "e2b04823-2e52-42d9-9c8d-de85ae8cfb9b",
   "metadata": {},
   "source": [
    "i.e. this would suggest that we want the first 6 features, as more than that don't seem to really help reduce the MSE. What are these features?"
   ]
  },
  {
   "cell_type": "code",
   "execution_count": 17,
   "id": "c625b868-c288-40ab-8fce-ec60c08930b4",
   "metadata": {},
   "outputs": [
    {
     "name": "stdout",
     "output_type": "stream",
     "text": [
      "[['TEAM_GOALS_5_last_match_sum'], 1.166289224596419]\n",
      "[['TEAM_SAVES_5_last_match_sum'], -0.164876518420202]\n",
      "[['TEAM_SHOTS_ON_TARGET_5_last_match_sum'], 0.15525091880985853]\n",
      "[['TEAM_GOALS_5_last_match_std'], -0.14888989374503786]\n",
      "[['TEAM_REDCARDS_5_last_match_sum'], -0.10524883054595782]\n",
      "[['TEAM_INJURIES_5_last_match_sum'], 0.08343206527680125]\n"
     ]
    }
   ],
   "source": [
    "mse_6_features = MSE_function_p(6, X, y_aggregate, True)\n",
    "print(*mse_6_features, sep='\\n')"
   ]
  },
  {
   "cell_type": "markdown",
   "id": "40e003f7-19e3-4581-80ce-078389b9ef78",
   "metadata": {},
   "source": [
    "From what we see with Lasso regression, we are selecting similar features with both models."
   ]
  },
  {
   "cell_type": "markdown",
   "id": "1947dc80-b10d-40b4-a575-a845875bb800",
   "metadata": {},
   "source": [
    "## Predicting Form"
   ]
  },
  {
   "cell_type": "markdown",
   "id": "0922e6bb-869c-43c6-a685-4500661b864b",
   "metadata": {},
   "source": [
    "Make the predictions for the training data set and save to file."
   ]
  },
  {
   "cell_type": "code",
   "execution_count": 18,
   "id": "90fd2160-7bd9-462c-903b-48a4618b5477",
   "metadata": {},
   "outputs": [
    {
     "name": "stdout",
     "output_type": "stream",
     "text": [
      "TEAM_GOALS_5_last_match_sum\n",
      "TEAM_SAVES_5_last_match_sum\n",
      "TEAM_SHOTS_ON_TARGET_5_last_match_sum\n",
      "TEAM_GOALS_5_last_match_std\n",
      "TEAM_REDCARDS_5_last_match_sum\n",
      "TEAM_INJURIES_5_last_match_sum\n"
     ]
    }
   ],
   "source": [
    "form_cols = [c[0][0] for c in mse_6_features]\n",
    "print(*form_cols,sep='\\n')"
   ]
  },
  {
   "cell_type": "code",
   "execution_count": 25,
   "id": "ce59060d-da2a-4392-adb5-1f7ed4bba4d5",
   "metadata": {},
   "outputs": [],
   "source": [
    "model = LinearRegression()\n",
    "model.fit(X[form_cols], y_aggregate);\n",
    "away_form, home_form = model.predict(X_away[form_cols]), model.predict(X_home[form_cols])\n",
    "diff_form = [h-a for h,a in zip(home_form, away_form)]"
   ]
  },
  {
   "cell_type": "code",
   "execution_count": 37,
   "id": "5608d9d9-ef58-4d75-8c5a-7d77d8784d0d",
   "metadata": {},
   "outputs": [],
   "source": [
    "form_data = pd.DataFrame({\"AWAY_FORM_5_last_match_sum\" : away_form, \n",
    "                          \"HOME_FORM_5_last_match_sum\" : home_form,\n",
    "                          \"DIFF_FORM_5_last_match_sum\" : diff_form,})\n",
    "# display(form_data.head())\n",
    "scaler = MinMaxScaler(feature_range = (0,10))\n",
    "form_data = pd.DataFrame(scaler.fit_transform(form_data), columns = form_data.columns)"
   ]
  },
  {
   "cell_type": "code",
   "execution_count": 34,
   "id": "f7317ed3-b626-467e-996b-6976a55520ab",
   "metadata": {},
   "outputs": [],
   "source": [
    "form_data.to_csv(\"form_metric/form_data.csv\", index = False)"
   ]
  },
  {
   "cell_type": "code",
   "execution_count": 33,
   "id": "37818c0b-3dc7-4c11-b102-2b35fadda29f",
   "metadata": {},
   "outputs": [],
   "source": [
    "with open('form_metric/form_linear_model.pkl', 'wb') as f:\n",
    "    pickle.dump(model, f)"
   ]
  }
 ],
 "metadata": {
  "kernelspec": {
   "display_name": "Python 3 (ipykernel)",
   "language": "python",
   "name": "python3"
  },
  "language_info": {
   "codemirror_mode": {
    "name": "ipython",
    "version": 3
   },
   "file_extension": ".py",
   "mimetype": "text/x-python",
   "name": "python",
   "nbconvert_exporter": "python",
   "pygments_lexer": "ipython3",
   "version": "3.11.7"
  }
 },
 "nbformat": 4,
 "nbformat_minor": 5
}
