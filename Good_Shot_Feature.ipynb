{
 "cells": [
  {
   "cell_type": "code",
   "execution_count": 1,
   "id": "376414de-b28e-4d83-92ea-1fb5f8185bea",
   "metadata": {},
   "outputs": [],
   "source": [
    "import pandas as pd\n",
    "import numpy as np\n",
    "\n",
    "import pickle\n",
    "\n",
    "from sklearn.preprocessing import PolynomialFeatures, MinMaxScaler\n",
    "from sklearn.model_selection import train_test_split\n",
    "from sklearn.linear_model import LinearRegression\n",
    "from sklearn.metrics import mean_squared_error\n",
    "\n",
    "import warnings\n",
    "import matplotlib.pyplot as plt\n",
    "import seaborn as sns\n",
    "\n",
    "warnings.filterwarnings('ignore')"
   ]
  },
  {
   "cell_type": "code",
   "execution_count": 2,
   "id": "22704e54-c40b-4547-9c71-ce29b19d0114",
   "metadata": {},
   "outputs": [],
   "source": [
    "train_home = pd.read_csv('Good_Shot_Feature/Home_Data_cleaned.csv', index_col=0)\n",
    "train_away = pd.read_csv('Good_Shot_Feature/Away_Data_cleaned.csv', index_col=0)"
   ]
  },
  {
   "cell_type": "code",
   "execution_count": 3,
   "id": "eaadb268-2306-4fd9-9615-de925f87e52a",
   "metadata": {},
   "outputs": [],
   "source": [
    "def get_shot_sum_cols(cols):\n",
    "    return [c for c in cols if ('sum' in c and 'GOALS' in c)], [c for c in cols if ('sum' in c and 'SHOT' in c)]"
   ]
  },
  {
   "cell_type": "code",
   "execution_count": 4,
   "id": "a1217484-3cea-4ba1-bca8-eb920084f832",
   "metadata": {},
   "outputs": [],
   "source": [
    "def get_training_test_shot(df):\n",
    "    y_cols, x_cols = get_shot_sum_cols(df.columns)\n",
    "    return df[y_cols[0]].copy(), df[x_cols[:5]].copy(), df[y_cols[1]].copy(), df[x_cols[5:]].copy()"
   ]
  },
  {
   "cell_type": "code",
   "execution_count": 5,
   "id": "2dc8fede-f280-4400-af78-080dd88e68b5",
   "metadata": {},
   "outputs": [],
   "source": [
    "y_home_s, X_home_s, y_home_5, X_home_5 = get_training_test_shot(train_home)\n",
    "y_away_s, X_away_s, y_away_5, X_away_5 = get_training_test_shot(train_away)"
   ]
  },
  {
   "cell_type": "markdown",
   "id": "1a0331f3-7fd0-4dd9-bc74-e6db99760ec0",
   "metadata": {},
   "source": [
    "## Fitting Models"
   ]
  },
  {
   "cell_type": "markdown",
   "id": "f9851ccf-9677-40b0-841b-db77cf49d2c9",
   "metadata": {},
   "source": [
    "Let us fit the first set of data"
   ]
  },
  {
   "cell_type": "code",
   "execution_count": 6,
   "id": "9a4b5c96-a9d4-4cd5-b12f-dd7bd7df1f71",
   "metadata": {},
   "outputs": [],
   "source": [
    "def get_poly_features(X,y, degree):\n",
    "    poly = PolynomialFeatures(degree,include_bias = False)\n",
    "    X_poly = poly.fit_transform(X)\n",
    "    return train_test_split(X_poly, y, test_size=0.2, random_state=42) "
   ]
  },
  {
   "cell_type": "code",
   "execution_count": 7,
   "id": "b58b4f5a-f453-4d41-9084-16edeb3d4edc",
   "metadata": {},
   "outputs": [],
   "source": [
    "def fitting_goals_polynomial(X, y, degree = 1):\n",
    "    X_train, X_test, y_train, y_test = get_poly_features(X,y, degree)\n",
    "    model = LinearRegression(fit_intercept = True)\n",
    "    model.fit(X_train, y_train)\n",
    "    print(f\"R^2 train: {np.round(model.score(X_train, y_train),4)}; R^2 test: {np.round(model.score(X_test, y_test),4)}\")\n",
    "    print(f\"MSE train: {np.round(mean_squared_error(model.predict(X_train), y_train),4)}; MSE test: {np.round(mean_squared_error(model.predict(X_test), y_test),4)}\")\n",
    "    print(f\"{'-'*40}\")\n",
    "    return model"
   ]
  },
  {
   "cell_type": "markdown",
   "id": "17603cac-99c0-4f9a-98d0-ea8ff5b84bb6",
   "metadata": {},
   "source": [
    "Lets first try a quad model"
   ]
  },
  {
   "cell_type": "code",
   "execution_count": 8,
   "id": "580cdb54-8fee-44ff-b434-358c23e11991",
   "metadata": {},
   "outputs": [
    {
     "name": "stdout",
     "output_type": "stream",
     "text": [
      "R^2 train: 0.5579; R^2 test: 0.5645\n",
      "MSE train: 3.5876; MSE test: 3.5049\n",
      "----------------------------------------\n",
      "R^2 train: 0.3754; R^2 test: 0.3633\n",
      "MSE train: 4.8847; MSE test: 5.0065\n",
      "----------------------------------------\n",
      "R^2 train: 0.5585; R^2 test: 0.5409\n",
      "MSE train: 3.6121; MSE test: 3.6551\n",
      "----------------------------------------\n",
      "R^2 train: 0.371; R^2 test: 0.3696\n",
      "MSE train: 5.0674; MSE test: 5.0556\n",
      "----------------------------------------\n"
     ]
    }
   ],
   "source": [
    "h_s = fitting_goals_polynomial(X_home_s, y_home_s, 2);\n",
    "h_5 = fitting_goals_polynomial(X_home_5, y_home_5, 2);\n",
    "a_s = fitting_goals_polynomial(X_away_s, y_away_s, 2);\n",
    "a_5 = fitting_goals_polynomial(X_away_5, y_away_5, 2);"
   ]
  },
  {
   "cell_type": "markdown",
   "id": "01e11bfb-96e1-4f54-a1a6-dc1443503039",
   "metadata": {},
   "source": [
    "Now lets try a linear model"
   ]
  },
  {
   "cell_type": "code",
   "execution_count": 9,
   "id": "a5892394-9b19-471e-818c-a6beffb099bb",
   "metadata": {},
   "outputs": [
    {
     "name": "stdout",
     "output_type": "stream",
     "text": [
      "R^2 train: 0.547; R^2 test: 0.551\n",
      "MSE train: 3.676; MSE test: 3.6135\n",
      "----------------------------------------\n",
      "R^2 train: 0.371; R^2 test: 0.3564\n",
      "MSE train: 4.9188; MSE test: 5.0608\n",
      "----------------------------------------\n",
      "R^2 train: 0.5463; R^2 test: 0.5317\n",
      "MSE train: 3.7126; MSE test: 3.7289\n",
      "----------------------------------------\n",
      "R^2 train: 0.3665; R^2 test: 0.3669\n",
      "MSE train: 5.1036; MSE test: 5.0772\n",
      "----------------------------------------\n"
     ]
    }
   ],
   "source": [
    "h_s = fitting_goals_polynomial(X_home_s, y_home_s);\n",
    "h_5 = fitting_goals_polynomial(X_home_5, y_home_5);\n",
    "a_s = fitting_goals_polynomial(X_away_s, y_away_s);\n",
    "a_5 = fitting_goals_polynomial(X_away_5, y_away_5);"
   ]
  },
  {
   "cell_type": "markdown",
   "id": "73c2114b-4537-4098-a2ae-af66119bab38",
   "metadata": {},
   "source": [
    "It seems like a linear model works just as well, so we will use that in the future. This prediction seems to work well for the season, less well for the last 5 games. I think this is due to the larger statistical error in the measures, i.e. this data set will just be more noisy due to the lower sample size per metric. Two questions follow:\n",
    "\n",
    "1. Can we use the same model for season away and home games?\n",
    "2. If the answer to this is yes, can we use the same model for the last 5 games? i.e. is the last 5 games just too noisy to fit well. \n",
    "\n",
    "Let's start with 1. "
   ]
  },
  {
   "cell_type": "code",
   "execution_count": 10,
   "id": "a4e4663a-0ba2-4df4-b99b-e780e3c465a6",
   "metadata": {},
   "outputs": [
    {
     "name": "stdout",
     "output_type": "stream",
     "text": [
      "Mean Fractional Error: 0.0556\n"
     ]
    },
    {
     "data": {
      "image/png": "[encoded data removed]",
      "text/plain": [
       "<Figure size 640x480 with 1 Axes>"
      ]
     },
     "metadata": {},
     "output_type": "display_data"
    }
   ],
   "source": [
    "frac_coeff_diff = [abs(a-b)/a for a, b in zip(h_s.coef_, a_s.coef_)]\n",
    "plt.plot(frac_coeff_diff)\n",
    "print(f\"Mean Fractional Error: {np.round(sum(frac_coeff_diff)/len(frac_coeff_diff),4)}\")\n",
    "plt.xlabel(\"Coeff\")\n",
    "plt.ylabel(\"Fractional difference between home and away regressor\")\n",
    "plt.show()"
   ]
  },
  {
   "cell_type": "markdown",
   "id": "13de5417-fa42-48d3-b0d2-2b16e66a40fa",
   "metadata": {},
   "source": [
    "They seem to have similar coefficents. Lets see what the error is if we one model to predict the values of the other"
   ]
  },
  {
   "cell_type": "code",
   "execution_count": 11,
   "id": "6df57b08-c7b9-4c87-8e03-4877d7c4f81b",
   "metadata": {},
   "outputs": [
    {
     "name": "stdout",
     "output_type": "stream",
     "text": [
      "R^2 train: 0.5432\n",
      "MSE train: 3.7182\n",
      "----------------------------------------\n",
      "R^2 train: 0.5472\n",
      "MSE train: 3.6683\n",
      "----------------------------------------\n"
     ]
    }
   ],
   "source": [
    "print(f\"R^2 train: {np.round(h_s.score(X_away_s, y_away_s),4)}\")\n",
    "print(f\"MSE train: {np.round(mean_squared_error(h_s.predict(X_away_s), y_away_s),4)}\") \n",
    "print(f\"{'-'*40}\")\n",
    "print(f\"R^2 train: {np.round(a_s.score(X_home_s, y_home_s),4)}\")\n",
    "print(f\"MSE train: {np.round(mean_squared_error(a_s.predict(X_home_s), y_home_s),4)}\") \n",
    "print(f\"{'-'*40}\")"
   ]
  },
  {
   "cell_type": "markdown",
   "id": "14557b2f-4232-47ab-af80-54d162bc15a4",
   "metadata": {},
   "source": [
    "i.e. they work well in prediciting each other. \n",
    "\n",
    "Now let's answer (2): does the home season model (and therefore  by extenstion the away season model) predict the last 5 score well?"
   ]
  },
  {
   "cell_type": "code",
   "execution_count": 13,
   "id": "dd9f0b58-7c76-4563-aeb3-fd267a86c566",
   "metadata": {},
   "outputs": [
    {
     "name": "stdout",
     "output_type": "stream",
     "text": [
      "R^2 train: 0.3454\n",
      "MSE train: 5.2694\n",
      "----------------------------------------\n",
      "R^2 train: 0.3488\n",
      "MSE train: 5.0986\n",
      "----------------------------------------\n"
     ]
    }
   ],
   "source": [
    "print(f\"R^2 train: {np.round(h_s.score(X_away_5, y_away_5),4)}\")\n",
    "print(f\"MSE train: {np.round(mean_squared_error(h_s.predict(X_away_5), y_away_5),4)}\") \n",
    "print(f\"{'-'*40}\")\n",
    "print(f\"R^2 train: {np.round(h_s.score(X_home_5, y_home_5),4)}\")\n",
    "print(f\"MSE train: {np.round(mean_squared_error(h_s.predict(X_home_5), y_home_5),4)}\") \n",
    "print(f\"{'-'*40}\")"
   ]
  },
  {
   "cell_type": "markdown",
   "id": "d8cad6d1-211c-46d0-964b-ef130a7582a8",
   "metadata": {},
   "source": [
    "Yes! The MSE error is only different by about .1. I guess this means that use the model trained on the season data to create a good shot metric.\n",
    "\n",
    "Note the small $R^2$ due to the noise. \n",
    "\n",
    "Okay, so we will train the model on all the season data and then save the predictions to file. This can then be read into the exploration notebook and used as a param. "
   ]
  },
  {
   "cell_type": "code",
   "execution_count": 14,
   "id": "f4fc0309-685a-4395-a4eb-8b8d4db329ad",
   "metadata": {},
   "outputs": [],
   "source": [
    "X_home_s.columns = [c[5:] for c in X_home_s.columns]\n",
    "X_away_s.columns = [c[5:] for c in X_away_s.columns]"
   ]
  },
  {
   "cell_type": "code",
   "execution_count": 15,
   "id": "aa8d4c65-7b8a-43ab-81b8-759ff32d2f9d",
   "metadata": {},
   "outputs": [
    {
     "name": "stdout",
     "output_type": "stream",
     "text": [
      "<class 'pandas.core.frame.DataFrame'>\n",
      "Index: 24606 entries, 0 to 12302\n",
      "Data columns (total 5 columns):\n",
      " #   Column                            Non-Null Count  Dtype  \n",
      "---  ------                            --------------  -----  \n",
      " 0   TEAM_SHOTS_TOTAL_season_sum       24606 non-null  float64\n",
      " 1   TEAM_SHOTS_INSIDEBOX_season_sum   24606 non-null  float64\n",
      " 2   TEAM_SHOTS_OFF_TARGET_season_sum  24606 non-null  float64\n",
      " 3   TEAM_SHOTS_ON_TARGET_season_sum   24606 non-null  float64\n",
      " 4   TEAM_SHOTS_OUTSIDEBOX_season_sum  24606 non-null  float64\n",
      "dtypes: float64(5)\n",
      "memory usage: 1.1 MB\n"
     ]
    }
   ],
   "source": [
    "X_total_s = pd.concat([X_home_s,X_away_s],join='inner',axis=0)\n",
    "y_total_s = pd.concat([y_home_s,y_away_s],join='inner',axis=0)\n",
    "X_total_s.info()\n"
   ]
  },
  {
   "cell_type": "code",
   "execution_count": 16,
   "id": "92b1ac5b-f3fd-488b-81e4-2b30a9cccada",
   "metadata": {},
   "outputs": [
    {
     "name": "stdout",
     "output_type": "stream",
     "text": [
      "R^2 train: 0.5444; R^2 test: 0.5504\n",
      "MSE train: 3.698; MSE test: 3.6577\n",
      "----------------------------------------\n"
     ]
    }
   ],
   "source": [
    "total_model = fitting_goals_polynomial(X_total_s, y_total_s, degree = 1);"
   ]
  },
  {
   "cell_type": "code",
   "execution_count": 17,
   "id": "175a7993-4e62-4698-a113-a020eeead42d",
   "metadata": {},
   "outputs": [],
   "source": [
    "column_title_s = \"GOOD_SHOT_season_sum\"\n",
    "column_title_5 = \"GOOD_SHOT_5_last_match_sum\"\n",
    "\n",
    "away_predict_s, home_predict_s = total_model.predict(X_away_s), total_model.predict(X_home_s)\n",
    "away_predict_5, home_predict_5 = total_model.predict(X_away_5), total_model.predict(X_home_5)\n",
    "\n",
    "save_df = pd.DataFrame({\"AWAY_\"+column_title_s : away_predict_s,\n",
    "                       \"HOME_\"+column_title_s : home_predict_s,\n",
    "                       \"AWAY_\"+column_title_5 : away_predict_5,\n",
    "                       \"HOME_\"+column_title_5 : home_predict_5})"
   ]
  },
  {
   "cell_type": "markdown",
   "id": "15b01e73-6e79-44bd-aab1-b5351aaea7cf",
   "metadata": {},
   "source": [
    "We will add the difference column to this: "
   ]
  },
  {
   "cell_type": "code",
   "execution_count": 18,
   "id": "d2100fc3-0234-44b9-be07-5a1758df0161",
   "metadata": {},
   "outputs": [
    {
     "data": {
      "text/html": [
       "<div>\n",
       "<style scoped>\n",
       "    .dataframe tbody tr th:only-of-type {\n",
       "        vertical-align: middle;\n",
       "    }\n",
       "\n",
       "    .dataframe tbody tr th {\n",
       "        vertical-align: top;\n",
       "    }\n",
       "\n",
       "    .dataframe thead th {\n",
       "        text-align: right;\n",
       "    }\n",
       "</style>\n",
       "<table border=\"1\" class=\"dataframe\">\n",
       "  <thead>\n",
       "    <tr style=\"text-align: right;\">\n",
       "      <th></th>\n",
       "      <th>AWAY_GOOD_SHOT_season_sum</th>\n",
       "      <th>HOME_GOOD_SHOT_season_sum</th>\n",
       "      <th>AWAY_GOOD_SHOT_5_last_match_sum</th>\n",
       "      <th>HOME_GOOD_SHOT_5_last_match_sum</th>\n",
       "      <th>DIFF_GOOD_SHOT_season_sum</th>\n",
       "      <th>DIFF_GOOD_SHOT_5_last_match_sum</th>\n",
       "    </tr>\n",
       "  </thead>\n",
       "  <tbody>\n",
       "    <tr>\n",
       "      <th>0</th>\n",
       "      <td>1.306981</td>\n",
       "      <td>2.384875</td>\n",
       "      <td>1.741475</td>\n",
       "      <td>2.624344</td>\n",
       "      <td>1.077894</td>\n",
       "      <td>0.882868</td>\n",
       "    </tr>\n",
       "    <tr>\n",
       "      <th>1</th>\n",
       "      <td>2.640634</td>\n",
       "      <td>6.205935</td>\n",
       "      <td>3.128771</td>\n",
       "      <td>6.704377</td>\n",
       "      <td>3.565300</td>\n",
       "      <td>3.575606</td>\n",
       "    </tr>\n",
       "    <tr>\n",
       "      <th>2</th>\n",
       "      <td>2.266503</td>\n",
       "      <td>1.691464</td>\n",
       "      <td>1.432939</td>\n",
       "      <td>4.220691</td>\n",
       "      <td>-0.575039</td>\n",
       "      <td>2.787753</td>\n",
       "    </tr>\n",
       "    <tr>\n",
       "      <th>3</th>\n",
       "      <td>1.088272</td>\n",
       "      <td>5.221384</td>\n",
       "      <td>1.339505</td>\n",
       "      <td>3.823795</td>\n",
       "      <td>4.133112</td>\n",
       "      <td>2.484290</td>\n",
       "    </tr>\n",
       "    <tr>\n",
       "      <th>4</th>\n",
       "      <td>4.944519</td>\n",
       "      <td>3.240656</td>\n",
       "      <td>8.230155</td>\n",
       "      <td>3.588191</td>\n",
       "      <td>-1.703863</td>\n",
       "      <td>-4.641964</td>\n",
       "    </tr>\n",
       "  </tbody>\n",
       "</table>\n",
       "</div>"
      ],
      "text/plain": [
       "   AWAY_GOOD_SHOT_season_sum  HOME_GOOD_SHOT_season_sum  \\\n",
       "0                   1.306981                   2.384875   \n",
       "1                   2.640634                   6.205935   \n",
       "2                   2.266503                   1.691464   \n",
       "3                   1.088272                   5.221384   \n",
       "4                   4.944519                   3.240656   \n",
       "\n",
       "   AWAY_GOOD_SHOT_5_last_match_sum  HOME_GOOD_SHOT_5_last_match_sum  \\\n",
       "0                         1.741475                         2.624344   \n",
       "1                         3.128771                         6.704377   \n",
       "2                         1.432939                         4.220691   \n",
       "3                         1.339505                         3.823795   \n",
       "4                         8.230155                         3.588191   \n",
       "\n",
       "   DIFF_GOOD_SHOT_season_sum  DIFF_GOOD_SHOT_5_last_match_sum  \n",
       "0                   1.077894                         0.882868  \n",
       "1                   3.565300                         3.575606  \n",
       "2                  -0.575039                         2.787753  \n",
       "3                   4.133112                         2.484290  \n",
       "4                  -1.703863                        -4.641964  "
      ]
     },
     "execution_count": 18,
     "metadata": {},
     "output_type": "execute_result"
    }
   ],
   "source": [
    "diff_predict_s = [h-a for h,a in zip(home_predict_s, away_predict_s)]\n",
    "diff_predict_5 = [h-a for h,a in zip(home_predict_5, away_predict_5)]\n",
    "\n",
    "save_df[\"DIFF_\"+column_title_s] = diff_predict_s\n",
    "save_df[\"DIFF_\"+column_title_5] = diff_predict_5\n",
    "\n",
    "save_df.head()"
   ]
  },
  {
   "cell_type": "code",
   "execution_count": 19,
   "id": "151ba055-dc06-497d-9170-33c91011279f",
   "metadata": {},
   "outputs": [
    {
     "data": {
      "text/html": [
       "<div>\n",
       "<style scoped>\n",
       "    .dataframe tbody tr th:only-of-type {\n",
       "        vertical-align: middle;\n",
       "    }\n",
       "\n",
       "    .dataframe tbody tr th {\n",
       "        vertical-align: top;\n",
       "    }\n",
       "\n",
       "    .dataframe thead th {\n",
       "        text-align: right;\n",
       "    }\n",
       "</style>\n",
       "<table border=\"1\" class=\"dataframe\">\n",
       "  <thead>\n",
       "    <tr style=\"text-align: right;\">\n",
       "      <th></th>\n",
       "      <th>AWAY_GOOD_SHOT_season_sum</th>\n",
       "      <th>HOME_GOOD_SHOT_season_sum</th>\n",
       "      <th>AWAY_GOOD_SHOT_5_last_match_sum</th>\n",
       "      <th>HOME_GOOD_SHOT_5_last_match_sum</th>\n",
       "      <th>DIFF_GOOD_SHOT_season_sum</th>\n",
       "      <th>DIFF_GOOD_SHOT_5_last_match_sum</th>\n",
       "    </tr>\n",
       "  </thead>\n",
       "  <tbody>\n",
       "    <tr>\n",
       "      <th>count</th>\n",
       "      <td>12303.000000</td>\n",
       "      <td>12303.000000</td>\n",
       "      <td>12303.000000</td>\n",
       "      <td>12303.000000</td>\n",
       "      <td>12303.000000</td>\n",
       "      <td>12303.000000</td>\n",
       "    </tr>\n",
       "    <tr>\n",
       "      <th>mean</th>\n",
       "      <td>4.510363</td>\n",
       "      <td>4.465209</td>\n",
       "      <td>4.396312</td>\n",
       "      <td>4.280394</td>\n",
       "      <td>4.977423</td>\n",
       "      <td>4.942041</td>\n",
       "    </tr>\n",
       "    <tr>\n",
       "      <th>std</th>\n",
       "      <td>1.858928</td>\n",
       "      <td>1.852388</td>\n",
       "      <td>1.827029</td>\n",
       "      <td>1.802272</td>\n",
       "      <td>1.269583</td>\n",
       "      <td>1.257391</td>\n",
       "    </tr>\n",
       "    <tr>\n",
       "      <th>min</th>\n",
       "      <td>0.000000</td>\n",
       "      <td>0.000000</td>\n",
       "      <td>0.000000</td>\n",
       "      <td>0.000000</td>\n",
       "      <td>0.000000</td>\n",
       "      <td>0.000000</td>\n",
       "    </tr>\n",
       "    <tr>\n",
       "      <th>25%</th>\n",
       "      <td>3.055098</td>\n",
       "      <td>3.016769</td>\n",
       "      <td>2.983697</td>\n",
       "      <td>2.895007</td>\n",
       "      <td>4.170784</td>\n",
       "      <td>4.121428</td>\n",
       "    </tr>\n",
       "    <tr>\n",
       "      <th>50%</th>\n",
       "      <td>4.250752</td>\n",
       "      <td>4.206527</td>\n",
       "      <td>4.170155</td>\n",
       "      <td>4.058418</td>\n",
       "      <td>4.974646</td>\n",
       "      <td>4.943189</td>\n",
       "    </tr>\n",
       "    <tr>\n",
       "      <th>75%</th>\n",
       "      <td>5.782954</td>\n",
       "      <td>5.730730</td>\n",
       "      <td>5.588104</td>\n",
       "      <td>5.441823</td>\n",
       "      <td>5.782007</td>\n",
       "      <td>5.740440</td>\n",
       "    </tr>\n",
       "    <tr>\n",
       "      <th>max</th>\n",
       "      <td>10.000000</td>\n",
       "      <td>10.000000</td>\n",
       "      <td>10.000000</td>\n",
       "      <td>10.000000</td>\n",
       "      <td>10.000000</td>\n",
       "      <td>10.000000</td>\n",
       "    </tr>\n",
       "  </tbody>\n",
       "</table>\n",
       "</div>"
      ],
      "text/plain": [
       "       AWAY_GOOD_SHOT_season_sum  HOME_GOOD_SHOT_season_sum  \\\n",
       "count               12303.000000               12303.000000   \n",
       "mean                    4.510363                   4.465209   \n",
       "std                     1.858928                   1.852388   \n",
       "min                     0.000000                   0.000000   \n",
       "25%                     3.055098                   3.016769   \n",
       "50%                     4.250752                   4.206527   \n",
       "75%                     5.782954                   5.730730   \n",
       "max                    10.000000                  10.000000   \n",
       "\n",
       "       AWAY_GOOD_SHOT_5_last_match_sum  HOME_GOOD_SHOT_5_last_match_sum  \\\n",
       "count                     12303.000000                     12303.000000   \n",
       "mean                          4.396312                         4.280394   \n",
       "std                           1.827029                         1.802272   \n",
       "min                           0.000000                         0.000000   \n",
       "25%                           2.983697                         2.895007   \n",
       "50%                           4.170155                         4.058418   \n",
       "75%                           5.588104                         5.441823   \n",
       "max                          10.000000                        10.000000   \n",
       "\n",
       "       DIFF_GOOD_SHOT_season_sum  DIFF_GOOD_SHOT_5_last_match_sum  \n",
       "count               12303.000000                     12303.000000  \n",
       "mean                    4.977423                         4.942041  \n",
       "std                     1.269583                         1.257391  \n",
       "min                     0.000000                         0.000000  \n",
       "25%                     4.170784                         4.121428  \n",
       "50%                     4.974646                         4.943189  \n",
       "75%                     5.782007                         5.740440  \n",
       "max                    10.000000                        10.000000  "
      ]
     },
     "execution_count": 19,
     "metadata": {},
     "output_type": "execute_result"
    }
   ],
   "source": [
    "# Finally normalise this data to be between \\in [0,10]\n",
    "scaler = MinMaxScaler(feature_range = (0, 10)) # We want it to have the same range, but as a diff I want it to have mean 0\n",
    "\n",
    "save_df = pd.DataFrame(scaler.fit_transform(save_df), columns = save_df.columns)\n",
    "save_df.describe()"
   ]
  },
  {
   "cell_type": "code",
   "execution_count": 21,
   "id": "0bd43172-30ee-4191-a127-fab0ac2810d3",
   "metadata": {},
   "outputs": [],
   "source": [
    "save_df.to_csv('Good_Shot_Feature/training_good_shot_feature.csv', index = False)\n",
    "\n",
    "with open('Good_Shot_Feature/good_shot_model.pkl', 'wb') as f:\n",
    "    pickle.dump(total_model, f)"
   ]
  }
 ],
 "metadata": {
  "kernelspec": {
   "display_name": "Python 3 (ipykernel)",
   "language": "python",
   "name": "python3"
  },
  "language_info": {
   "codemirror_mode": {
    "name": "ipython",
    "version": 3
   },
   "file_extension": ".py",
   "mimetype": "text/x-python",
   "name": "python",
   "nbconvert_exporter": "python",
   "pygments_lexer": "ipython3",
   "version": "3.11.7"
  }
 },
 "nbformat": 4,
 "nbformat_minor": 5
}
