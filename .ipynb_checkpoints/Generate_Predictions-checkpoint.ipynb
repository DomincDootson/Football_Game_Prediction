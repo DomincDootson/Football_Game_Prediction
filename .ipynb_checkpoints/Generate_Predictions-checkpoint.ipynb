{
 "cells": [
  {
   "cell_type": "markdown",
   "id": "34dc953c-20ff-4967-8875-412c98d90b1b",
   "metadata": {},
   "source": [
    "1. Generate the training set\n",
    "2. Read in the model and make prediction in the -1,0,1 form\n",
    "3. Change from this form to the correct form\n",
    "4. Check that the indicies make sense at the end"
   ]
  },
  {
   "cell_type": "code",
   "execution_count": 2,
   "id": "c53788b9-a8b8-4e05-9f6a-869f1477d2de",
   "metadata": {},
   "outputs": [],
   "source": [
    "from ProcessingFunctions.TrainingDataProcessing import create_processed_training_df\n",
    "from ProcessingFunctions.FeatureEngineering import read_in_model, read_in_features\n",
    "\n",
    "import pickle\n",
    "import warnings\n",
    "\n",
    "import matplotlib.pyplot as plt\n",
    "import seaborn as sns\n",
    "\n",
    "warnings.filterwarnings('ignore')"
   ]
  },
  {
   "cell_type": "code",
   "execution_count": 3,
   "id": "db9533c2-b79c-4405-8ef2-021932cdcd63",
   "metadata": {},
   "outputs": [],
   "source": [
    "test_data = create_processed_training_df('Test_Data/test_home_team_statistics_df.csv', 'Test_Data/test_away_team_statistics_df.csv', False)"
   ]
  },
  {
   "cell_type": "markdown",
   "id": "5e22eb0b-b0c4-466d-b793-588f7b04ae1b",
   "metadata": {},
   "source": [
    "## Making Predictions"
   ]
  },
  {
   "cell_type": "markdown",
   "id": "345f36d0-f082-483b-a897-03a8edcf15f0",
   "metadata": {},
   "source": [
    "In this section we will make the predictions on the test set:"
   ]
  },
  {
   "cell_type": "code",
   "execution_count": null,
   "id": "f7074115-692e-4881-a7fb-e4d0ba4ac207",
   "metadata": {},
   "outputs": [],
   "source": [
    "prediction_model = read_in_model()"
   ]
  }
 ],
 "metadata": {
  "kernelspec": {
   "display_name": "Python 3 (ipykernel)",
   "language": "python",
   "name": "python3"
  },
  "language_info": {
   "codemirror_mode": {
    "name": "ipython",
    "version": 3
   },
   "file_extension": ".py",
   "mimetype": "text/x-python",
   "name": "python",
   "nbconvert_exporter": "python",
   "pygments_lexer": "ipython3",
   "version": "3.11.7"
  }
 },
 "nbformat": 4,
 "nbformat_minor": 5
}
