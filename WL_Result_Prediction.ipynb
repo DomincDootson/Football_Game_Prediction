{
 "cells": [
  {
   "cell_type": "markdown",
   "id": "139d8075-1871-4fa1-89f9-ae921645ae6a",
   "metadata": {},
   "source": [
    "# Result Prediction"
   ]
  },
  {
   "cell_type": "code",
   "execution_count": 1,
   "id": "b7dcaae8-68fc-47fd-b853-c68b7292f7de",
   "metadata": {},
   "outputs": [],
   "source": [
    "import pandas as pd\n",
    "import numpy as np\n",
    "\n",
    "from Helper_Functions.sampling_functions import *\n",
    "from Helper_Functions.Backwards_Feature_Selection import stepwise_selection_classification\n",
    "from Helper_Functions.ForwardsStepwiseSelection import ForwardsStepwiseSelection\n",
    "\n",
    "from sklearn.preprocessing import MinMaxScaler\n",
    "from sklearn.model_selection import train_test_split\n",
    "from sklearn.linear_model import RidgeClassifier, LogisticRegression\n",
    "from sklearn.discriminant_analysis import LinearDiscriminantAnalysis, QuadraticDiscriminantAnalysis \n",
    "from sklearn.ensemble import RandomForestClassifier, AdaBoostClassifier, BaggingClassifier, GradientBoostingClassifier, VotingClassifier\n",
    "from sklearn.neural_network import MLPClassifier\n",
    "from sklearn.neighbors import KNeighborsClassifier\n",
    "from sklearn.feature_selection import RFE\n",
    "from sklearn.metrics import mean_squared_error, f1_score, accuracy_score, confusion_matrix\n",
    "from sklearn.model_selection import GridSearchCV\n",
    "from sklearn.multiclass import OneVsRestClassifier, OneVsOneClassifier\n",
    "\n",
    "import pickle\n",
    "import warnings\n",
    "\n",
    "import matplotlib.pyplot as plt\n",
    "import seaborn as sns\n",
    "\n",
    "warnings.filterwarnings('ignore')"
   ]
  },
  {
   "cell_type": "code",
   "execution_count": 2,
   "id": "d3d08734-2f41-408c-981b-29a3fc1b649c",
   "metadata": {},
   "outputs": [],
   "source": [
    "X, y = pd.read_csv('Data/Diff_train.csv'), pd.read_csv('Train_Data/Y_train.csv', index_col=0)\n",
    "y = y.loc[X.index] # This is our target"
   ]
  },
  {
   "cell_type": "markdown",
   "id": "7f8e4abf-c732-4dc4-873a-3b5be36de985",
   "metadata": {},
   "source": [
    "We will encode the y set, so that \n",
    "\n",
    "- -1: Loss\n",
    "- 0: Draw\n",
    "- 1: Win"
   ]
  },
  {
   "cell_type": "code",
   "execution_count": 3,
   "id": "5f6ca77d-18d8-4f09-a660-71854f1b3b18",
   "metadata": {},
   "outputs": [
    {
     "data": {
      "text/html": [
       "<div>\n",
       "<style scoped>\n",
       "    .dataframe tbody tr th:only-of-type {\n",
       "        vertical-align: middle;\n",
       "    }\n",
       "\n",
       "    .dataframe tbody tr th {\n",
       "        vertical-align: top;\n",
       "    }\n",
       "\n",
       "    .dataframe thead th {\n",
       "        text-align: right;\n",
       "    }\n",
       "</style>\n",
       "<table border=\"1\" class=\"dataframe\">\n",
       "  <thead>\n",
       "    <tr style=\"text-align: right;\">\n",
       "      <th></th>\n",
       "      <th>RESULT</th>\n",
       "    </tr>\n",
       "  </thead>\n",
       "  <tbody>\n",
       "    <tr>\n",
       "      <th>0</th>\n",
       "      <td>-1</td>\n",
       "    </tr>\n",
       "    <tr>\n",
       "      <th>1</th>\n",
       "      <td>0</td>\n",
       "    </tr>\n",
       "    <tr>\n",
       "      <th>2</th>\n",
       "      <td>-1</td>\n",
       "    </tr>\n",
       "    <tr>\n",
       "      <th>3</th>\n",
       "      <td>1</td>\n",
       "    </tr>\n",
       "    <tr>\n",
       "      <th>4</th>\n",
       "      <td>0</td>\n",
       "    </tr>\n",
       "  </tbody>\n",
       "</table>\n",
       "</div>"
      ],
      "text/plain": [
       "   RESULT\n",
       "0      -1\n",
       "1       0\n",
       "2      -1\n",
       "3       1\n",
       "4       0"
      ]
     },
     "execution_count": 3,
     "metadata": {},
     "output_type": "execute_result"
    }
   ],
   "source": [
    "mappings = {'AWAY_WINS' : -1, 'DRAW' : 0, 'HOME_WINS' : 1}\n",
    "y = pd.from_dummies(y)[''].apply(lambda x : mappings[x])\n",
    "y.head()\n",
    "\n",
    "y = pd.DataFrame(y)\n",
    "y.columns = ['RESULT']\n",
    "y['RESULT']=y['RESULT'].astype('int')\n",
    "y.head()"
   ]
  },
  {
   "cell_type": "code",
   "execution_count": 4,
   "id": "b9d8f545-c87b-41a6-a8ee-3aab1f2a7a94",
   "metadata": {},
   "outputs": [],
   "source": [
    "X_train, X_test, y_train, y_test = train_test_split(X, y, test_size=0.2, random_state=42)\n",
    "X_train, X_valid, y_train, y_valid = train_test_split(X_train, y_train, test_size=0.2, random_state=42)"
   ]
  },
  {
   "cell_type": "markdown",
   "id": "4cfcd605-6cef-4889-8fad-d42b3c33b860",
   "metadata": {},
   "source": [
    "## Feature Selection"
   ]
  },
  {
   "cell_type": "markdown",
   "id": "fd79be6a-224a-49fb-b640-7aca22753f07",
   "metadata": {},
   "source": [
    "So, we now need to select the feature upon which we will train our model. At the moment, I am unsure what the best approach will be: do we predict WDL or just WL? I will therefore apply stepwise selection of both sets of data to figure out which are the best features to use (hopefully there will be some overlap). \n",
    "\n",
    "Before we do that, however, we will play the same trick as before: we create an upsampled data set."
   ]
  },
  {
   "cell_type": "code",
   "execution_count": 5,
   "id": "82a99b39-a3be-410a-8089-2de816826839",
   "metadata": {},
   "outputs": [
    {
     "data": {
      "text/plain": [
       "RESULT\n",
       " 1    3393\n",
       "-1    2427\n",
       " 0    2053\n",
       "Name: count, dtype: int64"
      ]
     },
     "execution_count": 5,
     "metadata": {},
     "output_type": "execute_result"
    }
   ],
   "source": [
    "y_train['RESULT'].value_counts()"
   ]
  },
  {
   "cell_type": "markdown",
   "id": "52ba72c2-4308-4a7f-9749-95f357ba4666",
   "metadata": {},
   "source": [
    "As we will want to predict WL and WLD, we will create seperate training sets. \n",
    "\n",
    "First we upsample the data"
   ]
  },
  {
   "cell_type": "code",
   "execution_count": 6,
   "id": "9695c765-e7df-4a42-bb87-5176f86168f9",
   "metadata": {},
   "outputs": [
    {
     "name": "stdout",
     "output_type": "stream",
     "text": [
      "RESULT\n",
      "-1        4273\n",
      " 0        4273\n",
      " 1        4273\n",
      "Name: count, dtype: int64\n"
     ]
    }
   ],
   "source": [
    "train_upsampled = get_fraction_of_data(get_upsampled_data(X_train, y_train), 4273, 'RESULT')\n",
    "X_train_upsampled, y_train_upsampled = train_upsampled[X_train.columns], train_upsampled['RESULT']\n",
    "\n",
    "y_train_upsampled = pd.DataFrame({'RESULT' : y_train_upsampled}).astype('int')\n",
    "\n",
    "print(y_train_upsampled.value_counts())"
   ]
  },
  {
   "cell_type": "code",
   "execution_count": 7,
   "id": "fc800b2c-bd7b-4522-ae40-f12b2ed1e665",
   "metadata": {},
   "outputs": [
    {
     "data": {
      "text/html": [
       "<div>\n",
       "<style scoped>\n",
       "    .dataframe tbody tr th:only-of-type {\n",
       "        vertical-align: middle;\n",
       "    }\n",
       "\n",
       "    .dataframe tbody tr th {\n",
       "        vertical-align: top;\n",
       "    }\n",
       "\n",
       "    .dataframe thead th {\n",
       "        text-align: right;\n",
       "    }\n",
       "</style>\n",
       "<table border=\"1\" class=\"dataframe\">\n",
       "  <thead>\n",
       "    <tr style=\"text-align: right;\">\n",
       "      <th></th>\n",
       "      <th>HOME_TEAM_INJURIES_season_sum</th>\n",
       "      <th>HOME_TEAM_GAME_WON_season_sum</th>\n",
       "      <th>HOME_TEAM_GAME_DRAW_season_sum</th>\n",
       "      <th>HOME_TEAM_GAME_LOST_season_sum</th>\n",
       "      <th>HOME_TEAM_SHOTS_TOTAL_season_std</th>\n",
       "      <th>HOME_TEAM_SHOTS_INSIDEBOX_season_std</th>\n",
       "      <th>HOME_TEAM_SHOTS_OFF_TARGET_season_std</th>\n",
       "      <th>HOME_TEAM_SHOTS_ON_TARGET_season_std</th>\n",
       "      <th>HOME_TEAM_SHOTS_OUTSIDEBOX_season_std</th>\n",
       "      <th>HOME_TEAM_PASSES_season_std</th>\n",
       "      <th>...</th>\n",
       "      <th>DIFF_TEAM_GAME_LOST_5_last_match_sum</th>\n",
       "      <th>DIFF_TEAM_SUCCESSFUL_PASSES_PERCENTAGE_5_last_match_average</th>\n",
       "      <th>DIFF_TEAM_BALL_POSSESSION_5_last_match_average</th>\n",
       "      <th>WIN_PRIOR</th>\n",
       "      <th>DRAW_PRIOR</th>\n",
       "      <th>LOST_PRIOR</th>\n",
       "      <th>DIFF_GOOD_SHOT_season_sum</th>\n",
       "      <th>DIFF_GOOD_SHOT_5_last_match_sum</th>\n",
       "      <th>DIFF_FORM_5_last_match_sum</th>\n",
       "      <th>NORMAL_SAMPLED_PREDICTED_GD</th>\n",
       "    </tr>\n",
       "  </thead>\n",
       "  <tbody>\n",
       "    <tr>\n",
       "      <th>count</th>\n",
       "      <td>8546.000000</td>\n",
       "      <td>8546.000000</td>\n",
       "      <td>8546.000000</td>\n",
       "      <td>8546.000000</td>\n",
       "      <td>8546.00000</td>\n",
       "      <td>8546.000000</td>\n",
       "      <td>8546.000000</td>\n",
       "      <td>8546.000000</td>\n",
       "      <td>8546.000000</td>\n",
       "      <td>8546.000000</td>\n",
       "      <td>...</td>\n",
       "      <td>8546.000000</td>\n",
       "      <td>8546.000000</td>\n",
       "      <td>8546.000000</td>\n",
       "      <td>8546.000000</td>\n",
       "      <td>8546.000000</td>\n",
       "      <td>8546.000000</td>\n",
       "      <td>8546.000000</td>\n",
       "      <td>8546.000000</td>\n",
       "      <td>8546.000000</td>\n",
       "      <td>8546.000000</td>\n",
       "    </tr>\n",
       "    <tr>\n",
       "      <th>mean</th>\n",
       "      <td>4.076602</td>\n",
       "      <td>4.129919</td>\n",
       "      <td>4.570056</td>\n",
       "      <td>4.705466</td>\n",
       "      <td>4.24221</td>\n",
       "      <td>4.177556</td>\n",
       "      <td>4.080857</td>\n",
       "      <td>3.858647</td>\n",
       "      <td>3.919182</td>\n",
       "      <td>4.173784</td>\n",
       "      <td>...</td>\n",
       "      <td>5.094179</td>\n",
       "      <td>4.964178</td>\n",
       "      <td>4.943424</td>\n",
       "      <td>1.090134</td>\n",
       "      <td>1.053475</td>\n",
       "      <td>1.165879</td>\n",
       "      <td>4.977241</td>\n",
       "      <td>4.969440</td>\n",
       "      <td>5.133307</td>\n",
       "      <td>4.261035</td>\n",
       "    </tr>\n",
       "    <tr>\n",
       "      <th>std</th>\n",
       "      <td>2.713046</td>\n",
       "      <td>2.909015</td>\n",
       "      <td>2.881131</td>\n",
       "      <td>2.939828</td>\n",
       "      <td>2.75892</td>\n",
       "      <td>2.600709</td>\n",
       "      <td>2.814971</td>\n",
       "      <td>2.765948</td>\n",
       "      <td>2.622784</td>\n",
       "      <td>2.615430</td>\n",
       "      <td>...</td>\n",
       "      <td>2.086682</td>\n",
       "      <td>1.908472</td>\n",
       "      <td>1.970463</td>\n",
       "      <td>1.218300</td>\n",
       "      <td>0.926247</td>\n",
       "      <td>1.247440</td>\n",
       "      <td>1.300554</td>\n",
       "      <td>1.290006</td>\n",
       "      <td>1.351971</td>\n",
       "      <td>1.552622</td>\n",
       "    </tr>\n",
       "    <tr>\n",
       "      <th>min</th>\n",
       "      <td>0.000000</td>\n",
       "      <td>0.000000</td>\n",
       "      <td>0.000000</td>\n",
       "      <td>0.000000</td>\n",
       "      <td>0.00000</td>\n",
       "      <td>0.000000</td>\n",
       "      <td>0.000000</td>\n",
       "      <td>0.000000</td>\n",
       "      <td>0.000000</td>\n",
       "      <td>0.000000</td>\n",
       "      <td>...</td>\n",
       "      <td>0.000000</td>\n",
       "      <td>0.000000</td>\n",
       "      <td>0.000000</td>\n",
       "      <td>0.000000</td>\n",
       "      <td>0.000000</td>\n",
       "      <td>0.000000</td>\n",
       "      <td>0.486883</td>\n",
       "      <td>0.491021</td>\n",
       "      <td>0.254102</td>\n",
       "      <td>0.000000</td>\n",
       "    </tr>\n",
       "    <tr>\n",
       "      <th>25%</th>\n",
       "      <td>2.000000</td>\n",
       "      <td>2.000000</td>\n",
       "      <td>2.000000</td>\n",
       "      <td>2.000000</td>\n",
       "      <td>2.00000</td>\n",
       "      <td>2.000000</td>\n",
       "      <td>2.000000</td>\n",
       "      <td>2.000000</td>\n",
       "      <td>2.000000</td>\n",
       "      <td>2.000000</td>\n",
       "      <td>...</td>\n",
       "      <td>3.500000</td>\n",
       "      <td>3.500000</td>\n",
       "      <td>3.500000</td>\n",
       "      <td>0.204082</td>\n",
       "      <td>0.303030</td>\n",
       "      <td>0.238095</td>\n",
       "      <td>4.131519</td>\n",
       "      <td>4.135519</td>\n",
       "      <td>4.267009</td>\n",
       "      <td>3.232061</td>\n",
       "    </tr>\n",
       "    <tr>\n",
       "      <th>50%</th>\n",
       "      <td>4.153921</td>\n",
       "      <td>4.000000</td>\n",
       "      <td>5.000000</td>\n",
       "      <td>5.000000</td>\n",
       "      <td>4.00000</td>\n",
       "      <td>4.111977</td>\n",
       "      <td>4.000000</td>\n",
       "      <td>3.000000</td>\n",
       "      <td>3.899202</td>\n",
       "      <td>4.137461</td>\n",
       "      <td>...</td>\n",
       "      <td>5.000000</td>\n",
       "      <td>4.962532</td>\n",
       "      <td>5.000000</td>\n",
       "      <td>0.714286</td>\n",
       "      <td>0.887574</td>\n",
       "      <td>0.800000</td>\n",
       "      <td>4.981794</td>\n",
       "      <td>4.966223</td>\n",
       "      <td>5.103298</td>\n",
       "      <td>4.315183</td>\n",
       "    </tr>\n",
       "    <tr>\n",
       "      <th>75%</th>\n",
       "      <td>6.000000</td>\n",
       "      <td>6.000000</td>\n",
       "      <td>6.000000</td>\n",
       "      <td>7.000000</td>\n",
       "      <td>6.00000</td>\n",
       "      <td>6.000000</td>\n",
       "      <td>6.000000</td>\n",
       "      <td>6.000000</td>\n",
       "      <td>5.000000</td>\n",
       "      <td>6.000000</td>\n",
       "      <td>...</td>\n",
       "      <td>6.500000</td>\n",
       "      <td>6.000000</td>\n",
       "      <td>6.500000</td>\n",
       "      <td>1.600000</td>\n",
       "      <td>1.603850</td>\n",
       "      <td>1.666667</td>\n",
       "      <td>5.807654</td>\n",
       "      <td>5.773863</td>\n",
       "      <td>5.979164</td>\n",
       "      <td>5.211220</td>\n",
       "    </tr>\n",
       "    <tr>\n",
       "      <th>max</th>\n",
       "      <td>10.000000</td>\n",
       "      <td>10.000000</td>\n",
       "      <td>10.000000</td>\n",
       "      <td>10.000000</td>\n",
       "      <td>10.00000</td>\n",
       "      <td>10.000000</td>\n",
       "      <td>10.000000</td>\n",
       "      <td>10.000000</td>\n",
       "      <td>10.000000</td>\n",
       "      <td>10.000000</td>\n",
       "      <td>...</td>\n",
       "      <td>10.000000</td>\n",
       "      <td>10.000000</td>\n",
       "      <td>10.000000</td>\n",
       "      <td>10.000000</td>\n",
       "      <td>6.944444</td>\n",
       "      <td>10.000000</td>\n",
       "      <td>10.000000</td>\n",
       "      <td>10.000000</td>\n",
       "      <td>10.000000</td>\n",
       "      <td>10.000000</td>\n",
       "    </tr>\n",
       "  </tbody>\n",
       "</table>\n",
       "<p>8 rows × 153 columns</p>\n",
       "</div>"
      ],
      "text/plain": [
       "       HOME_TEAM_INJURIES_season_sum  HOME_TEAM_GAME_WON_season_sum  \\\n",
       "count                    8546.000000                    8546.000000   \n",
       "mean                        4.076602                       4.129919   \n",
       "std                         2.713046                       2.909015   \n",
       "min                         0.000000                       0.000000   \n",
       "25%                         2.000000                       2.000000   \n",
       "50%                         4.153921                       4.000000   \n",
       "75%                         6.000000                       6.000000   \n",
       "max                        10.000000                      10.000000   \n",
       "\n",
       "       HOME_TEAM_GAME_DRAW_season_sum  HOME_TEAM_GAME_LOST_season_sum  \\\n",
       "count                     8546.000000                     8546.000000   \n",
       "mean                         4.570056                        4.705466   \n",
       "std                          2.881131                        2.939828   \n",
       "min                          0.000000                        0.000000   \n",
       "25%                          2.000000                        2.000000   \n",
       "50%                          5.000000                        5.000000   \n",
       "75%                          6.000000                        7.000000   \n",
       "max                         10.000000                       10.000000   \n",
       "\n",
       "       HOME_TEAM_SHOTS_TOTAL_season_std  HOME_TEAM_SHOTS_INSIDEBOX_season_std  \\\n",
       "count                        8546.00000                           8546.000000   \n",
       "mean                            4.24221                              4.177556   \n",
       "std                             2.75892                              2.600709   \n",
       "min                             0.00000                              0.000000   \n",
       "25%                             2.00000                              2.000000   \n",
       "50%                             4.00000                              4.111977   \n",
       "75%                             6.00000                              6.000000   \n",
       "max                            10.00000                             10.000000   \n",
       "\n",
       "       HOME_TEAM_SHOTS_OFF_TARGET_season_std  \\\n",
       "count                            8546.000000   \n",
       "mean                                4.080857   \n",
       "std                                 2.814971   \n",
       "min                                 0.000000   \n",
       "25%                                 2.000000   \n",
       "50%                                 4.000000   \n",
       "75%                                 6.000000   \n",
       "max                                10.000000   \n",
       "\n",
       "       HOME_TEAM_SHOTS_ON_TARGET_season_std  \\\n",
       "count                           8546.000000   \n",
       "mean                               3.858647   \n",
       "std                                2.765948   \n",
       "min                                0.000000   \n",
       "25%                                2.000000   \n",
       "50%                                3.000000   \n",
       "75%                                6.000000   \n",
       "max                               10.000000   \n",
       "\n",
       "       HOME_TEAM_SHOTS_OUTSIDEBOX_season_std  HOME_TEAM_PASSES_season_std  \\\n",
       "count                            8546.000000                  8546.000000   \n",
       "mean                                3.919182                     4.173784   \n",
       "std                                 2.622784                     2.615430   \n",
       "min                                 0.000000                     0.000000   \n",
       "25%                                 2.000000                     2.000000   \n",
       "50%                                 3.899202                     4.137461   \n",
       "75%                                 5.000000                     6.000000   \n",
       "max                                10.000000                    10.000000   \n",
       "\n",
       "       ...  DIFF_TEAM_GAME_LOST_5_last_match_sum  \\\n",
       "count  ...                           8546.000000   \n",
       "mean   ...                              5.094179   \n",
       "std    ...                              2.086682   \n",
       "min    ...                              0.000000   \n",
       "25%    ...                              3.500000   \n",
       "50%    ...                              5.000000   \n",
       "75%    ...                              6.500000   \n",
       "max    ...                             10.000000   \n",
       "\n",
       "       DIFF_TEAM_SUCCESSFUL_PASSES_PERCENTAGE_5_last_match_average  \\\n",
       "count                                        8546.000000             \n",
       "mean                                            4.964178             \n",
       "std                                             1.908472             \n",
       "min                                             0.000000             \n",
       "25%                                             3.500000             \n",
       "50%                                             4.962532             \n",
       "75%                                             6.000000             \n",
       "max                                            10.000000             \n",
       "\n",
       "       DIFF_TEAM_BALL_POSSESSION_5_last_match_average    WIN_PRIOR  \\\n",
       "count                                     8546.000000  8546.000000   \n",
       "mean                                         4.943424     1.090134   \n",
       "std                                          1.970463     1.218300   \n",
       "min                                          0.000000     0.000000   \n",
       "25%                                          3.500000     0.204082   \n",
       "50%                                          5.000000     0.714286   \n",
       "75%                                          6.500000     1.600000   \n",
       "max                                         10.000000    10.000000   \n",
       "\n",
       "        DRAW_PRIOR   LOST_PRIOR  DIFF_GOOD_SHOT_season_sum  \\\n",
       "count  8546.000000  8546.000000                8546.000000   \n",
       "mean      1.053475     1.165879                   4.977241   \n",
       "std       0.926247     1.247440                   1.300554   \n",
       "min       0.000000     0.000000                   0.486883   \n",
       "25%       0.303030     0.238095                   4.131519   \n",
       "50%       0.887574     0.800000                   4.981794   \n",
       "75%       1.603850     1.666667                   5.807654   \n",
       "max       6.944444    10.000000                  10.000000   \n",
       "\n",
       "       DIFF_GOOD_SHOT_5_last_match_sum  DIFF_FORM_5_last_match_sum  \\\n",
       "count                      8546.000000                 8546.000000   \n",
       "mean                          4.969440                    5.133307   \n",
       "std                           1.290006                    1.351971   \n",
       "min                           0.491021                    0.254102   \n",
       "25%                           4.135519                    4.267009   \n",
       "50%                           4.966223                    5.103298   \n",
       "75%                           5.773863                    5.979164   \n",
       "max                          10.000000                   10.000000   \n",
       "\n",
       "       NORMAL_SAMPLED_PREDICTED_GD  \n",
       "count                  8546.000000  \n",
       "mean                      4.261035  \n",
       "std                       1.552622  \n",
       "min                       0.000000  \n",
       "25%                       3.232061  \n",
       "50%                       4.315183  \n",
       "75%                       5.211220  \n",
       "max                      10.000000  \n",
       "\n",
       "[8 rows x 153 columns]"
      ]
     },
     "metadata": {},
     "output_type": "display_data"
    },
    {
     "data": {
      "text/html": [
       "<div>\n",
       "<style scoped>\n",
       "    .dataframe tbody tr th:only-of-type {\n",
       "        vertical-align: middle;\n",
       "    }\n",
       "\n",
       "    .dataframe tbody tr th {\n",
       "        vertical-align: top;\n",
       "    }\n",
       "\n",
       "    .dataframe thead th {\n",
       "        text-align: right;\n",
       "    }\n",
       "</style>\n",
       "<table border=\"1\" class=\"dataframe\">\n",
       "  <thead>\n",
       "    <tr style=\"text-align: right;\">\n",
       "      <th></th>\n",
       "      <th>RESULT</th>\n",
       "    </tr>\n",
       "  </thead>\n",
       "  <tbody>\n",
       "    <tr>\n",
       "      <th>count</th>\n",
       "      <td>8546.000000</td>\n",
       "    </tr>\n",
       "    <tr>\n",
       "      <th>mean</th>\n",
       "      <td>0.000000</td>\n",
       "    </tr>\n",
       "    <tr>\n",
       "      <th>std</th>\n",
       "      <td>1.000059</td>\n",
       "    </tr>\n",
       "    <tr>\n",
       "      <th>min</th>\n",
       "      <td>-1.000000</td>\n",
       "    </tr>\n",
       "    <tr>\n",
       "      <th>25%</th>\n",
       "      <td>-1.000000</td>\n",
       "    </tr>\n",
       "    <tr>\n",
       "      <th>50%</th>\n",
       "      <td>0.000000</td>\n",
       "    </tr>\n",
       "    <tr>\n",
       "      <th>75%</th>\n",
       "      <td>1.000000</td>\n",
       "    </tr>\n",
       "    <tr>\n",
       "      <th>max</th>\n",
       "      <td>1.000000</td>\n",
       "    </tr>\n",
       "  </tbody>\n",
       "</table>\n",
       "</div>"
      ],
      "text/plain": [
       "            RESULT\n",
       "count  8546.000000\n",
       "mean      0.000000\n",
       "std       1.000059\n",
       "min      -1.000000\n",
       "25%      -1.000000\n",
       "50%       0.000000\n",
       "75%       1.000000\n",
       "max       1.000000"
      ]
     },
     "metadata": {},
     "output_type": "display_data"
    }
   ],
   "source": [
    "X_train_upsampled_WL = X_train_upsampled.loc[y_train_upsampled['RESULT'] != 0]\n",
    "y_train_upsampled_WL = y_train_upsampled.loc[y_train_upsampled['RESULT'] != 0]\n",
    "display(X_train_upsampled_WL.describe())\n",
    "display(y_train_upsampled_WL.describe())"
   ]
  },
  {
   "cell_type": "code",
   "execution_count": 8,
   "id": "39b53cf7-d6c5-4c70-849b-293a9d28f161",
   "metadata": {},
   "outputs": [
    {
     "data": {
      "text/html": [
       "<div>\n",
       "<style scoped>\n",
       "    .dataframe tbody tr th:only-of-type {\n",
       "        vertical-align: middle;\n",
       "    }\n",
       "\n",
       "    .dataframe tbody tr th {\n",
       "        vertical-align: top;\n",
       "    }\n",
       "\n",
       "    .dataframe thead th {\n",
       "        text-align: right;\n",
       "    }\n",
       "</style>\n",
       "<table border=\"1\" class=\"dataframe\">\n",
       "  <thead>\n",
       "    <tr style=\"text-align: right;\">\n",
       "      <th></th>\n",
       "      <th>HOME_TEAM_INJURIES_season_sum</th>\n",
       "      <th>HOME_TEAM_GAME_WON_season_sum</th>\n",
       "      <th>HOME_TEAM_GAME_DRAW_season_sum</th>\n",
       "      <th>HOME_TEAM_GAME_LOST_season_sum</th>\n",
       "      <th>HOME_TEAM_SHOTS_TOTAL_season_std</th>\n",
       "      <th>HOME_TEAM_SHOTS_INSIDEBOX_season_std</th>\n",
       "      <th>HOME_TEAM_SHOTS_OFF_TARGET_season_std</th>\n",
       "      <th>HOME_TEAM_SHOTS_ON_TARGET_season_std</th>\n",
       "      <th>HOME_TEAM_SHOTS_OUTSIDEBOX_season_std</th>\n",
       "      <th>HOME_TEAM_PASSES_season_std</th>\n",
       "      <th>...</th>\n",
       "      <th>DIFF_TEAM_GAME_LOST_5_last_match_sum</th>\n",
       "      <th>DIFF_TEAM_SUCCESSFUL_PASSES_PERCENTAGE_5_last_match_average</th>\n",
       "      <th>DIFF_TEAM_BALL_POSSESSION_5_last_match_average</th>\n",
       "      <th>WIN_PRIOR</th>\n",
       "      <th>DRAW_PRIOR</th>\n",
       "      <th>LOST_PRIOR</th>\n",
       "      <th>DIFF_GOOD_SHOT_season_sum</th>\n",
       "      <th>DIFF_GOOD_SHOT_5_last_match_sum</th>\n",
       "      <th>DIFF_FORM_5_last_match_sum</th>\n",
       "      <th>NORMAL_SAMPLED_PREDICTED_GD</th>\n",
       "    </tr>\n",
       "  </thead>\n",
       "  <tbody>\n",
       "    <tr>\n",
       "      <th>count</th>\n",
       "      <td>8546.000000</td>\n",
       "      <td>8546.000000</td>\n",
       "      <td>8546.000000</td>\n",
       "      <td>8546.000000</td>\n",
       "      <td>8546.00000</td>\n",
       "      <td>8546.000000</td>\n",
       "      <td>8546.000000</td>\n",
       "      <td>8546.000000</td>\n",
       "      <td>8546.000000</td>\n",
       "      <td>8546.000000</td>\n",
       "      <td>...</td>\n",
       "      <td>8546.000000</td>\n",
       "      <td>8546.000000</td>\n",
       "      <td>8546.000000</td>\n",
       "      <td>8546.000000</td>\n",
       "      <td>8546.000000</td>\n",
       "      <td>8546.000000</td>\n",
       "      <td>8546.000000</td>\n",
       "      <td>8546.000000</td>\n",
       "      <td>8546.000000</td>\n",
       "      <td>8546.000000</td>\n",
       "    </tr>\n",
       "    <tr>\n",
       "      <th>mean</th>\n",
       "      <td>4.076602</td>\n",
       "      <td>4.129919</td>\n",
       "      <td>4.570056</td>\n",
       "      <td>4.705466</td>\n",
       "      <td>4.24221</td>\n",
       "      <td>4.177556</td>\n",
       "      <td>4.080857</td>\n",
       "      <td>3.858647</td>\n",
       "      <td>3.919182</td>\n",
       "      <td>4.173784</td>\n",
       "      <td>...</td>\n",
       "      <td>5.094179</td>\n",
       "      <td>4.964178</td>\n",
       "      <td>4.943424</td>\n",
       "      <td>1.090134</td>\n",
       "      <td>1.053475</td>\n",
       "      <td>1.165879</td>\n",
       "      <td>4.977241</td>\n",
       "      <td>4.969440</td>\n",
       "      <td>5.133307</td>\n",
       "      <td>4.261035</td>\n",
       "    </tr>\n",
       "    <tr>\n",
       "      <th>std</th>\n",
       "      <td>2.713046</td>\n",
       "      <td>2.909015</td>\n",
       "      <td>2.881131</td>\n",
       "      <td>2.939828</td>\n",
       "      <td>2.75892</td>\n",
       "      <td>2.600709</td>\n",
       "      <td>2.814971</td>\n",
       "      <td>2.765948</td>\n",
       "      <td>2.622784</td>\n",
       "      <td>2.615430</td>\n",
       "      <td>...</td>\n",
       "      <td>2.086682</td>\n",
       "      <td>1.908472</td>\n",
       "      <td>1.970463</td>\n",
       "      <td>1.218300</td>\n",
       "      <td>0.926247</td>\n",
       "      <td>1.247440</td>\n",
       "      <td>1.300554</td>\n",
       "      <td>1.290006</td>\n",
       "      <td>1.351971</td>\n",
       "      <td>1.552622</td>\n",
       "    </tr>\n",
       "    <tr>\n",
       "      <th>min</th>\n",
       "      <td>0.000000</td>\n",
       "      <td>0.000000</td>\n",
       "      <td>0.000000</td>\n",
       "      <td>0.000000</td>\n",
       "      <td>0.00000</td>\n",
       "      <td>0.000000</td>\n",
       "      <td>0.000000</td>\n",
       "      <td>0.000000</td>\n",
       "      <td>0.000000</td>\n",
       "      <td>0.000000</td>\n",
       "      <td>...</td>\n",
       "      <td>0.000000</td>\n",
       "      <td>0.000000</td>\n",
       "      <td>0.000000</td>\n",
       "      <td>0.000000</td>\n",
       "      <td>0.000000</td>\n",
       "      <td>0.000000</td>\n",
       "      <td>0.486883</td>\n",
       "      <td>0.491021</td>\n",
       "      <td>0.254102</td>\n",
       "      <td>0.000000</td>\n",
       "    </tr>\n",
       "    <tr>\n",
       "      <th>25%</th>\n",
       "      <td>2.000000</td>\n",
       "      <td>2.000000</td>\n",
       "      <td>2.000000</td>\n",
       "      <td>2.000000</td>\n",
       "      <td>2.00000</td>\n",
       "      <td>2.000000</td>\n",
       "      <td>2.000000</td>\n",
       "      <td>2.000000</td>\n",
       "      <td>2.000000</td>\n",
       "      <td>2.000000</td>\n",
       "      <td>...</td>\n",
       "      <td>3.500000</td>\n",
       "      <td>3.500000</td>\n",
       "      <td>3.500000</td>\n",
       "      <td>0.204082</td>\n",
       "      <td>0.303030</td>\n",
       "      <td>0.238095</td>\n",
       "      <td>4.131519</td>\n",
       "      <td>4.135519</td>\n",
       "      <td>4.267009</td>\n",
       "      <td>3.232061</td>\n",
       "    </tr>\n",
       "    <tr>\n",
       "      <th>50%</th>\n",
       "      <td>4.153921</td>\n",
       "      <td>4.000000</td>\n",
       "      <td>5.000000</td>\n",
       "      <td>5.000000</td>\n",
       "      <td>4.00000</td>\n",
       "      <td>4.111977</td>\n",
       "      <td>4.000000</td>\n",
       "      <td>3.000000</td>\n",
       "      <td>3.899202</td>\n",
       "      <td>4.137461</td>\n",
       "      <td>...</td>\n",
       "      <td>5.000000</td>\n",
       "      <td>4.962532</td>\n",
       "      <td>5.000000</td>\n",
       "      <td>0.714286</td>\n",
       "      <td>0.887574</td>\n",
       "      <td>0.800000</td>\n",
       "      <td>4.981794</td>\n",
       "      <td>4.966223</td>\n",
       "      <td>5.103298</td>\n",
       "      <td>4.315183</td>\n",
       "    </tr>\n",
       "    <tr>\n",
       "      <th>75%</th>\n",
       "      <td>6.000000</td>\n",
       "      <td>6.000000</td>\n",
       "      <td>6.000000</td>\n",
       "      <td>7.000000</td>\n",
       "      <td>6.00000</td>\n",
       "      <td>6.000000</td>\n",
       "      <td>6.000000</td>\n",
       "      <td>6.000000</td>\n",
       "      <td>5.000000</td>\n",
       "      <td>6.000000</td>\n",
       "      <td>...</td>\n",
       "      <td>6.500000</td>\n",
       "      <td>6.000000</td>\n",
       "      <td>6.500000</td>\n",
       "      <td>1.600000</td>\n",
       "      <td>1.603850</td>\n",
       "      <td>1.666667</td>\n",
       "      <td>5.807654</td>\n",
       "      <td>5.773863</td>\n",
       "      <td>5.979164</td>\n",
       "      <td>5.211220</td>\n",
       "    </tr>\n",
       "    <tr>\n",
       "      <th>max</th>\n",
       "      <td>10.000000</td>\n",
       "      <td>10.000000</td>\n",
       "      <td>10.000000</td>\n",
       "      <td>10.000000</td>\n",
       "      <td>10.00000</td>\n",
       "      <td>10.000000</td>\n",
       "      <td>10.000000</td>\n",
       "      <td>10.000000</td>\n",
       "      <td>10.000000</td>\n",
       "      <td>10.000000</td>\n",
       "      <td>...</td>\n",
       "      <td>10.000000</td>\n",
       "      <td>10.000000</td>\n",
       "      <td>10.000000</td>\n",
       "      <td>10.000000</td>\n",
       "      <td>6.944444</td>\n",
       "      <td>10.000000</td>\n",
       "      <td>10.000000</td>\n",
       "      <td>10.000000</td>\n",
       "      <td>10.000000</td>\n",
       "      <td>10.000000</td>\n",
       "    </tr>\n",
       "  </tbody>\n",
       "</table>\n",
       "<p>8 rows × 153 columns</p>\n",
       "</div>"
      ],
      "text/plain": [
       "       HOME_TEAM_INJURIES_season_sum  HOME_TEAM_GAME_WON_season_sum  \\\n",
       "count                    8546.000000                    8546.000000   \n",
       "mean                        4.076602                       4.129919   \n",
       "std                         2.713046                       2.909015   \n",
       "min                         0.000000                       0.000000   \n",
       "25%                         2.000000                       2.000000   \n",
       "50%                         4.153921                       4.000000   \n",
       "75%                         6.000000                       6.000000   \n",
       "max                        10.000000                      10.000000   \n",
       "\n",
       "       HOME_TEAM_GAME_DRAW_season_sum  HOME_TEAM_GAME_LOST_season_sum  \\\n",
       "count                     8546.000000                     8546.000000   \n",
       "mean                         4.570056                        4.705466   \n",
       "std                          2.881131                        2.939828   \n",
       "min                          0.000000                        0.000000   \n",
       "25%                          2.000000                        2.000000   \n",
       "50%                          5.000000                        5.000000   \n",
       "75%                          6.000000                        7.000000   \n",
       "max                         10.000000                       10.000000   \n",
       "\n",
       "       HOME_TEAM_SHOTS_TOTAL_season_std  HOME_TEAM_SHOTS_INSIDEBOX_season_std  \\\n",
       "count                        8546.00000                           8546.000000   \n",
       "mean                            4.24221                              4.177556   \n",
       "std                             2.75892                              2.600709   \n",
       "min                             0.00000                              0.000000   \n",
       "25%                             2.00000                              2.000000   \n",
       "50%                             4.00000                              4.111977   \n",
       "75%                             6.00000                              6.000000   \n",
       "max                            10.00000                             10.000000   \n",
       "\n",
       "       HOME_TEAM_SHOTS_OFF_TARGET_season_std  \\\n",
       "count                            8546.000000   \n",
       "mean                                4.080857   \n",
       "std                                 2.814971   \n",
       "min                                 0.000000   \n",
       "25%                                 2.000000   \n",
       "50%                                 4.000000   \n",
       "75%                                 6.000000   \n",
       "max                                10.000000   \n",
       "\n",
       "       HOME_TEAM_SHOTS_ON_TARGET_season_std  \\\n",
       "count                           8546.000000   \n",
       "mean                               3.858647   \n",
       "std                                2.765948   \n",
       "min                                0.000000   \n",
       "25%                                2.000000   \n",
       "50%                                3.000000   \n",
       "75%                                6.000000   \n",
       "max                               10.000000   \n",
       "\n",
       "       HOME_TEAM_SHOTS_OUTSIDEBOX_season_std  HOME_TEAM_PASSES_season_std  \\\n",
       "count                            8546.000000                  8546.000000   \n",
       "mean                                3.919182                     4.173784   \n",
       "std                                 2.622784                     2.615430   \n",
       "min                                 0.000000                     0.000000   \n",
       "25%                                 2.000000                     2.000000   \n",
       "50%                                 3.899202                     4.137461   \n",
       "75%                                 5.000000                     6.000000   \n",
       "max                                10.000000                    10.000000   \n",
       "\n",
       "       ...  DIFF_TEAM_GAME_LOST_5_last_match_sum  \\\n",
       "count  ...                           8546.000000   \n",
       "mean   ...                              5.094179   \n",
       "std    ...                              2.086682   \n",
       "min    ...                              0.000000   \n",
       "25%    ...                              3.500000   \n",
       "50%    ...                              5.000000   \n",
       "75%    ...                              6.500000   \n",
       "max    ...                             10.000000   \n",
       "\n",
       "       DIFF_TEAM_SUCCESSFUL_PASSES_PERCENTAGE_5_last_match_average  \\\n",
       "count                                        8546.000000             \n",
       "mean                                            4.964178             \n",
       "std                                             1.908472             \n",
       "min                                             0.000000             \n",
       "25%                                             3.500000             \n",
       "50%                                             4.962532             \n",
       "75%                                             6.000000             \n",
       "max                                            10.000000             \n",
       "\n",
       "       DIFF_TEAM_BALL_POSSESSION_5_last_match_average    WIN_PRIOR  \\\n",
       "count                                     8546.000000  8546.000000   \n",
       "mean                                         4.943424     1.090134   \n",
       "std                                          1.970463     1.218300   \n",
       "min                                          0.000000     0.000000   \n",
       "25%                                          3.500000     0.204082   \n",
       "50%                                          5.000000     0.714286   \n",
       "75%                                          6.500000     1.600000   \n",
       "max                                         10.000000    10.000000   \n",
       "\n",
       "        DRAW_PRIOR   LOST_PRIOR  DIFF_GOOD_SHOT_season_sum  \\\n",
       "count  8546.000000  8546.000000                8546.000000   \n",
       "mean      1.053475     1.165879                   4.977241   \n",
       "std       0.926247     1.247440                   1.300554   \n",
       "min       0.000000     0.000000                   0.486883   \n",
       "25%       0.303030     0.238095                   4.131519   \n",
       "50%       0.887574     0.800000                   4.981794   \n",
       "75%       1.603850     1.666667                   5.807654   \n",
       "max       6.944444    10.000000                  10.000000   \n",
       "\n",
       "       DIFF_GOOD_SHOT_5_last_match_sum  DIFF_FORM_5_last_match_sum  \\\n",
       "count                      8546.000000                 8546.000000   \n",
       "mean                          4.969440                    5.133307   \n",
       "std                           1.290006                    1.351971   \n",
       "min                           0.491021                    0.254102   \n",
       "25%                           4.135519                    4.267009   \n",
       "50%                           4.966223                    5.103298   \n",
       "75%                           5.773863                    5.979164   \n",
       "max                          10.000000                   10.000000   \n",
       "\n",
       "       NORMAL_SAMPLED_PREDICTED_GD  \n",
       "count                  8546.000000  \n",
       "mean                      4.261035  \n",
       "std                       1.552622  \n",
       "min                       0.000000  \n",
       "25%                       3.232061  \n",
       "50%                       4.315183  \n",
       "75%                       5.211220  \n",
       "max                      10.000000  \n",
       "\n",
       "[8 rows x 153 columns]"
      ]
     },
     "metadata": {},
     "output_type": "display_data"
    },
    {
     "data": {
      "text/html": [
       "<div>\n",
       "<style scoped>\n",
       "    .dataframe tbody tr th:only-of-type {\n",
       "        vertical-align: middle;\n",
       "    }\n",
       "\n",
       "    .dataframe tbody tr th {\n",
       "        vertical-align: top;\n",
       "    }\n",
       "\n",
       "    .dataframe thead th {\n",
       "        text-align: right;\n",
       "    }\n",
       "</style>\n",
       "<table border=\"1\" class=\"dataframe\">\n",
       "  <thead>\n",
       "    <tr style=\"text-align: right;\">\n",
       "      <th></th>\n",
       "      <th>RESULT</th>\n",
       "    </tr>\n",
       "  </thead>\n",
       "  <tbody>\n",
       "    <tr>\n",
       "      <th>count</th>\n",
       "      <td>8546.000000</td>\n",
       "    </tr>\n",
       "    <tr>\n",
       "      <th>mean</th>\n",
       "      <td>0.000000</td>\n",
       "    </tr>\n",
       "    <tr>\n",
       "      <th>std</th>\n",
       "      <td>1.000059</td>\n",
       "    </tr>\n",
       "    <tr>\n",
       "      <th>min</th>\n",
       "      <td>-1.000000</td>\n",
       "    </tr>\n",
       "    <tr>\n",
       "      <th>25%</th>\n",
       "      <td>-1.000000</td>\n",
       "    </tr>\n",
       "    <tr>\n",
       "      <th>50%</th>\n",
       "      <td>0.000000</td>\n",
       "    </tr>\n",
       "    <tr>\n",
       "      <th>75%</th>\n",
       "      <td>1.000000</td>\n",
       "    </tr>\n",
       "    <tr>\n",
       "      <th>max</th>\n",
       "      <td>1.000000</td>\n",
       "    </tr>\n",
       "  </tbody>\n",
       "</table>\n",
       "</div>"
      ],
      "text/plain": [
       "            RESULT\n",
       "count  8546.000000\n",
       "mean      0.000000\n",
       "std       1.000059\n",
       "min      -1.000000\n",
       "25%      -1.000000\n",
       "50%       0.000000\n",
       "75%       1.000000\n",
       "max       1.000000"
      ]
     },
     "metadata": {},
     "output_type": "display_data"
    }
   ],
   "source": [
    "X_train_WL = X_train.loc[y_train['RESULT'] != 0]\n",
    "y_train_WL = y_train.loc[y_train['RESULT'] != 0]\n",
    "display(X_train_upsampled_WL.describe())\n",
    "display(y_train_upsampled_WL.describe())"
   ]
  },
  {
   "cell_type": "markdown",
   "id": "50d86bdf-6099-47b9-be3e-c5a0af7e6700",
   "metadata": {},
   "source": [
    "### Feature Selection with Wins & Losses"
   ]
  },
  {
   "cell_type": "code",
   "execution_count": 9,
   "id": "72de8c8b-1c80-4d1b-bea8-d78b668672bb",
   "metadata": {},
   "outputs": [],
   "source": [
    "def stepwise_selection(p, model, X_train, y_train):\n",
    "    '''Uses backwards selection to select the p best features'''\n",
    "    selector = RFE(model, n_features_to_select=1)\n",
    "    selector = selector.fit(X_train, y_train)\n",
    "    \n",
    "    lst = [(r, c) for r, c in zip(selector.ranking_, X_train.columns)]\n",
    "    lst.sort(key = lambda x : x[0])\n",
    "    \n",
    "    return [x[1] for x in lst[:p]], selector.estimator_"
   ]
  },
  {
   "cell_type": "code",
   "execution_count": 10,
   "id": "da81eb76-03ce-4732-a34c-b78e4b55c9e2",
   "metadata": {},
   "outputs": [],
   "source": [
    "def stepwise_selection_plotting(features, X_train, y_train, X_valid, y_valid, measure = accuracy_score, train_score_weight = 0.74):\n",
    "    train_score, valid_score = [], []\n",
    "    for p in range(len(features)):\n",
    "        model = RidgeClassifier()\n",
    "        model.fit(X_train[features[:p+1]], y_train)\n",
    "\n",
    "        train_score.append(train_score_weight*measure(y_train, model.predict(X_train[features[:p+1]])))\n",
    "        valid_score.append(measure(y_valid, model.predict(X_valid[features[:p+1]])))\n",
    "\n",
    "    x = [f'{f}, {i}' for i, f in enumerate(features)]\n",
    "    plt.plot(x, train_score, label = 'Training Score')\n",
    "    plt.plot(x, valid_score, label = 'Validation Score')\n",
    "    plt.ylabel('Score')    \n",
    "    plt.xticks(rotation = 90)\n",
    "    plt.legend()\n",
    "    plt.show()"
   ]
  },
  {
   "cell_type": "markdown",
   "id": "51692f6a-f7fb-49ce-9137-7ddb71aa47fa",
   "metadata": {},
   "source": [
    "Using these two functions we will obtain the most relevant features using a simiple linear classifier"
   ]
  },
  {
   "cell_type": "code",
   "execution_count": 11,
   "id": "8b7bfac6-0b98-4f81-82b5-bd7f77687281",
   "metadata": {},
   "outputs": [],
   "source": [
    "# best_features_WL_upsampled, _ = stepwise_selection(30, RidgeClassifier(), X_train_upsampled_WL, y_train_upsampled_WL)\n",
    "# stepwise_selection_plotting(best_features_WL_upsampled, X_train_upsampled_WL, y_train_upsampled_WL, X_valid, y_valid)"
   ]
  },
  {
   "cell_type": "code",
   "execution_count": 12,
   "id": "dd3d8b44-70b3-4776-afb9-bbeab5b10f81",
   "metadata": {},
   "outputs": [
    {
     "data": {
      "image/png": "[encoded data removed]",
      "text/plain": [
       "<Figure size 640x480 with 1 Axes>"
      ]
     },
     "metadata": {},
     "output_type": "display_data"
    }
   ],
   "source": [
    "best_features_WL, _ = stepwise_selection(30, RidgeClassifier(), X_train_WL, y_train_WL)\n",
    "stepwise_selection_plotting(best_features_WL, X_train_WL, y_train_WL, X_valid, y_valid)\n",
    "# best_features_WL = pd.read_csv('goal_diff_prediction/Features.csv')['Feature'].to_list() + ['NORMAL_SAMPLED_PREDICTED_GD'] "
   ]
  },
  {
   "cell_type": "code",
   "execution_count": 13,
   "id": "a1c577a9-a20a-42c9-ae4a-09fdf60d307e",
   "metadata": {},
   "outputs": [
    {
     "name": "stdout",
     "output_type": "stream",
     "text": [
      "Selected Features\n",
      "-----------------\n",
      "\n",
      "NORMAL_SAMPLED_PREDICTED_GD\n",
      "DIFF_TEAM_SHOTS_ON_TARGET_season_sum\n",
      "DIFF_TEAM_GAME_LOST_5_last_match_sum\n",
      "DIFF_TEAM_GAME_WON_5_last_match_sum\n",
      "DIFF_TEAM_GAME_DRAW_5_last_match_sum\n",
      "DIFF_FORM_5_last_match_sum\n",
      "DIFF_TEAM_SUCCESSFUL_PASSES_5_last_match_sum\n",
      "DIFF_TEAM_SUCCESSFUL_PASSES_PERCENTAGE_5_last_match_average\n",
      "DIFF_TEAM_CORNERS_season_sum\n",
      "DIFF_TEAM_SUCCESSFUL_PASSES_season_sum\n",
      "HOME_TEAM_GAME_LOST_season_sum\n",
      "LOST_PRIOR\n",
      "AWAY_TEAM_GAME_WON_season_sum\n",
      "DIFF_TEAM_PASSES_season_sum\n",
      "DIFF_TEAM_ATTACKS_season_sum\n",
      "WIN_PRIOR\n",
      "DIFF_TEAM_SUCCESSFUL_PASSES_PERCENTAGE_season_average\n",
      "DIFF_TEAM_BALL_POSSESSION_season_average\n",
      "DIFF_TEAM_GOALS_season_sum\n",
      "DIFF_TEAM_GAME_LOST_season_sum\n",
      "DIFF_TEAM_SHOTS_OFF_TARGET_season_sum\n",
      "DIFF_TEAM_SHOTS_TOTAL_5_last_match_sum\n",
      "DIFF_TEAM_SAVES_5_last_match_sum\n",
      "DIFF_TEAM_SAVES_season_sum\n",
      "DIFF_TEAM_CORNERS_5_last_match_sum\n"
     ]
    }
   ],
   "source": [
    "# selected_features = set()\n",
    "\n",
    "# for pair in zip(best_features_WL, best_features_WL_upsampled):\n",
    "#     if len(selected_features) > 15: # We select the top 15 from both plots as this is roughly where the 'knee'\n",
    "#         break\n",
    "#     selected_features.add(pair[0])\n",
    "#     selected_features.add(pair[1])\n",
    "\n",
    "print(\"Selected Features\\n-----------------\\n\")\n",
    "print(*best_features_WL[:25], sep = '\\n') # Note that the set isn't ordered. \n",
    "selected_features = list(best_features_WL[:25])"
   ]
  },
  {
   "cell_type": "markdown",
   "id": "60184505-8fbc-48bb-bc68-16d19ba9aed6",
   "metadata": {},
   "source": [
    "So here we have our 15 selected features. This model seems to be doing rather well. In particular\n",
    "- The predicted GD is doing very well at helping to make the correct estimation\n",
    "- The good shot metric is doing a good job at capturing all the shot data\n",
    "- The season sum of goals doesn't appear, however I imagine this is because of the GD doing a lot of the work for this statistic.\n",
    "- Oh, and the diff statistics seem to capture the information well enough. "
   ]
  },
  {
   "cell_type": "markdown",
   "id": "5d87220f-393a-414d-b4d3-6da445886ec3",
   "metadata": {},
   "source": [
    "### Feature Selection with Wins, Losses, Draws"
   ]
  },
  {
   "cell_type": "markdown",
   "id": "89dce2e0-4030-42f2-883e-7e3aa30972de",
   "metadata": {},
   "source": [
    "## Model Fitting "
   ]
  },
  {
   "cell_type": "markdown",
   "id": "ba1ec7e6-5314-429f-adc7-515834ab1d5c",
   "metadata": {},
   "source": [
    "### WL Fitting"
   ]
  },
  {
   "cell_type": "code",
   "execution_count": 14,
   "id": "c8051450-08ec-43d8-8a15-75ede00ea28f",
   "metadata": {},
   "outputs": [],
   "source": [
    "# Some function that does cross validation "
   ]
  },
  {
   "cell_type": "code",
   "execution_count": 15,
   "id": "0d61f3f5-e128-4c89-905a-e8d01ce2bfc3",
   "metadata": {},
   "outputs": [],
   "source": [
    "# Some function that does the fitting \n",
    "def fit_WL_classifier(model_type, model_params = None, analytics = False, up_sampled = False):\n",
    "    ''' Fits a model to the data give with the model_params. Then prints analytics so we get an idea of the model'''\n",
    "    X, y =  (X_train_upsampled_WL[selected_features], y_train_upsampled_WL) if up_sampled else (X_train_WL[selected_features], y_train_WL)\n",
    "    \n",
    "    model_params = {} if model_params is None else model_params\n",
    "    \n",
    "    model = model_type(**model_params)\n",
    "    model.fit(X, y)\n",
    "\n",
    "    if analytics:\n",
    "        show_classification_metrics(y['RESULT'], model.predict(X[selected_features]),0.75)\n",
    "        show_classification_metrics(y_valid['RESULT'], model.predict(X_valid[selected_features]))\n",
    "        \n",
    "    return model"
   ]
  },
  {
   "cell_type": "code",
   "execution_count": 16,
   "id": "40d103a3-8042-4fec-95d5-3278f64c6e40",
   "metadata": {},
   "outputs": [],
   "source": [
    "# Some function that prints the classification metrics\n",
    "def show_classification_metrics(y_true, y_pred, multi = 1):\n",
    "    print(\"Accuracy: \" , np.round(multi*accuracy_score(y_true, y_pred),4))\n",
    "    print(\"Weighted F1: \", np.round(f1_score(y_true, y_pred, average = 'weighted'),4))\n",
    "    print(confusion_matrix(y_true, y_pred))"
   ]
  },
  {
   "cell_type": "code",
   "execution_count": 17,
   "id": "0cbb8948-c050-4eae-898a-a0446c067b1e",
   "metadata": {},
   "outputs": [],
   "source": [
    "def find_WL_hyperparams(estimator, param_grid, up_sampled):\n",
    "    '''Grid Searches for the best hyper params using CV, then return the best model fitting on the data'''\n",
    "    X, y =  (X_train_upsampled_WL[selected_features], y_train_upsampled_WL) if up_sampled else (X_train_WL[selected_features], y_train_WL)\n",
    "    \n",
    "    clf = GridSearchCV(estimator = estimator(), param_grid=param_grid, verbose = 1)\n",
    "    clf.fit(X, y)\n",
    "    return clf.best_params_"
   ]
  },
  {
   "cell_type": "markdown",
   "id": "fc1dfe2d-322f-4886-8516-fca41d9746a9",
   "metadata": {},
   "source": [
    "#### Linear Ridge Classifier"
   ]
  },
  {
   "cell_type": "code",
   "execution_count": 18,
   "id": "e9d74b12-f1e3-46f7-a517-82d43715674e",
   "metadata": {},
   "outputs": [
    {
     "name": "stdout",
     "output_type": "stream",
     "text": [
      "Fitting 5 folds for each of 20 candidates, totalling 100 fits\n",
      "{'alpha': 2.6}\n"
     ]
    }
   ],
   "source": [
    "RC_norm_WL_best_param = find_WL_hyperparams(RidgeClassifier, {'alpha' : np.linspace(2.6,2.7,20)}, False)\n",
    "print(RC_norm_WL_best_param)"
   ]
  },
  {
   "cell_type": "code",
   "execution_count": 19,
   "id": "9a717a6a-b992-4a6f-bed4-af8f22315f02",
   "metadata": {},
   "outputs": [
    {
     "name": "stdout",
     "output_type": "stream",
     "text": [
      "\n",
      "Normal Sampled\n",
      "-------------\n",
      "Accuracy:  0.5071\n",
      "Weighted F1:  0.6663\n",
      "[[1182 1245]\n",
      " [ 640 2753]]\n",
      "Accuracy:  0.5089\n",
      "Weighted F1:  0.4269\n",
      "[[286   0 290]\n",
      " [155   0 358]\n",
      " [164   0 716]]\n"
     ]
    }
   ],
   "source": [
    "print(\"\\nNormal Sampled\\n-------------\")\n",
    "RC_norm_WL = fit_WL_classifier(RidgeClassifier, {'alpha' : 2.64}, analytics = True, up_sampled = False); "
   ]
  },
  {
   "cell_type": "markdown",
   "id": "a29560d2-4dc6-4ec9-b35c-05fca0e8beda",
   "metadata": {},
   "source": [
    "#### LDA"
   ]
  },
  {
   "cell_type": "code",
   "execution_count": 20,
   "id": "52d47c26-f8ef-42d3-87a0-dab1a6f48210",
   "metadata": {},
   "outputs": [
    {
     "name": "stdout",
     "output_type": "stream",
     "text": [
      "\n",
      "Normal Sampled\n",
      "-------------\n",
      "Accuracy:  0.508\n",
      "Weighted F1:  0.6678\n",
      "[[1191 1236]\n",
      " [ 642 2751]]\n",
      "Accuracy:  0.5084\n",
      "Weighted F1:  0.4266\n",
      "[[287   0 289]\n",
      " [155   0 358]\n",
      " [166   0 714]]\n"
     ]
    }
   ],
   "source": [
    "# print(\"Upsampled\\n---------\")\n",
    "# LDA_up_WL = fit_WL_classifier(LinearDiscriminantAnalysis, {}, analytics = True, up_sampled = True); \n",
    "\n",
    "print(\"\\nNormal Sampled\\n-------------\")\n",
    "LDA_norm_WL = fit_WL_classifier(LinearDiscriminantAnalysis, {}, analytics = True, up_sampled = False); "
   ]
  },
  {
   "cell_type": "markdown",
   "id": "dcce300d-1a92-4f4c-a384-be9ffc967b51",
   "metadata": {},
   "source": [
    "#### Logistic Regression"
   ]
  },
  {
   "cell_type": "code",
   "execution_count": 21,
   "id": "bf7b4c7a-0c7e-42f8-b7b4-3dce5c5a5fdf",
   "metadata": {},
   "outputs": [
    {
     "name": "stdout",
     "output_type": "stream",
     "text": [
      "Fitting 5 folds for each of 30 candidates, totalling 150 fits\n",
      "{'C': 1.2103448275862068, 'penalty': 'l2'}\n"
     ]
    }
   ],
   "source": [
    "LRC_norm_WL_best_param = find_WL_hyperparams(LogisticRegression, {'penalty' : ['l2'], 'C' : np.linspace(1.2,1.5, 30)}, False)\n",
    "print(LRC_norm_WL_best_param)"
   ]
  },
  {
   "cell_type": "code",
   "execution_count": 22,
   "id": "7bcb6a79-7fb7-444d-8d64-187967dbcfed",
   "metadata": {},
   "outputs": [
    {
     "name": "stdout",
     "output_type": "stream",
     "text": [
      "\n",
      "Normal Sampled\n",
      "-------------\n",
      "Accuracy:  0.508\n",
      "Weighted F1:  0.6676\n",
      "[[1186 1241]\n",
      " [ 637 2756]]\n",
      "Accuracy:  0.5063\n",
      "Weighted F1:  0.425\n",
      "[[286   0 290]\n",
      " [159   0 354]\n",
      " [169   0 711]]\n"
     ]
    }
   ],
   "source": [
    "print(\"\\nNormal Sampled\\n-------------\")\n",
    "LRC_norm_WL = fit_WL_classifier(LogisticRegression, {}, analytics = True, up_sampled = False); "
   ]
  },
  {
   "cell_type": "markdown",
   "id": "99637b8d-974e-4387-a940-adf56ab8243a",
   "metadata": {
    "jp-MarkdownHeadingCollapsed": true
   },
   "source": [
    "#### QDA"
   ]
  },
  {
   "cell_type": "markdown",
   "id": "d14995af-06df-46d7-82e4-08228c7a13ec",
   "metadata": {},
   "source": [
    "QDA is rubbish so I removed it"
   ]
  },
  {
   "cell_type": "markdown",
   "id": "32890040-3462-4071-b494-adb00b5cb7b3",
   "metadata": {},
   "source": [
    "#### KNN"
   ]
  },
  {
   "cell_type": "code",
   "execution_count": 23,
   "id": "1f6fdf0b-fd44-46c1-9b02-46464cb94271",
   "metadata": {},
   "outputs": [
    {
     "name": "stdout",
     "output_type": "stream",
     "text": [
      "Fitting 5 folds for each of 10 candidates, totalling 50 fits\n",
      "{'n_neighbors': 154, 'weights': 'uniform'}\n"
     ]
    }
   ],
   "source": [
    "# KNN_up_WL_best_param = find_WL_hyperparams(KNeighborsClassifier, {'n_neighbors' : range(1,70,5)}, True)\n",
    "# print(KNN_up_WL_best_param)\n",
    "\n",
    "KNN_norm_WL_best_param = find_WL_hyperparams(KNeighborsClassifier, {'n_neighbors' : range(145,155,1),\n",
    "                                                                   'weights' : ['uniform']}, False)\n",
    "print(KNN_norm_WL_best_param)"
   ]
  },
  {
   "cell_type": "code",
   "execution_count": 24,
   "id": "8a379798-b697-4ccc-9023-761d583951ae",
   "metadata": {},
   "outputs": [
    {
     "name": "stdout",
     "output_type": "stream",
     "text": [
      "\n",
      "Normal Sampled\n",
      "-------------\n",
      "Accuracy:  0.4956\n",
      "Weighted F1:  0.6457\n",
      "[[1048 1379]\n",
      " [ 595 2798]]\n",
      "Accuracy:  0.5028\n",
      "Weighted F1:  0.4196\n",
      "[[265   0 311]\n",
      " [137   0 376]\n",
      " [155   0 725]]\n"
     ]
    }
   ],
   "source": [
    "# print(\"Upsampled\\n---------\")\n",
    "# KNN_up_WL = fit_WL_classifier(KNeighborsClassifier, KNN_up_WL_best_param, analytics = True, up_sampled = True); \n",
    "\n",
    "print(\"\\nNormal Sampled\\n-------------\")\n",
    "KNN_norm_WL = fit_WL_classifier(KNeighborsClassifier, {'n_neighbors': 150, 'weights': 'uniform'}, analytics = True, up_sampled = False); "
   ]
  },
  {
   "cell_type": "markdown",
   "id": "39d80fe8-2d20-47c4-9c97-d21e848a8415",
   "metadata": {},
   "source": [
    "#### Random Forest"
   ]
  },
  {
   "cell_type": "markdown",
   "id": "4c328110-9a30-48b1-a6c1-3537d2afb745",
   "metadata": {},
   "source": [
    "I can't stop this from overfitting --> DONT USE"
   ]
  },
  {
   "cell_type": "code",
   "execution_count": 25,
   "id": "4e48231f-cf21-46cd-9331-b3711675dc54",
   "metadata": {},
   "outputs": [],
   "source": [
    "# RFC_norm_WL_best_param = find_WL_hyperparams(RandomForestClassifier, {'min_samples_split' : [10000]}, False)\n",
    "# RFC_norm_WL_best_param"
   ]
  },
  {
   "cell_type": "code",
   "execution_count": 26,
   "id": "5316a7ad-f51b-4755-ad0e-25cba3bc2f38",
   "metadata": {},
   "outputs": [],
   "source": [
    "# print(\"\\nNormal Sampled\\n-------------\")\n",
    "# RFC_norm_WL = fit_WL_classifier(RandomForestClassifier, {}, analytics = True, up_sampled = False);"
   ]
  },
  {
   "cell_type": "markdown",
   "id": "903a10b1-0f7e-4aeb-9622-c465c2961dac",
   "metadata": {},
   "source": [
    "#### AdaBoost "
   ]
  },
  {
   "cell_type": "code",
   "execution_count": 27,
   "id": "c50372f1-ba04-4785-83d9-c1b3012004bd",
   "metadata": {},
   "outputs": [
    {
     "name": "stdout",
     "output_type": "stream",
     "text": [
      "Fitting 5 folds for each of 1 candidates, totalling 5 fits\n"
     ]
    },
    {
     "data": {
      "text/plain": [
       "{'n_estimators': 13}"
      ]
     },
     "execution_count": 27,
     "metadata": {},
     "output_type": "execute_result"
    }
   ],
   "source": [
    "ABC_norm_WL_best_param = find_WL_hyperparams(AdaBoostClassifier, {'n_estimators' : [13]}, False)\n",
    "ABC_norm_WL_best_param"
   ]
  },
  {
   "cell_type": "code",
   "execution_count": 28,
   "id": "8edc930e-b64a-49a4-b4b6-9ca5faf0b156",
   "metadata": {},
   "outputs": [
    {
     "name": "stdout",
     "output_type": "stream",
     "text": [
      "\n",
      "Normal Sampled\n",
      "-------------\n",
      "Accuracy:  0.5089\n",
      "Weighted F1:  0.6711\n",
      "[[1241 1186]\n",
      " [ 685 2708]]\n",
      "Accuracy:  0.5084\n",
      "Weighted F1:  0.4283\n",
      "[[300   0 276]\n",
      " [186   0 327]\n",
      " [179   0 701]]\n"
     ]
    }
   ],
   "source": [
    "# print(\"Upsampled\\n---------\")\n",
    "# ABC_up_WL = fit_WL_classifier(AdaBoostClassifier, {}, analytics = True, up_sampled = True); \n",
    "\n",
    "print(\"\\nNormal Sampled\\n-------------\")\n",
    "ABC_norm_WL = fit_WL_classifier(AdaBoostClassifier, {'n_estimators': 13}, analytics = True, up_sampled = False);"
   ]
  },
  {
   "cell_type": "markdown",
   "id": "0a576f5a-a358-458b-a7f6-80a4548bb687",
   "metadata": {},
   "source": [
    "#### Bagging"
   ]
  },
  {
   "cell_type": "markdown",
   "id": "81e6c88c-8b4c-470d-a5ff-bcfbece47db9",
   "metadata": {},
   "source": [
    "Can't get it to stop overfitting -> don't use"
   ]
  },
  {
   "cell_type": "code",
   "execution_count": 29,
   "id": "5fb4d751-f617-4bbb-9953-39773844cb59",
   "metadata": {},
   "outputs": [],
   "source": [
    "# BC_norm_WL_best_param = find_WL_hyperparams(BaggingClassifier, {'n_estimators' : range(10,20,1)}, False)\n",
    "# BC_norm_WL_best_param"
   ]
  },
  {
   "cell_type": "code",
   "execution_count": 30,
   "id": "95d1b7d3-867c-49fa-bb4d-9368dfc2f207",
   "metadata": {},
   "outputs": [],
   "source": [
    "# # print(\"Upsampled\\n---------\")\n",
    "# # BC_up_WL = fit_WL_classifier(BaggingClassifier, {}, analytics = True, up_sampled = True); \n",
    "\n",
    "# print(\"\\nNormal Sampled\\n-------------\")\n",
    "# BC_norm_WL = fit_WL_classifier(BaggingClassifier, BC_norm_WL_best_param, analytics = True, up_sampled = False);"
   ]
  },
  {
   "cell_type": "markdown",
   "id": "d1743115-60f8-49d8-a5ae-f0f2ec5ed63b",
   "metadata": {},
   "source": [
    "#### Gradient Boosting"
   ]
  },
  {
   "cell_type": "code",
   "execution_count": 31,
   "id": "2a8ed2d6-2220-49ab-ae56-a7bf9efa9b4b",
   "metadata": {},
   "outputs": [
    {
     "name": "stdout",
     "output_type": "stream",
     "text": [
      "Fitting 5 folds for each of 1 candidates, totalling 5 fits\n"
     ]
    },
    {
     "data": {
      "text/plain": [
       "{'n_estimators': 66}"
      ]
     },
     "execution_count": 31,
     "metadata": {},
     "output_type": "execute_result"
    }
   ],
   "source": [
    "GBC_norm_WL_best_param = find_WL_hyperparams(GradientBoostingClassifier, {'n_estimators' : [66]}, False)\n",
    "GBC_norm_WL_best_param"
   ]
  },
  {
   "cell_type": "code",
   "execution_count": 32,
   "id": "a76050c0-6920-46e5-8274-2fd87f018493",
   "metadata": {},
   "outputs": [
    {
     "name": "stdout",
     "output_type": "stream",
     "text": [
      "\n",
      "Normal Sampled\n",
      "-------------\n",
      "Accuracy:  0.5335\n",
      "Weighted F1:  0.7038\n",
      "[[1314 1113]\n",
      " [ 567 2826]]\n",
      "Accuracy:  0.5104\n",
      "Weighted F1:  0.4287\n",
      "[[289   0 287]\n",
      " [183   0 330]\n",
      " [164   0 716]]\n"
     ]
    }
   ],
   "source": [
    "# print(\"Upsampled\\n---------\")\n",
    "# GBC_up_WL = fit_WL_classifier(GradientBoostingClassifier, {}, analytics = True, up_sampled = True); \n",
    "\n",
    "print(\"\\nNormal Sampled\\n-------------\")\n",
    "GBC_norm_WL = fit_WL_classifier(GradientBoostingClassifier, GBC_norm_WL_best_param, analytics = True, up_sampled = False);"
   ]
  },
  {
   "cell_type": "markdown",
   "id": "b8e43182-0eb3-41bb-a7de-2ed98e866166",
   "metadata": {},
   "source": [
    "#### NN Classifier"
   ]
  },
  {
   "cell_type": "code",
   "execution_count": 33,
   "id": "cca4fce2-bc33-4d29-9da7-811ed83a6d16",
   "metadata": {},
   "outputs": [
    {
     "name": "stdout",
     "output_type": "stream",
     "text": [
      "Fitting 5 folds for each of 1 candidates, totalling 5 fits\n"
     ]
    },
    {
     "data": {
      "text/plain": [
       "{'activation': 'logistic', 'early_stopping': True, 'hidden_layer_sizes': 100}"
      ]
     },
     "execution_count": 33,
     "metadata": {},
     "output_type": "execute_result"
    }
   ],
   "source": [
    "NNC_norm_WL_best_param = find_WL_hyperparams(MLPClassifier, {'hidden_layer_sizes' : [(100)],\n",
    "                                                             'activation' : ['logistic'], 'early_stopping' :[True]}, False)\n",
    "NNC_norm_WL_best_param"
   ]
  },
  {
   "cell_type": "code",
   "execution_count": 34,
   "id": "6c1a2a00-e6e0-401c-800c-8398bbbb0ecb",
   "metadata": {},
   "outputs": [
    {
     "name": "stdout",
     "output_type": "stream",
     "text": [
      "\n",
      "Normal Sampled\n",
      "-------------\n",
      "Accuracy:  0.503\n",
      "Weighted F1:  0.6607\n",
      "[[1168 1259]\n",
      " [ 658 2735]]\n",
      "Accuracy:  0.5069\n",
      "Weighted F1:  0.4256\n",
      "[[288   0 288]\n",
      " [162   0 351]\n",
      " [170   0 710]]\n"
     ]
    }
   ],
   "source": [
    "# print(\"Upsampled\\n---------\")\n",
    "# NNC_up_WL = fit_WL_classifier(MLPClassifier, {}, analytics = True, up_sampled = True); \n",
    "\n",
    "print(\"\\nNormal Sampled\\n-------------\")\n",
    "NNC_norm_WL = fit_WL_classifier(MLPClassifier, NNC_norm_WL_best_param, analytics = True, up_sampled = False);"
   ]
  },
  {
   "cell_type": "markdown",
   "id": "4142d3b5-af89-4e52-8ebb-48d8af9868a0",
   "metadata": {},
   "source": [
    "#### Best WL Classifiers"
   ]
  },
  {
   "cell_type": "markdown",
   "id": "c7fa3224-3b62-4fbf-bc68-4c375333e785",
   "metadata": {},
   "source": [
    "Interestingly, the linear classifiers are doing really well.  Having said that all, apart from the NN are beating the top score in their own right, so lets put them all togther. "
   ]
  },
  {
   "cell_type": "code",
   "execution_count": 76,
   "id": "5d661111-4b3c-498a-b04f-70c6c3ee3dc7",
   "metadata": {},
   "outputs": [
    {
     "name": "stdout",
     "output_type": "stream",
     "text": [
      "Accuracy:  0.5151\n",
      "Weighted F1:  0.6768\n",
      "[[1203 1224]\n",
      " [ 599 2794]]\n",
      "Accuracy:  0.5069\n",
      "Weighted F1:  0.4253\n",
      "[[285   0 291]\n",
      " [161   0 352]\n",
      " [167   0 713]]\n"
     ]
    }
   ],
   "source": [
    "WL_voting_clf = VotingClassifier(estimators = [\n",
    "                                 # ('NNC', NNC_norm_WL), \n",
    "                                 ('GBC', GBC_norm_WL),\n",
    "                                 ('ABC', ABC_norm_WL),\n",
    "                                 ('KNN', KNN_norm_WL),\n",
    "                                 ('LRC', LRC_norm_WL), \n",
    "                                 ('LDA', LDA_norm_WL),\n",
    "                                 # ('RC', RC_norm_WL) # We have to ignore this as we are using voting = 'soft'\n",
    "                                ],\n",
    "                                voting = 'hard')\n",
    "WL_voting_clf.fit(X_train_WL[selected_features], y_train_WL)  \n",
    "show_classification_metrics(y_train_WL['RESULT'], WL_voting_clf.predict(X_train_WL[selected_features]),0.75)\n",
    "show_classification_metrics(y_valid['RESULT'], WL_voting_clf.predict(X_valid[selected_features]))\n",
    "                                 \n",
    "                                 "
   ]
  },
  {
   "cell_type": "markdown",
   "id": "0cf305bb-29b5-4067-b70c-326035ebcc8b",
   "metadata": {},
   "source": [
    "So this classifier seems to be working rather well! Now lets try and predict WDL"
   ]
  },
  {
   "cell_type": "markdown",
   "id": "819da38d-8e30-49ee-bc28-f81386ad427e",
   "metadata": {
    "jp-MarkdownHeadingCollapsed": true
   },
   "source": [
    "### WDL Classification "
   ]
  },
  {
   "cell_type": "code",
   "execution_count": 36,
   "id": "2f54d06e-87b5-41e1-be33-f40aca40e937",
   "metadata": {},
   "outputs": [],
   "source": [
    "def fit_WLD_classifier(model_type, model_params = None, OvR = True):\n",
    "    ''' Fits a model to the data give with the model_params. Then prints analytics so we get an idea of the model'''\n",
    "    X, y =  (X_train[selected_features], y_train)\n",
    "    \n",
    "    model_params = {} if model_params is None else model_params\n",
    "    \n",
    "    model = OneVsRestClassifier(model_type(**model_params)) if OvR else OneVsOneClassifier(model_type(**model_params))\n",
    "    model.fit(X, y)\n",
    "\n",
    "   \n",
    "    show_classification_metrics(y['RESULT'], model.predict(X[selected_features]))\n",
    "    show_classification_metrics(y_valid['RESULT'], model.predict(X_valid[selected_features]))\n",
    "        \n",
    "    return model"
   ]
  },
  {
   "cell_type": "code",
   "execution_count": 37,
   "id": "d20aae5a-4175-4591-a6b2-ead8a3b08d29",
   "metadata": {},
   "outputs": [],
   "source": [
    "def get_classifier_dict(grid_search_dict): # This will remove the estimator__ predix\n",
    "    return {k[11:] : v for k, v in grid_search_dict.items()}"
   ]
  },
  {
   "cell_type": "code",
   "execution_count": 38,
   "id": "12fe4440-da24-4397-a226-dcbc50d9bdc6",
   "metadata": {},
   "outputs": [],
   "source": [
    "def find_WLD_hyperparams(estimator, param_grid):\n",
    "    '''Grid Searches for the best hyper params using CV, then return the best model fitting on the data'''\n",
    "    X, y =  (X_train[selected_features], y_train)\n",
    "    \n",
    "    clf = GridSearchCV(estimator = OneVsRestClassifier(estimator()), param_grid=param_grid, verbose = 1)\n",
    "    clf.fit(X, y)\n",
    "    return get_classifier_dict(clf.best_params_)"
   ]
  },
  {
   "cell_type": "markdown",
   "id": "e0421163-bd90-476e-8523-18ceddae5fe2",
   "metadata": {},
   "source": [
    "#### Ridge Classifier"
   ]
  },
  {
   "cell_type": "code",
   "execution_count": 39,
   "id": "d5dbb8a2-a9e9-49b9-8501-bb9803b83e5c",
   "metadata": {},
   "outputs": [
    {
     "name": "stdout",
     "output_type": "stream",
     "text": [
      "Fitting 5 folds for each of 20 candidates, totalling 100 fits\n",
      "{'alpha': 1.0}\n"
     ]
    }
   ],
   "source": [
    "RC_norm_WLD_best_param = find_WLD_hyperparams(RidgeClassifier, {'estimator__alpha' : np.linspace(1,1.7,20)})\n",
    "print(RC_norm_WLD_best_param)"
   ]
  },
  {
   "cell_type": "code",
   "execution_count": 40,
   "id": "afc4f1d2-8e09-4f64-b0ab-fc9729d7dbe9",
   "metadata": {},
   "outputs": [
    {
     "name": "stdout",
     "output_type": "stream",
     "text": [
      "\n",
      "Normal Sampled\n",
      "-------------\n",
      "Accuracy:  0.5021\n",
      "Weighted F1:  0.4227\n",
      "[[1204    6 1217]\n",
      " [ 680    7 1366]\n",
      " [ 642    9 2742]]\n",
      "Accuracy:  0.5094\n",
      "Weighted F1:  0.4279\n",
      "[[289   0 287]\n",
      " [156   0 357]\n",
      " [164   2 714]]\n"
     ]
    }
   ],
   "source": [
    "print(\"\\nNormal Sampled\\n-------------\")\n",
    "RC_norm_WLD = fit_WLD_classifier(RidgeClassifier, RC_norm_WLD_best_param); "
   ]
  },
  {
   "cell_type": "markdown",
   "id": "8e078603-c784-42bb-8af9-93dcf23e14bb",
   "metadata": {},
   "source": [
    "#### LDA"
   ]
  },
  {
   "cell_type": "code",
   "execution_count": 41,
   "id": "db739e75-4ef8-4a93-9463-79f15cd01cd6",
   "metadata": {},
   "outputs": [
    {
     "name": "stdout",
     "output_type": "stream",
     "text": [
      "\n",
      "Normal Sampled\n",
      "-------------\n",
      "Accuracy:  0.502\n",
      "Weighted F1:  0.4256\n",
      "[[1197   20 1210]\n",
      " [ 676   21 1356]\n",
      " [ 642   17 2734]]\n",
      "Accuracy:  0.5069\n",
      "Weighted F1:  0.428\n",
      "[[286   4 286]\n",
      " [155   2 356]\n",
      " [164   6 710]]\n"
     ]
    }
   ],
   "source": [
    "print(\"\\nNormal Sampled\\n-------------\")\n",
    "LDA_norm_WLD = fit_WLD_classifier(LinearDiscriminantAnalysis, {});"
   ]
  },
  {
   "cell_type": "markdown",
   "id": "6a3af006-2515-42b1-b9ca-9d79f48ebbf3",
   "metadata": {},
   "source": [
    "#### KNN"
   ]
  },
  {
   "cell_type": "code",
   "execution_count": 42,
   "id": "70f161e0-6ba2-45fe-9a25-3c1bb8509e0a",
   "metadata": {},
   "outputs": [
    {
     "name": "stdout",
     "output_type": "stream",
     "text": [
      "Fitting 5 folds for each of 10 candidates, totalling 50 fits\n",
      "{'n_neighbors': 60}\n"
     ]
    }
   ],
   "source": [
    "KNN_norm_WLD_best_param = find_WLD_hyperparams(KNeighborsClassifier, {'estimator__n_neighbors' : range(60,70, 1)})\n",
    "print(KNN_norm_WLD_best_param)"
   ]
  },
  {
   "cell_type": "code",
   "execution_count": 43,
   "id": "7228f407-45e3-4a32-a88d-6f7129f51d42",
   "metadata": {},
   "outputs": [
    {
     "name": "stdout",
     "output_type": "stream",
     "text": [
      "\n",
      "Normal Sampled\n",
      "-------------\n",
      "Accuracy:  0.4998\n",
      "Weighted F1:  0.4476\n",
      "[[1039  130 1258]\n",
      " [ 513  179 1361]\n",
      " [ 527  149 2717]]\n",
      "Accuracy:  0.5074\n",
      "Weighted F1:  0.4541\n",
      "[[255  38 283]\n",
      " [140  42 331]\n",
      " [149  29 702]]\n"
     ]
    }
   ],
   "source": [
    "print(\"\\nNormal Sampled\\n-------------\")\n",
    "KNN_norm_WLD = fit_WLD_classifier(KNeighborsClassifier, KNN_norm_WLD_best_param); "
   ]
  },
  {
   "cell_type": "markdown",
   "id": "20f225ff-337d-44de-af3b-1c7569a8c142",
   "metadata": {},
   "source": [
    "#### Adaboost "
   ]
  },
  {
   "cell_type": "code",
   "execution_count": 44,
   "id": "62c62272-f4b4-4d70-b961-fb643a95606c",
   "metadata": {},
   "outputs": [
    {
     "name": "stdout",
     "output_type": "stream",
     "text": [
      "Fitting 5 folds for each of 6 candidates, totalling 30 fits\n",
      "{'n_estimators': 1}\n"
     ]
    }
   ],
   "source": [
    "ABC_norm_WLD_best_param = find_WLD_hyperparams(AdaBoostClassifier, {'estimator__n_estimators' : range(0,6)})\n",
    "print(ABC_norm_WLD_best_param)"
   ]
  },
  {
   "cell_type": "code",
   "execution_count": 45,
   "id": "ddca9a8e-da76-4e0b-8911-b437e97a65b6",
   "metadata": {},
   "outputs": [
    {
     "name": "stdout",
     "output_type": "stream",
     "text": [
      "\n",
      "Normal Sampled\n",
      "-------------\n",
      "Accuracy:  0.4885\n",
      "Weighted F1:  0.3922\n",
      "[[ 761    0 1666]\n",
      " [ 310    0 1743]\n",
      " [ 308    0 3085]]\n",
      "Accuracy:  0.5084\n",
      "Weighted F1:  0.4119\n",
      "[[197   0 379]\n",
      " [ 88   0 425]\n",
      " [ 76   0 804]]\n"
     ]
    }
   ],
   "source": [
    "print(\"\\nNormal Sampled\\n-------------\")\n",
    "ABC_norm_WLD = fit_WLD_classifier(AdaBoostClassifier, ABC_norm_WLD_best_param); "
   ]
  },
  {
   "cell_type": "markdown",
   "id": "40181c76-6eaa-4657-8594-2ba7def6644c",
   "metadata": {},
   "source": [
    "#### Gradient Boosting"
   ]
  },
  {
   "cell_type": "code",
   "execution_count": 46,
   "id": "a8750781-384f-4728-a417-89a62fc6f250",
   "metadata": {},
   "outputs": [
    {
     "name": "stdout",
     "output_type": "stream",
     "text": [
      "Fitting 5 folds for each of 5 candidates, totalling 25 fits\n",
      "{'n_estimators': 38}\n"
     ]
    }
   ],
   "source": [
    "GBC_norm_WLD_best_param = find_WLD_hyperparams(GradientBoostingClassifier, {'estimator__n_estimators' : range(35,40, 1)})\n",
    "print(GBC_norm_WLD_best_param)"
   ]
  },
  {
   "cell_type": "code",
   "execution_count": 47,
   "id": "602d99a9-c75c-4400-bec6-a60cd6a202d7",
   "metadata": {},
   "outputs": [
    {
     "name": "stdout",
     "output_type": "stream",
     "text": [
      "\n",
      "Normal Sampled\n",
      "-------------\n",
      "Accuracy:  0.5194\n",
      "Weighted F1:  0.4456\n",
      "[[1236   11 1180]\n",
      " [ 632   55 1366]\n",
      " [ 586    9 2798]]\n",
      "Accuracy:  0.5135\n",
      "Weighted F1:  0.4371\n",
      "[[286   8 282]\n",
      " [160   7 346]\n",
      " [157   5 718]]\n"
     ]
    }
   ],
   "source": [
    "print(\"\\nNormal Sampled\\n-------------\")\n",
    "GBC_norm_WLD = fit_WLD_classifier(GradientBoostingClassifier, GBC_norm_WLD_best_param);"
   ]
  },
  {
   "cell_type": "markdown",
   "id": "8da6f7e5-79f5-4866-8757-e4be694e8ee9",
   "metadata": {},
   "source": [
    "#### NN "
   ]
  },
  {
   "cell_type": "code",
   "execution_count": 48,
   "id": "fbb1da8a-058b-49d9-9c7e-86f35901c03d",
   "metadata": {},
   "outputs": [
    {
     "name": "stdout",
     "output_type": "stream",
     "text": [
      "Fitting 5 folds for each of 1 candidates, totalling 5 fits\n"
     ]
    },
    {
     "data": {
      "text/plain": [
       "{'activation': 'logistic', 'early_stopping': True, 'hidden_layer_sizes': 100}"
      ]
     },
     "execution_count": 48,
     "metadata": {},
     "output_type": "execute_result"
    }
   ],
   "source": [
    "NNC_norm_WLD_best_param = find_WLD_hyperparams(MLPClassifier, {'estimator__hidden_layer_sizes' : [(100)],\n",
    "                                                             'estimator__activation' : ['logistic'], 'estimator__early_stopping' :[True]})\n",
    "NNC_norm_WLD_best_param"
   ]
  },
  {
   "cell_type": "code",
   "execution_count": 49,
   "id": "6e2981cf-9bb2-4d49-b762-2406e05d89b0",
   "metadata": {},
   "outputs": [
    {
     "name": "stdout",
     "output_type": "stream",
     "text": [
      "Accuracy:  0.4914\n",
      "Weighted F1:  0.4114\n",
      "[[1156    0 1271]\n",
      " [ 650    0 1403]\n",
      " [ 680    0 2713]]\n",
      "Accuracy:  0.5038\n",
      "Weighted F1:  0.4234\n",
      "[[289   0 287]\n",
      " [165   0 348]\n",
      " [177   0 703]]\n"
     ]
    }
   ],
   "source": [
    "NNC_norm_WLD = fit_WLD_classifier(MLPClassifier, NNC_norm_WLD_best_param);"
   ]
  },
  {
   "cell_type": "markdown",
   "id": "333ef540-7c16-4836-b628-465e4af860c9",
   "metadata": {},
   "source": [
    "#### WLD Conclusions"
   ]
  },
  {
   "cell_type": "markdown",
   "id": "9d85052f-978d-474e-8cc0-4b4db328393a",
   "metadata": {},
   "source": [
    "There seems to be no real improvement over using the WL classifier, therefore we will only use that. "
   ]
  },
  {
   "cell_type": "markdown",
   "id": "85bc5951-9624-412a-814c-ff3d3f0f6fd9",
   "metadata": {},
   "source": [
    "## Testing and Saving WL Classifier"
   ]
  },
  {
   "cell_type": "markdown",
   "id": "3d67f03a-a38c-4bb0-9ff6-92eba003f47c",
   "metadata": {},
   "source": [
    "To check that we haven't done any silly overfitting, we can print the scores on each of the training, validation and test data set."
   ]
  },
  {
   "cell_type": "code",
   "execution_count": 77,
   "id": "5b1bae19-9d7c-4fe5-902f-4069e138184d",
   "metadata": {},
   "outputs": [
    {
     "name": "stdout",
     "output_type": "stream",
     "text": [
      "Training Scores\n",
      "---------------\n",
      "Accuracy:  0.5151\n",
      "Weighted F1:  0.6768\n",
      "[[1203 1224]\n",
      " [ 599 2794]]\n",
      "\n",
      "Validation Scores\n",
      "-----------------\n",
      "Accuracy:  0.5069\n",
      "Weighted F1:  0.4253\n",
      "[[285   0 291]\n",
      " [161   0 352]\n",
      " [167   0 713]]\n",
      "\n",
      "Testing Scores\n",
      "--------------\n",
      "Accuracy:  0.5063\n",
      "Weighted F1:  0.4262\n",
      "[[361   0 397]\n",
      " [173   0 447]\n",
      " [198   0 885]]\n"
     ]
    }
   ],
   "source": [
    "print(\"Training Scores\\n---------------\")\n",
    "show_classification_metrics(y_train_WL['RESULT'], WL_voting_clf.predict(X_train_WL[selected_features]),0.75)\n",
    "\n",
    "print(\"\\nValidation Scores\\n-----------------\")\n",
    "show_classification_metrics(y_valid['RESULT'], WL_voting_clf.predict(X_valid[selected_features]))\n",
    "\n",
    "print(\"\\nTesting Scores\\n--------------\")\n",
    "show_classification_metrics(y_test['RESULT'], WL_voting_clf.predict(X_test[selected_features]))"
   ]
  },
  {
   "cell_type": "markdown",
   "id": "cdee9c64-1d9a-4810-891b-4f33411d0cfd",
   "metadata": {},
   "source": [
    "i.e. we seem to be doing pretty well! I guess we should now go ahead and train this model"
   ]
  },
  {
   "cell_type": "code",
   "execution_count": 86,
   "id": "3500954c-8c70-489e-bfee-1aac5e2c65ce",
   "metadata": {},
   "outputs": [],
   "source": [
    "with open('WL_Model/WL_prediction.pkl', 'wb') as f:\n",
    "    pickle.dump(WL_voting_clf, f)"
   ]
  },
  {
   "cell_type": "code",
   "execution_count": 87,
   "id": "0367db36-b0a6-4f00-b0cf-729d78e4a114",
   "metadata": {},
   "outputs": [],
   "source": [
    "features = pd.DataFrame({'Features' : selected_features})\n",
    "features.to_csv(\"WL_Model/WL_model_features.csv\")"
   ]
  },
  {
   "cell_type": "code",
   "execution_count": null,
   "id": "7fd7c32a-4e17-4c48-b100-c53aed6eb6ef",
   "metadata": {},
   "outputs": [],
   "source": []
  }
 ],
 "metadata": {
  "kernelspec": {
   "display_name": "Python 3 (ipykernel)",
   "language": "python",
   "name": "python3"
  },
  "language_info": {
   "codemirror_mode": {
    "name": "ipython",
    "version": 3
   },
   "file_extension": ".py",
   "mimetype": "text/x-python",
   "name": "python",
   "nbconvert_exporter": "python",
   "pygments_lexer": "ipython3",
   "version": "3.11.7"
  }
 },
 "nbformat": 4,
 "nbformat_minor": 5
}
